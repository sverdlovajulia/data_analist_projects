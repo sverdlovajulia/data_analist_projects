{
 "cells": [
  {
   "cell_type": "markdown",
   "metadata": {},
   "source": [
    "# Анализ рынка заведений общественного питания Москвы"
   ]
  },
  {
   "cell_type": "markdown",
   "metadata": {},
   "source": [
    "**Задача:**\n",
    "\n",
    "Задача проекта - исследовать заведений рынок общественного питания Москвы. Заказчик планирует открыть в Москве необычное кафе - вместо официантов гостей будут обслуживать роботы. Однако инвесторы неуверены, сможет ли такой проект снискать популярность. Необходимо провести общее исследование рынка заведений, изучить его особенности и предоставить рекомендации по расположению и другим характеристикам для нового кафе."
   ]
  },
  {
   "cell_type": "markdown",
   "metadata": {},
   "source": [
    "## 1 Вывод данных и предобработка"
   ]
  },
  {
   "cell_type": "markdown",
   "metadata": {},
   "source": [
    "В нашем распоряжении таблица, содержащая данные о заведениях общественного питания Москвы. Таблица содержит следующие столбцы:\n",
    "* **id** — идентификатор объекта;\n",
    "* **object_name** — название объекта общественного питания;\n",
    "* **chain** — сетевой ресторан;\n",
    "* **object_type** — тип объекта общественного питания;\n",
    "* **address** — адрес;\n",
    "* **number** — количество посадочных мест."
   ]
  },
  {
   "cell_type": "code",
   "execution_count": 1,
   "metadata": {},
   "outputs": [],
   "source": [
    "# импорт библиотек\n",
    "import pandas as pd\n",
    "import numpy as np\n",
    "import seaborn as sns\n",
    "import requests\n",
    "import re\n",
    "import matplotlib.pyplot as plt\n",
    "\n",
    "from pandas.plotting import register_matplotlib_converters\n",
    "register_matplotlib_converters()"
   ]
  },
  {
   "cell_type": "code",
   "execution_count": 4,
   "metadata": {},
   "outputs": [],
   "source": [
    "# pip install -U seaborn"
   ]
  },
  {
   "cell_type": "code",
   "execution_count": 3,
   "metadata": {},
   "outputs": [],
   "source": [
    "# импорт данных\n",
    "rest_data = pd.read_csv('/datasets/rest_data.csv')"
   ]
  },
  {
   "cell_type": "markdown",
   "metadata": {},
   "source": [
    "Напишем функцию, которая выводит первые пять строк таблицы, информацию о таблице, количество пропустков в столбцах и количество дубликатов:"
   ]
  },
  {
   "cell_type": "code",
   "execution_count": 4,
   "metadata": {},
   "outputs": [],
   "source": [
    "def info(data):\n",
    "    display(data.head())\n",
    "    print('Информация о таблице')\n",
    "    display(data.info())\n",
    "    print('Количество пропусков')\n",
    "    display(data.isnull().sum())\n",
    "    print('Количество дубликатов')\n",
    "    display(data.duplicated().sum())"
   ]
  },
  {
   "cell_type": "code",
   "execution_count": 5,
   "metadata": {},
   "outputs": [
    {
     "data": {
      "text/html": [
       "<div>\n",
       "<style scoped>\n",
       "    .dataframe tbody tr th:only-of-type {\n",
       "        vertical-align: middle;\n",
       "    }\n",
       "\n",
       "    .dataframe tbody tr th {\n",
       "        vertical-align: top;\n",
       "    }\n",
       "\n",
       "    .dataframe thead th {\n",
       "        text-align: right;\n",
       "    }\n",
       "</style>\n",
       "<table border=\"1\" class=\"dataframe\">\n",
       "  <thead>\n",
       "    <tr style=\"text-align: right;\">\n",
       "      <th></th>\n",
       "      <th>id</th>\n",
       "      <th>object_name</th>\n",
       "      <th>chain</th>\n",
       "      <th>object_type</th>\n",
       "      <th>address</th>\n",
       "      <th>number</th>\n",
       "    </tr>\n",
       "  </thead>\n",
       "  <tbody>\n",
       "    <tr>\n",
       "      <td>0</td>\n",
       "      <td>151635</td>\n",
       "      <td>СМЕТАНА</td>\n",
       "      <td>нет</td>\n",
       "      <td>кафе</td>\n",
       "      <td>город Москва, улица Егора Абакумова, дом 9</td>\n",
       "      <td>48</td>\n",
       "    </tr>\n",
       "    <tr>\n",
       "      <td>1</td>\n",
       "      <td>77874</td>\n",
       "      <td>Родник</td>\n",
       "      <td>нет</td>\n",
       "      <td>кафе</td>\n",
       "      <td>город Москва, улица Талалихина, дом 2/1, корпус 1</td>\n",
       "      <td>35</td>\n",
       "    </tr>\n",
       "    <tr>\n",
       "      <td>2</td>\n",
       "      <td>24309</td>\n",
       "      <td>Кафе «Академия»</td>\n",
       "      <td>нет</td>\n",
       "      <td>кафе</td>\n",
       "      <td>город Москва, Абельмановская улица, дом 6</td>\n",
       "      <td>95</td>\n",
       "    </tr>\n",
       "    <tr>\n",
       "      <td>3</td>\n",
       "      <td>21894</td>\n",
       "      <td>ПИЦЦЕТОРИЯ</td>\n",
       "      <td>да</td>\n",
       "      <td>кафе</td>\n",
       "      <td>город Москва, Абрамцевская улица, дом 1</td>\n",
       "      <td>40</td>\n",
       "    </tr>\n",
       "    <tr>\n",
       "      <td>4</td>\n",
       "      <td>119365</td>\n",
       "      <td>Кафе «Вишневая метель»</td>\n",
       "      <td>нет</td>\n",
       "      <td>кафе</td>\n",
       "      <td>город Москва, Абрамцевская улица, дом 9, корпус 1</td>\n",
       "      <td>50</td>\n",
       "    </tr>\n",
       "  </tbody>\n",
       "</table>\n",
       "</div>"
      ],
      "text/plain": [
       "       id             object_name chain object_type  \\\n",
       "0  151635                 СМЕТАНА   нет        кафе   \n",
       "1   77874                  Родник   нет        кафе   \n",
       "2   24309         Кафе «Академия»   нет        кафе   \n",
       "3   21894              ПИЦЦЕТОРИЯ    да        кафе   \n",
       "4  119365  Кафе «Вишневая метель»   нет        кафе   \n",
       "\n",
       "                                             address  number  \n",
       "0         город Москва, улица Егора Абакумова, дом 9      48  \n",
       "1  город Москва, улица Талалихина, дом 2/1, корпус 1      35  \n",
       "2          город Москва, Абельмановская улица, дом 6      95  \n",
       "3            город Москва, Абрамцевская улица, дом 1      40  \n",
       "4  город Москва, Абрамцевская улица, дом 9, корпус 1      50  "
      ]
     },
     "metadata": {},
     "output_type": "display_data"
    },
    {
     "name": "stdout",
     "output_type": "stream",
     "text": [
      "Информация о таблице\n",
      "<class 'pandas.core.frame.DataFrame'>\n",
      "RangeIndex: 15366 entries, 0 to 15365\n",
      "Data columns (total 6 columns):\n",
      "id             15366 non-null int64\n",
      "object_name    15366 non-null object\n",
      "chain          15366 non-null object\n",
      "object_type    15366 non-null object\n",
      "address        15366 non-null object\n",
      "number         15366 non-null int64\n",
      "dtypes: int64(2), object(4)\n",
      "memory usage: 720.4+ KB\n"
     ]
    },
    {
     "data": {
      "text/plain": [
       "None"
      ]
     },
     "metadata": {},
     "output_type": "display_data"
    },
    {
     "name": "stdout",
     "output_type": "stream",
     "text": [
      "Количество пропусков\n"
     ]
    },
    {
     "data": {
      "text/plain": [
       "id             0\n",
       "object_name    0\n",
       "chain          0\n",
       "object_type    0\n",
       "address        0\n",
       "number         0\n",
       "dtype: int64"
      ]
     },
     "metadata": {},
     "output_type": "display_data"
    },
    {
     "name": "stdout",
     "output_type": "stream",
     "text": [
      "Количество дубликатов\n"
     ]
    },
    {
     "data": {
      "text/plain": [
       "0"
      ]
     },
     "metadata": {},
     "output_type": "display_data"
    }
   ],
   "source": [
    "info(rest_data)"
   ]
  },
  {
   "cell_type": "code",
   "execution_count": 6,
   "metadata": {},
   "outputs": [],
   "source": [
    "# приведем названия заведений к нижнему регистру, чтобы избавиться от части неявных дубликатов\n",
    "rest_data['object_name'] = rest_data['object_name'].str.lower()"
   ]
  },
  {
   "cell_type": "markdown",
   "metadata": {},
   "source": [
    "В таблице не обнаружено не пропусков ни явных дубликатов. Данные готовы к работе."
   ]
  },
  {
   "cell_type": "markdown",
   "metadata": {},
   "source": [
    "## 2 Анализ данных"
   ]
  },
  {
   "cell_type": "markdown",
   "metadata": {},
   "source": [
    "### 2.1 Исследование соотношения видов объектов общественного питания по количеству"
   ]
  },
  {
   "cell_type": "markdown",
   "metadata": {},
   "source": [
    "Посчитаем количество заведений каждого типа в городе и их долю среди всех заведений. Построим график."
   ]
  },
  {
   "cell_type": "code",
   "execution_count": 7,
   "metadata": {},
   "outputs": [
    {
     "data": {
      "text/html": [
       "<div>\n",
       "<style scoped>\n",
       "    .dataframe tbody tr th:only-of-type {\n",
       "        vertical-align: middle;\n",
       "    }\n",
       "\n",
       "    .dataframe tbody tr th {\n",
       "        vertical-align: top;\n",
       "    }\n",
       "\n",
       "    .dataframe thead th {\n",
       "        text-align: right;\n",
       "    }\n",
       "</style>\n",
       "<table border=\"1\" class=\"dataframe\">\n",
       "  <thead>\n",
       "    <tr style=\"text-align: right;\">\n",
       "      <th></th>\n",
       "      <th>count</th>\n",
       "      <th>ratio</th>\n",
       "    </tr>\n",
       "    <tr>\n",
       "      <th>object_type</th>\n",
       "      <th></th>\n",
       "      <th></th>\n",
       "    </tr>\n",
       "  </thead>\n",
       "  <tbody>\n",
       "    <tr>\n",
       "      <td>кафе</td>\n",
       "      <td>6099</td>\n",
       "      <td>0.40</td>\n",
       "    </tr>\n",
       "    <tr>\n",
       "      <td>столовая</td>\n",
       "      <td>2587</td>\n",
       "      <td>0.17</td>\n",
       "    </tr>\n",
       "    <tr>\n",
       "      <td>ресторан</td>\n",
       "      <td>2285</td>\n",
       "      <td>0.15</td>\n",
       "    </tr>\n",
       "    <tr>\n",
       "      <td>предприятие быстрого обслуживания</td>\n",
       "      <td>1923</td>\n",
       "      <td>0.13</td>\n",
       "    </tr>\n",
       "    <tr>\n",
       "      <td>бар</td>\n",
       "      <td>856</td>\n",
       "      <td>0.06</td>\n",
       "    </tr>\n",
       "    <tr>\n",
       "      <td>буфет</td>\n",
       "      <td>585</td>\n",
       "      <td>0.04</td>\n",
       "    </tr>\n",
       "    <tr>\n",
       "      <td>кафетерий</td>\n",
       "      <td>398</td>\n",
       "      <td>0.03</td>\n",
       "    </tr>\n",
       "    <tr>\n",
       "      <td>закусочная</td>\n",
       "      <td>360</td>\n",
       "      <td>0.02</td>\n",
       "    </tr>\n",
       "    <tr>\n",
       "      <td>магазин (отдел кулинарии)</td>\n",
       "      <td>273</td>\n",
       "      <td>0.02</td>\n",
       "    </tr>\n",
       "  </tbody>\n",
       "</table>\n",
       "</div>"
      ],
      "text/plain": [
       "                                   count  ratio\n",
       "object_type                                    \n",
       "кафе                                6099   0.40\n",
       "столовая                            2587   0.17\n",
       "ресторан                            2285   0.15\n",
       "предприятие быстрого обслуживания   1923   0.13\n",
       "бар                                  856   0.06\n",
       "буфет                                585   0.04\n",
       "кафетерий                            398   0.03\n",
       "закусочная                           360   0.02\n",
       "магазин (отдел кулинарии)            273   0.02"
      ]
     },
     "metadata": {},
     "output_type": "display_data"
    },
    {
     "data": {
      "image/png": "[encoded data removed]",
      "text/plain": [
       "<Figure size 792x792 with 1 Axes>"
      ]
     },
     "metadata": {},
     "output_type": "display_data"
    }
   ],
   "source": [
    "# группировка по типу заведения, подсчет количества заведений каждого типа\n",
    "object_count = rest_data.groupby(['object_type']).agg(\n",
    "    {'id':'count'}).rename(\n",
    "    columns={'id':'count'}).sort_values(\n",
    "    by='count',ascending=False)\n",
    "\n",
    "# подсчет доли завелений каждого типа среди всех заведений\n",
    "object_count['ratio'] = round(object_count['count'] / object_count['count'].sum(),2)\n",
    "\n",
    "display(object_count)\n",
    "object_count.plot(y='count', kind = 'pie',figsize=(11,11),autopct='%1.f%%')\n",
    "plt.title(\"Соотношение заведений разных типов\", fontsize = 20)\n",
    "plt.show()"
   ]
  },
  {
   "cell_type": "markdown",
   "metadata": {},
   "source": [
    "Видно, что больше всего в городе кафе (40%), на втором месте столовые (17%), на третьем рестораны (15%)."
   ]
  },
  {
   "cell_type": "markdown",
   "metadata": {},
   "source": [
    "### 2.2 Исследование соотношения сетевых и несетевых заведений по количеству"
   ]
  },
  {
   "cell_type": "markdown",
   "metadata": {},
   "source": [
    "Посчитаем количество сетевых и несетевых заведений в городе и их долю от общего числа заведений. Построим график."
   ]
  },
  {
   "cell_type": "code",
   "execution_count": 8,
   "metadata": {},
   "outputs": [
    {
     "data": {
      "text/html": [
       "<div>\n",
       "<style scoped>\n",
       "    .dataframe tbody tr th:only-of-type {\n",
       "        vertical-align: middle;\n",
       "    }\n",
       "\n",
       "    .dataframe tbody tr th {\n",
       "        vertical-align: top;\n",
       "    }\n",
       "\n",
       "    .dataframe thead th {\n",
       "        text-align: right;\n",
       "    }\n",
       "</style>\n",
       "<table border=\"1\" class=\"dataframe\">\n",
       "  <thead>\n",
       "    <tr style=\"text-align: right;\">\n",
       "      <th></th>\n",
       "      <th>count</th>\n",
       "      <th>procent</th>\n",
       "    </tr>\n",
       "    <tr>\n",
       "      <th>chain</th>\n",
       "      <th></th>\n",
       "      <th></th>\n",
       "    </tr>\n",
       "  </thead>\n",
       "  <tbody>\n",
       "    <tr>\n",
       "      <td>да</td>\n",
       "      <td>2968</td>\n",
       "      <td>0.19</td>\n",
       "    </tr>\n",
       "    <tr>\n",
       "      <td>нет</td>\n",
       "      <td>12398</td>\n",
       "      <td>0.81</td>\n",
       "    </tr>\n",
       "  </tbody>\n",
       "</table>\n",
       "</div>"
      ],
      "text/plain": [
       "       count  procent\n",
       "chain                \n",
       "да      2968     0.19\n",
       "нет    12398     0.81"
      ]
     },
     "metadata": {},
     "output_type": "display_data"
    },
    {
     "data": {
      "image/png": "[encoded data removed]",
      "text/plain": [
       "<Figure size 648x648 with 1 Axes>"
      ]
     },
     "metadata": {},
     "output_type": "display_data"
    }
   ],
   "source": [
    "# группирока по chain, подсчёт количества заведений\n",
    "chain_count = rest_data.groupby('chain').agg({'id':'count'}).rename(columns={'id':'count'})\n",
    "\n",
    "# считаем долю от общего числа заведений\n",
    "chain_count['procent'] = round(chain_count['count'] / chain_count['count'].sum(),2)\n",
    "display(chain_count)\n",
    "chain_count.plot(y='count', kind = 'pie',figsize=(9,9),autopct='%1.f%%')\n",
    "plt.title(\"Соотношение количества сетевых и несетевых заведений\", fontsize = 20)\n",
    "plt.show()"
   ]
  },
  {
   "cell_type": "markdown",
   "metadata": {},
   "source": [
    "Видим, что несетевых заведений значительно больше - 81%, и только 19% сетевых."
   ]
  },
  {
   "cell_type": "markdown",
   "metadata": {},
   "source": [
    "### 2.3 Для каких видов объектов общественного питания характерно сетевое распространение?"
   ]
  },
  {
   "cell_type": "markdown",
   "metadata": {},
   "source": [
    "Построим график с количествами сетевых и несетевых заведений для каждого вида объекта."
   ]
  },
  {
   "cell_type": "code",
   "execution_count": 9,
   "metadata": {},
   "outputs": [
    {
     "data": {
      "image/png": "[encoded data removed]",
      "text/plain": [
       "<Figure size 1152x648 with 1 Axes>"
      ]
     },
     "metadata": {
      "needs_background": "light"
     },
     "output_type": "display_data"
    }
   ],
   "source": [
    "plt.figure(figsize=(16,9))\n",
    "sns.barplot(data=rest_data.groupby(\n",
    "    ['object_type','chain'],as_index=False).agg(\n",
    "    {'id':'count'}).sort_values(by='id',ascending=False),\n",
    "            x='object_type',y='id',hue='chain')\n",
    "plt.xticks(rotation=45)\n",
    "plt.title(\"Количество сетевых и несетевых заведений каждого типа\", fontsize = 20)\n",
    "plt.xlabel(\"Тип заведения\", fontsize = 15)\n",
    "plt.ylabel(\"Количество заведений\", fontsize = 15)\n",
    "plt.show()"
   ]
  },
  {
   "cell_type": "markdown",
   "metadata": {},
   "source": [
    "По графику видно, что самая большая доля сетевых заведений среди преприятий быстрого обслуживания. Посмотрим детальнее, построим сводую таблицу и узнаем долю сетевых заведений для каждого типа."
   ]
  },
  {
   "cell_type": "code",
   "execution_count": 10,
   "metadata": {},
   "outputs": [
    {
     "data": {
      "text/html": [
       "<div>\n",
       "<style scoped>\n",
       "    .dataframe tbody tr th:only-of-type {\n",
       "        vertical-align: middle;\n",
       "    }\n",
       "\n",
       "    .dataframe tbody tr th {\n",
       "        vertical-align: top;\n",
       "    }\n",
       "\n",
       "    .dataframe thead th {\n",
       "        text-align: right;\n",
       "    }\n",
       "</style>\n",
       "<table border=\"1\" class=\"dataframe\">\n",
       "  <thead>\n",
       "    <tr style=\"text-align: right;\">\n",
       "      <th>chain</th>\n",
       "      <th>да</th>\n",
       "      <th>нет</th>\n",
       "      <th>chain_procent</th>\n",
       "    </tr>\n",
       "    <tr>\n",
       "      <th>object_type</th>\n",
       "      <th></th>\n",
       "      <th></th>\n",
       "      <th></th>\n",
       "    </tr>\n",
       "  </thead>\n",
       "  <tbody>\n",
       "    <tr>\n",
       "      <td>предприятие быстрого обслуживания</td>\n",
       "      <td>791</td>\n",
       "      <td>1132</td>\n",
       "      <td>0.41</td>\n",
       "    </tr>\n",
       "    <tr>\n",
       "      <td>магазин (отдел кулинарии)</td>\n",
       "      <td>78</td>\n",
       "      <td>195</td>\n",
       "      <td>0.29</td>\n",
       "    </tr>\n",
       "    <tr>\n",
       "      <td>ресторан</td>\n",
       "      <td>544</td>\n",
       "      <td>1741</td>\n",
       "      <td>0.24</td>\n",
       "    </tr>\n",
       "    <tr>\n",
       "      <td>кафе</td>\n",
       "      <td>1396</td>\n",
       "      <td>4703</td>\n",
       "      <td>0.23</td>\n",
       "    </tr>\n",
       "    <tr>\n",
       "      <td>закусочная</td>\n",
       "      <td>56</td>\n",
       "      <td>304</td>\n",
       "      <td>0.16</td>\n",
       "    </tr>\n",
       "    <tr>\n",
       "      <td>кафетерий</td>\n",
       "      <td>52</td>\n",
       "      <td>346</td>\n",
       "      <td>0.13</td>\n",
       "    </tr>\n",
       "    <tr>\n",
       "      <td>бар</td>\n",
       "      <td>37</td>\n",
       "      <td>819</td>\n",
       "      <td>0.04</td>\n",
       "    </tr>\n",
       "    <tr>\n",
       "      <td>буфет</td>\n",
       "      <td>11</td>\n",
       "      <td>574</td>\n",
       "      <td>0.02</td>\n",
       "    </tr>\n",
       "    <tr>\n",
       "      <td>столовая</td>\n",
       "      <td>3</td>\n",
       "      <td>2584</td>\n",
       "      <td>0.00</td>\n",
       "    </tr>\n",
       "  </tbody>\n",
       "</table>\n",
       "</div>"
      ],
      "text/plain": [
       "chain                                да   нет  chain_procent\n",
       "object_type                                                 \n",
       "предприятие быстрого обслуживания   791  1132           0.41\n",
       "магазин (отдел кулинарии)            78   195           0.29\n",
       "ресторан                            544  1741           0.24\n",
       "кафе                               1396  4703           0.23\n",
       "закусочная                           56   304           0.16\n",
       "кафетерий                            52   346           0.13\n",
       "бар                                  37   819           0.04\n",
       "буфет                                11   574           0.02\n",
       "столовая                              3  2584           0.00"
      ]
     },
     "execution_count": 10,
     "metadata": {},
     "output_type": "execute_result"
    }
   ],
   "source": [
    "# строим сводную таблицу\n",
    "chain_object = rest_data.pivot_table(index='object_type',columns='chain',values='id',aggfunc='count')\n",
    "# считаем долю сетевых заведений\n",
    "chain_object['chain_procent'] = round(chain_object['да'] / (chain_object['нет']+chain_object['да']),2)\n",
    "\n",
    "chain_object = chain_object.sort_values(by='chain_procent',ascending=False)\n",
    "chain_object"
   ]
  },
  {
   "cell_type": "markdown",
   "metadata": {},
   "source": [
    "Построим график."
   ]
  },
  {
   "cell_type": "code",
   "execution_count": 11,
   "metadata": {},
   "outputs": [
    {
     "data": {
      "image/png": "[encoded data removed]",
      "text/plain": [
       "<Figure size 1152x648 with 1 Axes>"
      ]
     },
     "metadata": {
      "needs_background": "light"
     },
     "output_type": "display_data"
    }
   ],
   "source": [
    "plt.figure(figsize=(16,9))\n",
    "\n",
    "sns.set_style(\"darkgrid\")\n",
    "sns.barplot(data=chain_object,x=chain_object.index,y='chain_procent')\n",
    "plt.xticks(rotation=45)\n",
    "plt.title(\"Доля сетевых заведений для всех типов\", fontsize = 20)\n",
    "plt.xlabel(\"Тип заведения\", fontsize = 15)\n",
    "plt.ylabel(\"Процент сетевых заведений\", fontsize = 15)\n",
    "plt.show()"
   ]
  },
  {
   "cell_type": "markdown",
   "metadata": {},
   "source": [
    "Из графика видно, что сетевое распространение наиболее характерно для предприятий быстрого обслуживния, 40% заведений данного типа - сетевые. Также довольно много сетей среди магазинов - 30%, среди ресторанов и кафе уже меньше - 23-24%, а среди остальных типов сетей совсем мало, ну а столовые вообще все в одном экземпляре."
   ]
  },
  {
   "cell_type": "markdown",
   "metadata": {},
   "source": [
    "### 2.4 Что характерно для сетевых заведений: много заведений с небольшим числом посадочных мест в каждом или мало заведений с большим количеством посадочных мест?"
   ]
  },
  {
   "cell_type": "code",
   "execution_count": 12,
   "metadata": {},
   "outputs": [],
   "source": [
    "# увеличим количество символов в строках, чтобы все названия поместились\n",
    "pd.options.display.max_rows = 200"
   ]
  },
  {
   "cell_type": "markdown",
   "metadata": {},
   "source": [
    "Сначала попробуем привести названия заведений к единообразию и избавиться от неявных дубликатов. Есть следующие проблемы:\n",
    "\n",
    "* тип заведения в столбце с названиями (напр. \"кальянная мята launge\")\n",
    "* названия заведений на русском и английском языках ('старбакс' и 'starbucks')\n",
    "* кавычки"
   ]
  },
  {
   "cell_type": "code",
   "execution_count": 13,
   "metadata": {},
   "outputs": [],
   "source": [
    "# удаляем стоп-слова\n",
    "stop = ['кафе','пиццерия','ресторан','бар','кофейня','лаундж-бар','предприятие', 'быстрого', 'обслуживания','питания']\n",
    "rest_data['object_name'] = rest_data['object_name'].apply(lambda x: ' '.join([word for word in x.split() if word not in (stop)]))"
   ]
  },
  {
   "cell_type": "code",
   "execution_count": 14,
   "metadata": {},
   "outputs": [],
   "source": [
    "# подчищаем кавычки\n",
    "rest_data['object_name'] = rest_data['object_name'].replace('\\«|\\»','',regex=True)\n",
    "# объединяем группы с одинаковыми названиями на русском и английском\n",
    "rest_data['object_name'] = rest_data['object_name'].replace('старбакс','starbucks',regex=True)\n",
    "rest_data['object_name'] = rest_data['object_name'].replace('сабвей','subway',regex=True)"
   ]
  },
  {
   "cell_type": "code",
   "execution_count": 15,
   "metadata": {},
   "outputs": [
    {
     "data": {
      "text/plain": [
       "0            сметана\n",
       "1             родник\n",
       "2           академия\n",
       "3         пиццетория\n",
       "4    вишневая метель\n",
       "Name: object_name, dtype: object"
      ]
     },
     "execution_count": 15,
     "metadata": {},
     "output_type": "execute_result"
    }
   ],
   "source": [
    "# проверка\n",
    "rest_data['object_name'].head()"
   ]
  },
  {
   "cell_type": "markdown",
   "metadata": {},
   "source": [
    "Более-менее прибрались. Конечно осталось ещё много дубликатов, но по крайней мере теперь получится сгруппировать самые крупные сети. Сделаем срез по сетевым заведениям, сгруппруем данные по названиям заведений, посчитаем количество заведений в сети и медианные количества посадочных мест (используем медиану, т.к она более устойчива к выбросам."
   ]
  },
  {
   "cell_type": "code",
   "execution_count": 16,
   "metadata": {},
   "outputs": [
    {
     "data": {
      "text/html": [
       "<div>\n",
       "<style scoped>\n",
       "    .dataframe tbody tr th:only-of-type {\n",
       "        vertical-align: middle;\n",
       "    }\n",
       "\n",
       "    .dataframe tbody tr th {\n",
       "        vertical-align: top;\n",
       "    }\n",
       "\n",
       "    .dataframe thead th {\n",
       "        text-align: right;\n",
       "    }\n",
       "</style>\n",
       "<table border=\"1\" class=\"dataframe\">\n",
       "  <thead>\n",
       "    <tr style=\"text-align: right;\">\n",
       "      <th></th>\n",
       "      <th>count</th>\n",
       "      <th>number</th>\n",
       "    </tr>\n",
       "    <tr>\n",
       "      <th>object_name</th>\n",
       "      <th></th>\n",
       "      <th></th>\n",
       "    </tr>\n",
       "  </thead>\n",
       "  <tbody>\n",
       "    <tr>\n",
       "      <td>шоколадница</td>\n",
       "      <td>183</td>\n",
       "      <td>50.0</td>\n",
       "    </tr>\n",
       "    <tr>\n",
       "      <td>kfc</td>\n",
       "      <td>173</td>\n",
       "      <td>45.0</td>\n",
       "    </tr>\n",
       "    <tr>\n",
       "      <td>макдоналдс</td>\n",
       "      <td>171</td>\n",
       "      <td>76.0</td>\n",
       "    </tr>\n",
       "    <tr>\n",
       "      <td>бургер кинг</td>\n",
       "      <td>149</td>\n",
       "      <td>45.0</td>\n",
       "    </tr>\n",
       "    <tr>\n",
       "      <td>теремок</td>\n",
       "      <td>107</td>\n",
       "      <td>24.0</td>\n",
       "    </tr>\n",
       "    <tr>\n",
       "      <td>домино'с пицца</td>\n",
       "      <td>98</td>\n",
       "      <td>16.0</td>\n",
       "    </tr>\n",
       "    <tr>\n",
       "      <td>крошка картошка</td>\n",
       "      <td>95</td>\n",
       "      <td>15.0</td>\n",
       "    </tr>\n",
       "    <tr>\n",
       "      <td>милти</td>\n",
       "      <td>75</td>\n",
       "      <td>0.0</td>\n",
       "    </tr>\n",
       "    <tr>\n",
       "      <td>суши wok</td>\n",
       "      <td>75</td>\n",
       "      <td>6.0</td>\n",
       "    </tr>\n",
       "    <tr>\n",
       "      <td>папа джонс</td>\n",
       "      <td>65</td>\n",
       "      <td>20.0</td>\n",
       "    </tr>\n",
       "  </tbody>\n",
       "</table>\n",
       "</div>"
      ],
      "text/plain": [
       "                 count  number\n",
       "object_name                   \n",
       "шоколадница        183    50.0\n",
       "kfc                173    45.0\n",
       "макдоналдс         171    76.0\n",
       "бургер кинг        149    45.0\n",
       "теремок            107    24.0\n",
       "домино'с пицца      98    16.0\n",
       "крошка картошка     95    15.0\n",
       "милти               75     0.0\n",
       "суши wok            75     6.0\n",
       "папа джонс          65    20.0"
      ]
     },
     "metadata": {},
     "output_type": "display_data"
    }
   ],
   "source": [
    "# группировка по сетям, подсчет количества заведений и медианное кол-во мест\n",
    "chain_number = rest_data.query('chain == \"да\"').groupby('object_name').agg(\n",
    "    {'id':'count','number':'median'}).rename(\n",
    "    columns={'id':'count'}).sort_values(by=['count'],ascending=False)\n",
    "\n",
    "display(chain_number.head(10))"
   ]
  },
  {
   "cell_type": "markdown",
   "metadata": {},
   "source": [
    "Попробуем разделить наши сети по категориям в зависимости от количества посадочных мест. Для этого напишем функцию, которая разделит заведения в сети на маленькие, средние, большие и очень большие. Нет никаких правил, какое заведения считается маленьким, поэтому будем считать маленькими заведения, в которых меньше 10 мест, средними - от 10 до 50 мест, большими - от 50 до 100 мест, очень большими - больше 100 мест."
   ]
  },
  {
   "cell_type": "code",
   "execution_count": 17,
   "metadata": {},
   "outputs": [],
   "source": [
    "# функция разбивки по категориям\n",
    "def category(number):\n",
    "    if number <= 10:\n",
    "        return 'маленькое'\n",
    "    if 10 < number <= 50:\n",
    "        return 'среднее'\n",
    "    if 50 < number <= 100:\n",
    "        return 'большое'\n",
    "    else:\n",
    "        return 'очень большое'"
   ]
  },
  {
   "cell_type": "code",
   "execution_count": 18,
   "metadata": {},
   "outputs": [
    {
     "data": {
      "text/html": [
       "<div>\n",
       "<style scoped>\n",
       "    .dataframe tbody tr th:only-of-type {\n",
       "        vertical-align: middle;\n",
       "    }\n",
       "\n",
       "    .dataframe tbody tr th {\n",
       "        vertical-align: top;\n",
       "    }\n",
       "\n",
       "    .dataframe thead th {\n",
       "        text-align: right;\n",
       "    }\n",
       "</style>\n",
       "<table border=\"1\" class=\"dataframe\">\n",
       "  <thead>\n",
       "    <tr style=\"text-align: right;\">\n",
       "      <th></th>\n",
       "      <th>count</th>\n",
       "      <th>number</th>\n",
       "      <th>category</th>\n",
       "    </tr>\n",
       "    <tr>\n",
       "      <th>object_name</th>\n",
       "      <th></th>\n",
       "      <th></th>\n",
       "      <th></th>\n",
       "    </tr>\n",
       "  </thead>\n",
       "  <tbody>\n",
       "    <tr>\n",
       "      <td>шоколадница</td>\n",
       "      <td>183</td>\n",
       "      <td>50.0</td>\n",
       "      <td>среднее</td>\n",
       "    </tr>\n",
       "    <tr>\n",
       "      <td>kfc</td>\n",
       "      <td>173</td>\n",
       "      <td>45.0</td>\n",
       "      <td>среднее</td>\n",
       "    </tr>\n",
       "    <tr>\n",
       "      <td>макдоналдс</td>\n",
       "      <td>171</td>\n",
       "      <td>76.0</td>\n",
       "      <td>большое</td>\n",
       "    </tr>\n",
       "    <tr>\n",
       "      <td>бургер кинг</td>\n",
       "      <td>149</td>\n",
       "      <td>45.0</td>\n",
       "      <td>среднее</td>\n",
       "    </tr>\n",
       "    <tr>\n",
       "      <td>теремок</td>\n",
       "      <td>107</td>\n",
       "      <td>24.0</td>\n",
       "      <td>среднее</td>\n",
       "    </tr>\n",
       "    <tr>\n",
       "      <td>...</td>\n",
       "      <td>...</td>\n",
       "      <td>...</td>\n",
       "      <td>...</td>\n",
       "    </tr>\n",
       "    <tr>\n",
       "      <td>метро к&amp;к</td>\n",
       "      <td>1</td>\n",
       "      <td>80.0</td>\n",
       "      <td>большое</td>\n",
       "    </tr>\n",
       "    <tr>\n",
       "      <td>милано пицца</td>\n",
       "      <td>1</td>\n",
       "      <td>20.0</td>\n",
       "      <td>среднее</td>\n",
       "    </tr>\n",
       "    <tr>\n",
       "      <td>vanwok ванвок</td>\n",
       "      <td>1</td>\n",
       "      <td>20.0</td>\n",
       "      <td>среднее</td>\n",
       "    </tr>\n",
       "    <tr>\n",
       "      <td>van wok ванвок</td>\n",
       "      <td>1</td>\n",
       "      <td>20.0</td>\n",
       "      <td>среднее</td>\n",
       "    </tr>\n",
       "    <tr>\n",
       "      <td>beverly hills diner</td>\n",
       "      <td>1</td>\n",
       "      <td>88.0</td>\n",
       "      <td>большое</td>\n",
       "    </tr>\n",
       "  </tbody>\n",
       "</table>\n",
       "<p>436 rows × 3 columns</p>\n",
       "</div>"
      ],
      "text/plain": [
       "                     count  number category\n",
       "object_name                                \n",
       "шоколадница            183    50.0  среднее\n",
       "kfc                    173    45.0  среднее\n",
       "макдоналдс             171    76.0  большое\n",
       "бургер кинг            149    45.0  среднее\n",
       "теремок                107    24.0  среднее\n",
       "...                    ...     ...      ...\n",
       "метро к&к                1    80.0  большое\n",
       "милано пицца             1    20.0  среднее\n",
       "vanwok ванвок            1    20.0  среднее\n",
       "van wok ванвок           1    20.0  среднее\n",
       "beverly hills diner      1    88.0  большое\n",
       "\n",
       "[436 rows x 3 columns]"
      ]
     },
     "execution_count": 18,
     "metadata": {},
     "output_type": "execute_result"
    }
   ],
   "source": [
    "# применение функции\n",
    "chain_number['category'] = chain_number['number'].apply(category)\n",
    "chain_number"
   ]
  },
  {
   "cell_type": "markdown",
   "metadata": {},
   "source": [
    "Теперь сгруппируем данные по категориям и посмотрим, каких заведений больше."
   ]
  },
  {
   "cell_type": "code",
   "execution_count": 19,
   "metadata": {},
   "outputs": [
    {
     "data": {
      "text/html": [
       "<div>\n",
       "<style scoped>\n",
       "    .dataframe tbody tr th:only-of-type {\n",
       "        vertical-align: middle;\n",
       "    }\n",
       "\n",
       "    .dataframe tbody tr th {\n",
       "        vertical-align: top;\n",
       "    }\n",
       "\n",
       "    .dataframe thead th {\n",
       "        text-align: right;\n",
       "    }\n",
       "</style>\n",
       "<table border=\"1\" class=\"dataframe\">\n",
       "  <thead>\n",
       "    <tr style=\"text-align: right;\">\n",
       "      <th></th>\n",
       "      <th>count</th>\n",
       "    </tr>\n",
       "    <tr>\n",
       "      <th>category</th>\n",
       "      <th></th>\n",
       "    </tr>\n",
       "  </thead>\n",
       "  <tbody>\n",
       "    <tr>\n",
       "      <td>среднее</td>\n",
       "      <td>196</td>\n",
       "    </tr>\n",
       "    <tr>\n",
       "      <td>большое</td>\n",
       "      <td>119</td>\n",
       "    </tr>\n",
       "    <tr>\n",
       "      <td>маленькое</td>\n",
       "      <td>65</td>\n",
       "    </tr>\n",
       "    <tr>\n",
       "      <td>очень большое</td>\n",
       "      <td>56</td>\n",
       "    </tr>\n",
       "  </tbody>\n",
       "</table>\n",
       "</div>"
      ],
      "text/plain": [
       "               count\n",
       "category            \n",
       "среднее          196\n",
       "большое          119\n",
       "маленькое         65\n",
       "очень большое     56"
      ]
     },
     "execution_count": 19,
     "metadata": {},
     "output_type": "execute_result"
    }
   ],
   "source": [
    "# группирова по категориям\n",
    "chain_number.groupby('category').agg({'count':'count'}).sort_values(by='count',ascending=False)"
   ]
  },
  {
   "cell_type": "markdown",
   "metadata": {},
   "source": [
    "Получается, для московских сетей наиболее характеры заведения со средней посадкой - с количеством посадочных мест от 10 до 50."
   ]
  },
  {
   "cell_type": "markdown",
   "metadata": {},
   "source": [
    "Построим точечный график:"
   ]
  },
  {
   "cell_type": "code",
   "execution_count": 20,
   "metadata": {},
   "outputs": [
    {
     "data": {
      "image/png": "[encoded data removed]",
      "text/plain": [
       "<Figure size 1152x648 with 1 Axes>"
      ]
     },
     "metadata": {},
     "output_type": "display_data"
    }
   ],
   "source": [
    "# строим точечный график\n",
    "plt.figure(figsize=(16,9))\n",
    "plt.scatter(chain_number['number'],chain_number['count'])\n",
    "\n",
    "plt.title(\"Диаграмма рассеяния по количеству посадочных мест и количеству заведений в сети\", fontsize = 20)\n",
    "plt.xlabel(\"Количество посадочных мест\", fontsize = 15)\n",
    "plt.ylabel(\"Количество заведений в сети\", fontsize = 15)\n",
    "plt.show()"
   ]
  },
  {
   "cell_type": "markdown",
   "metadata": {},
   "source": [
    "По графику можно сказать, что подавляющее большинство сетей включают в себя заведения с количеством посадочных мест от нуля (фудкорты) до 100. Есть сети-гиганты типа Макдональдса, Кфс, Старбакс и др, для которых характерно огромное количество заведений с небольшим количеством мест (50-60), а есть сети, в которых всего 1-2 ресторана, но зато количество посадочных мест больше 200.\n",
    "\n",
    "Нельзя сказать однозначно, что больше характерно для московских сетей - ведь и рекордсмены по количеству посадочных мест и по количеству заведений сети присутствуют в примерно равном небольшом количестве. Наиболее харатерными можно назвать **некрупные сети с количеством ресторанов до 10-ти и с количеством посадочных мест до 100**. Также можно отметить, что нет ни одной сети, в которой было бы одновременно и много заведений и большое количество посадочных мест в них."
   ]
  },
  {
   "cell_type": "markdown",
   "metadata": {},
   "source": [
    "### 2.5 У заведений какого типа самое большое среднее количество посадочных мест?"
   ]
  },
  {
   "cell_type": "markdown",
   "metadata": {},
   "source": [
    "Посчитаем среднее количество посадочных мест для всех типов заведений. Построим график."
   ]
  },
  {
   "cell_type": "code",
   "execution_count": 21,
   "metadata": {},
   "outputs": [
    {
     "data": {
      "text/html": [
       "<div>\n",
       "<style scoped>\n",
       "    .dataframe tbody tr th:only-of-type {\n",
       "        vertical-align: middle;\n",
       "    }\n",
       "\n",
       "    .dataframe tbody tr th {\n",
       "        vertical-align: top;\n",
       "    }\n",
       "\n",
       "    .dataframe thead th {\n",
       "        text-align: right;\n",
       "    }\n",
       "</style>\n",
       "<table border=\"1\" class=\"dataframe\">\n",
       "  <thead>\n",
       "    <tr style=\"text-align: right;\">\n",
       "      <th></th>\n",
       "      <th>number</th>\n",
       "    </tr>\n",
       "    <tr>\n",
       "      <th>object_type</th>\n",
       "      <th></th>\n",
       "    </tr>\n",
       "  </thead>\n",
       "  <tbody>\n",
       "    <tr>\n",
       "      <td>столовая</td>\n",
       "      <td>130</td>\n",
       "    </tr>\n",
       "    <tr>\n",
       "      <td>ресторан</td>\n",
       "      <td>96</td>\n",
       "    </tr>\n",
       "    <tr>\n",
       "      <td>буфет</td>\n",
       "      <td>51</td>\n",
       "    </tr>\n",
       "    <tr>\n",
       "      <td>бар</td>\n",
       "      <td>43</td>\n",
       "    </tr>\n",
       "    <tr>\n",
       "      <td>кафе</td>\n",
       "      <td>39</td>\n",
       "    </tr>\n",
       "    <tr>\n",
       "      <td>предприятие быстрого обслуживания</td>\n",
       "      <td>20</td>\n",
       "    </tr>\n",
       "    <tr>\n",
       "      <td>кафетерий</td>\n",
       "      <td>9</td>\n",
       "    </tr>\n",
       "    <tr>\n",
       "      <td>закусочная</td>\n",
       "      <td>7</td>\n",
       "    </tr>\n",
       "    <tr>\n",
       "      <td>магазин (отдел кулинарии)</td>\n",
       "      <td>5</td>\n",
       "    </tr>\n",
       "  </tbody>\n",
       "</table>\n",
       "</div>"
      ],
      "text/plain": [
       "                                   number\n",
       "object_type                              \n",
       "столовая                              130\n",
       "ресторан                               96\n",
       "буфет                                  51\n",
       "бар                                    43\n",
       "кафе                                   39\n",
       "предприятие быстрого обслуживания      20\n",
       "кафетерий                               9\n",
       "закусочная                              7\n",
       "магазин (отдел кулинарии)               5"
      ]
     },
     "execution_count": 21,
     "metadata": {},
     "output_type": "execute_result"
    }
   ],
   "source": [
    "mean_number = rest_data.groupby('object_type').agg({'number':'mean'}).sort_values(by='number',ascending=False)\n",
    "mean_number['number'] = mean_number['number'].astype('int')\n",
    "mean_number"
   ]
  },
  {
   "cell_type": "code",
   "execution_count": 22,
   "metadata": {},
   "outputs": [
    {
     "data": {
      "image/png": "[encoded data removed]",
      "text/plain": [
       "<Figure size 1152x648 with 1 Axes>"
      ]
     },
     "metadata": {},
     "output_type": "display_data"
    }
   ],
   "source": [
    "plt.figure(figsize=(16,9))\n",
    "\n",
    "sns.barplot(data=mean_number,x=mean_number.index,y='number')\n",
    "plt.xticks(rotation=45)\n",
    "plt.title(\"Среднее количество посадочных мест\", fontsize = 20)\n",
    "plt.xlabel(\"Тип заведения\", fontsize = 15)\n",
    "plt.ylabel(\"Среднее количество мест\", fontsize = 15)\n",
    "plt.show()"
   ]
  },
  {
   "cell_type": "markdown",
   "metadata": {},
   "source": [
    "В среднем больше всего посадочных мест в столовых и ресторанах, меньше всего в магазинах и закусочных."
   ]
  },
  {
   "cell_type": "markdown",
   "metadata": {},
   "source": [
    "### 2.6 Вынос улицы в отдельный столбец"
   ]
  },
  {
   "cell_type": "markdown",
   "metadata": {},
   "source": [
    "Чтобы выделить информацию об улице в отдельный столбец, напишем регулярное выражение, с помощью которого отберем из адреса часть строки между запятыми, содержащую обозначение улицы (слова \"улица\",\"переулок\" и т.д)."
   ]
  },
  {
   "cell_type": "code",
   "execution_count": 23,
   "metadata": {},
   "outputs": [],
   "source": [
    "# функция, выделяющая улицу из адреса\n",
    "def reg2(string):\n",
    "    pattern = '(, (?:\\d-\\w|улица|бульвар|переулок|проспект|шоссе|проезд|набережная|площадь|вал|аллея|проезд|тупик) [^,]+,)|, [^,]+ (?:улица|бульвар|переулок|проспект|шоссе|проезд|набережная|площадь|вал|аллея|проезд|тупик),'\n",
    "    string_new = re.search(pattern, string)\n",
    "    return string_new"
   ]
  },
  {
   "cell_type": "markdown",
   "metadata": {},
   "source": [
    "Полученную функцию применим к нашим адресам:"
   ]
  },
  {
   "cell_type": "code",
   "execution_count": 24,
   "metadata": {},
   "outputs": [
    {
     "data": {
      "text/plain": [
       "0    <re.Match object; span=(12, 36), match=', улица Егора Абакумова,'>\n",
       "1         <re.Match object; span=(12, 31), match=', улица Талалихина,'>\n",
       "2     <re.Match object; span=(12, 35), match=', Абельмановская улица,'>\n",
       "3       <re.Match object; span=(12, 33), match=', Абрамцевская улица,'>\n",
       "4       <re.Match object; span=(12, 33), match=', Абрамцевская улица,'>\n",
       "Name: streets, dtype: object"
      ]
     },
     "execution_count": 24,
     "metadata": {},
     "output_type": "execute_result"
    }
   ],
   "source": [
    "#увеличиваем максимальное количество символов в строках\n",
    "pd.set_option('display.max_columns', None)\n",
    "pd.options.display.max_colwidth = 150  \n",
    "\n",
    "rest_data['streets'] = rest_data['address'].apply(reg2)\n",
    "rest_data['streets'].head()"
   ]
  },
  {
   "cell_type": "markdown",
   "metadata": {},
   "source": [
    "Названия улиц сохранились в виде Match object, пока что оставим как есть, и проверим, все ли улицы удалось найти."
   ]
  },
  {
   "cell_type": "code",
   "execution_count": 25,
   "metadata": {},
   "outputs": [
    {
     "data": {
      "text/plain": [
       "859                      Партизанская улица, дом 30\n",
       "860                      Партизанская улица, дом 30\n",
       "1405     город Москва, город Зеленоград, корпус 401\n",
       "1406     город Москва, город Зеленоград, корпус 435\n",
       "1407     город Москва, город Зеленоград, корпус 436\n",
       "1408     город Москва, город Зеленоград, корпус 438\n",
       "1409     город Москва, город Зеленоград, корпус 438\n",
       "1410    город Москва, город Зеленоград, корпус 834А\n",
       "1411    город Москва, город Зеленоград, корпус 1106\n",
       "1412    город Москва, город Зеленоград, корпус 1449\n",
       "Name: address, dtype: object"
      ]
     },
     "execution_count": 25,
     "metadata": {},
     "output_type": "execute_result"
    }
   ],
   "source": [
    "# ищем адреса, на которых функция не сработала\n",
    "rest_data.query('streets.isnull()')['address'].head(10)"
   ]
  },
  {
   "cell_type": "markdown",
   "metadata": {},
   "source": [
    "После тщательного визуального анализа адресов, на которых функция не сработала, становится понятно, что в подавляющем большинстве это адреса без улиц - с ними можно попрощаться, так как наша дальнейшая работа будет связана именно с улицами, пользы они все равно не принесут. Есть также несколько \"нешаблонных\" адресов, например, Партизанская улица. Таких адресов очень мало, бороться за них и дальше усложнять выражение считаю не целесообразным. В общем, удаляем все пропуски."
   ]
  },
  {
   "cell_type": "code",
   "execution_count": 26,
   "metadata": {
    "scrolled": true
   },
   "outputs": [
    {
     "data": {
      "text/plain": [
       "0"
      ]
     },
     "execution_count": 26,
     "metadata": {},
     "output_type": "execute_result"
    }
   ],
   "source": [
    "# удаление пропусков\n",
    "rest_data = rest_data.dropna()\n",
    "rest_data['streets'].isnull().sum()"
   ]
  },
  {
   "cell_type": "markdown",
   "metadata": {},
   "source": [
    "Теперь, когда в столбце нет пропусков, можно привести его в порядок, преобразовать данные в сторки и убрать лишние запятые. Для этого используем ещё одну функцию:"
   ]
  },
  {
   "cell_type": "code",
   "execution_count": 27,
   "metadata": {},
   "outputs": [],
   "source": [
    "# функция для \"чистки\" столбца с улицами\n",
    "def beauty_reg(string):\n",
    "    new_string = string.group()\n",
    "    new_string = new_string.replace(',','').lstrip(' ')\n",
    "    return new_string"
   ]
  },
  {
   "cell_type": "code",
   "execution_count": 28,
   "metadata": {},
   "outputs": [
    {
     "data": {
      "text/html": [
       "<div>\n",
       "<style scoped>\n",
       "    .dataframe tbody tr th:only-of-type {\n",
       "        vertical-align: middle;\n",
       "    }\n",
       "\n",
       "    .dataframe tbody tr th {\n",
       "        vertical-align: top;\n",
       "    }\n",
       "\n",
       "    .dataframe thead th {\n",
       "        text-align: right;\n",
       "    }\n",
       "</style>\n",
       "<table border=\"1\" class=\"dataframe\">\n",
       "  <thead>\n",
       "    <tr style=\"text-align: right;\">\n",
       "      <th></th>\n",
       "      <th>id</th>\n",
       "      <th>object_name</th>\n",
       "      <th>chain</th>\n",
       "      <th>object_type</th>\n",
       "      <th>address</th>\n",
       "      <th>number</th>\n",
       "      <th>streets</th>\n",
       "    </tr>\n",
       "  </thead>\n",
       "  <tbody>\n",
       "    <tr>\n",
       "      <td>0</td>\n",
       "      <td>151635</td>\n",
       "      <td>сметана</td>\n",
       "      <td>нет</td>\n",
       "      <td>кафе</td>\n",
       "      <td>город Москва, улица Егора Абакумова, дом 9</td>\n",
       "      <td>48</td>\n",
       "      <td>улица Егора Абакумова</td>\n",
       "    </tr>\n",
       "    <tr>\n",
       "      <td>1</td>\n",
       "      <td>77874</td>\n",
       "      <td>родник</td>\n",
       "      <td>нет</td>\n",
       "      <td>кафе</td>\n",
       "      <td>город Москва, улица Талалихина, дом 2/1, корпус 1</td>\n",
       "      <td>35</td>\n",
       "      <td>улица Талалихина</td>\n",
       "    </tr>\n",
       "    <tr>\n",
       "      <td>2</td>\n",
       "      <td>24309</td>\n",
       "      <td>академия</td>\n",
       "      <td>нет</td>\n",
       "      <td>кафе</td>\n",
       "      <td>город Москва, Абельмановская улица, дом 6</td>\n",
       "      <td>95</td>\n",
       "      <td>Абельмановская улица</td>\n",
       "    </tr>\n",
       "    <tr>\n",
       "      <td>3</td>\n",
       "      <td>21894</td>\n",
       "      <td>пиццетория</td>\n",
       "      <td>да</td>\n",
       "      <td>кафе</td>\n",
       "      <td>город Москва, Абрамцевская улица, дом 1</td>\n",
       "      <td>40</td>\n",
       "      <td>Абрамцевская улица</td>\n",
       "    </tr>\n",
       "    <tr>\n",
       "      <td>4</td>\n",
       "      <td>119365</td>\n",
       "      <td>вишневая метель</td>\n",
       "      <td>нет</td>\n",
       "      <td>кафе</td>\n",
       "      <td>город Москва, Абрамцевская улица, дом 9, корпус 1</td>\n",
       "      <td>50</td>\n",
       "      <td>Абрамцевская улица</td>\n",
       "    </tr>\n",
       "  </tbody>\n",
       "</table>\n",
       "</div>"
      ],
      "text/plain": [
       "       id      object_name chain object_type  \\\n",
       "0  151635          сметана   нет        кафе   \n",
       "1   77874           родник   нет        кафе   \n",
       "2   24309         академия   нет        кафе   \n",
       "3   21894       пиццетория    да        кафе   \n",
       "4  119365  вишневая метель   нет        кафе   \n",
       "\n",
       "                                             address  number  \\\n",
       "0         город Москва, улица Егора Абакумова, дом 9      48   \n",
       "1  город Москва, улица Талалихина, дом 2/1, корпус 1      35   \n",
       "2          город Москва, Абельмановская улица, дом 6      95   \n",
       "3            город Москва, Абрамцевская улица, дом 1      40   \n",
       "4  город Москва, Абрамцевская улица, дом 9, корпус 1      50   \n",
       "\n",
       "                 streets  \n",
       "0  улица Егора Абакумова  \n",
       "1       улица Талалихина  \n",
       "2   Абельмановская улица  \n",
       "3     Абрамцевская улица  \n",
       "4     Абрамцевская улица  "
      ]
     },
     "execution_count": 28,
     "metadata": {},
     "output_type": "execute_result"
    }
   ],
   "source": [
    "rest_data['streets'] = rest_data['streets'].apply( beauty_reg)\n",
    "rest_data.head()"
   ]
  },
  {
   "cell_type": "markdown",
   "metadata": {},
   "source": [
    "Готово! Теперь у нас есть отдельный столбец с улицей."
   ]
  },
  {
   "cell_type": "markdown",
   "metadata": {},
   "source": [
    "### 2.7 Топ-10 улиц по количеству объектов общественного питания и их районы"
   ]
  },
  {
   "cell_type": "markdown",
   "metadata": {},
   "source": [
    "Сгруппируем данные по улицам и посчитаем количество заведений, расположеных на них. Выделим Топ-10 улиц с самым большим количеством заведений. Построим график."
   ]
  },
  {
   "cell_type": "code",
   "execution_count": 29,
   "metadata": {},
   "outputs": [
    {
     "data": {
      "text/html": [
       "<div>\n",
       "<style scoped>\n",
       "    .dataframe tbody tr th:only-of-type {\n",
       "        vertical-align: middle;\n",
       "    }\n",
       "\n",
       "    .dataframe tbody tr th {\n",
       "        vertical-align: top;\n",
       "    }\n",
       "\n",
       "    .dataframe thead th {\n",
       "        text-align: right;\n",
       "    }\n",
       "</style>\n",
       "<table border=\"1\" class=\"dataframe\">\n",
       "  <thead>\n",
       "    <tr style=\"text-align: right;\">\n",
       "      <th></th>\n",
       "      <th>streets</th>\n",
       "      <th>object_caunt</th>\n",
       "    </tr>\n",
       "  </thead>\n",
       "  <tbody>\n",
       "    <tr>\n",
       "      <td>0</td>\n",
       "      <td>проспект Мира</td>\n",
       "      <td>204</td>\n",
       "    </tr>\n",
       "    <tr>\n",
       "      <td>1</td>\n",
       "      <td>Профсоюзная улица</td>\n",
       "      <td>182</td>\n",
       "    </tr>\n",
       "    <tr>\n",
       "      <td>2</td>\n",
       "      <td>Ленинградский проспект</td>\n",
       "      <td>171</td>\n",
       "    </tr>\n",
       "    <tr>\n",
       "      <td>3</td>\n",
       "      <td>Пресненская набережная</td>\n",
       "      <td>167</td>\n",
       "    </tr>\n",
       "    <tr>\n",
       "      <td>4</td>\n",
       "      <td>Варшавское шоссе</td>\n",
       "      <td>164</td>\n",
       "    </tr>\n",
       "    <tr>\n",
       "      <td>5</td>\n",
       "      <td>Ленинский проспект</td>\n",
       "      <td>147</td>\n",
       "    </tr>\n",
       "    <tr>\n",
       "      <td>6</td>\n",
       "      <td>проспект Вернадского</td>\n",
       "      <td>132</td>\n",
       "    </tr>\n",
       "    <tr>\n",
       "      <td>7</td>\n",
       "      <td>Кутузовский проспект</td>\n",
       "      <td>114</td>\n",
       "    </tr>\n",
       "    <tr>\n",
       "      <td>8</td>\n",
       "      <td>Каширское шоссе</td>\n",
       "      <td>112</td>\n",
       "    </tr>\n",
       "    <tr>\n",
       "      <td>9</td>\n",
       "      <td>Кировоградская улица</td>\n",
       "      <td>110</td>\n",
       "    </tr>\n",
       "  </tbody>\n",
       "</table>\n",
       "</div>"
      ],
      "text/plain": [
       "                  streets  object_caunt\n",
       "0           проспект Мира           204\n",
       "1       Профсоюзная улица           182\n",
       "2  Ленинградский проспект           171\n",
       "3  Пресненская набережная           167\n",
       "4        Варшавское шоссе           164\n",
       "5      Ленинский проспект           147\n",
       "6    проспект Вернадского           132\n",
       "7    Кутузовский проспект           114\n",
       "8         Каширское шоссе           112\n",
       "9    Кировоградская улица           110"
      ]
     },
     "execution_count": 29,
     "metadata": {},
     "output_type": "execute_result"
    }
   ],
   "source": [
    "# группировка по улицам и подсчёт объектов питания на них\n",
    "top10_streets = rest_data.groupby('streets',as_index=False).agg(\n",
    "    {'id':'count'}).rename(\n",
    "    columns={'id':'object_caunt'}).sort_values(\n",
    "        by='object_caunt',ascending=False).reset_index(drop=True).head(10)\n",
    "\n",
    "top10_streets"
   ]
  },
  {
   "cell_type": "code",
   "execution_count": 30,
   "metadata": {},
   "outputs": [
    {
     "data": {
      "image/png": "[encoded data removed]",
      "text/plain": [
       "<Figure size 1152x648 with 1 Axes>"
      ]
     },
     "metadata": {},
     "output_type": "display_data"
    }
   ],
   "source": [
    "plt.figure(figsize=(16,9))\n",
    "\n",
    "sns.barplot(data=top10_streets,x='streets',y='object_caunt')\n",
    "plt.xticks(rotation=45)\n",
    "plt.title(\"Количество заведений по улицам\", fontsize = 20)\n",
    "plt.xlabel(\"Улица\", fontsize = 15)\n",
    "plt.ylabel(\"Количество заведений\", fontsize = 15)\n",
    "plt.show()"
   ]
  },
  {
   "cell_type": "markdown",
   "metadata": {},
   "source": [
    "Чтобы определить, в каких районах Москвы находятся улицы с наибольшим количеством заведений, используем csv-файл с улицами и районами Москвы, найденный в интернете. (вот здесь: https://noosphere.ru/pubs/714051)"
   ]
  },
  {
   "cell_type": "code",
   "execution_count": 31,
   "metadata": {},
   "outputs": [
    {
     "data": {
      "text/html": [
       "<div>\n",
       "<style scoped>\n",
       "    .dataframe tbody tr th:only-of-type {\n",
       "        vertical-align: middle;\n",
       "    }\n",
       "\n",
       "    .dataframe tbody tr th {\n",
       "        vertical-align: top;\n",
       "    }\n",
       "\n",
       "    .dataframe thead th {\n",
       "        text-align: right;\n",
       "    }\n",
       "</style>\n",
       "<table border=\"1\" class=\"dataframe\">\n",
       "  <thead>\n",
       "    <tr style=\"text-align: right;\">\n",
       "      <th></th>\n",
       "      <th>streetname</th>\n",
       "      <th>areaid</th>\n",
       "      <th>okrug</th>\n",
       "      <th>area</th>\n",
       "    </tr>\n",
       "  </thead>\n",
       "  <tbody>\n",
       "    <tr>\n",
       "      <td>0</td>\n",
       "      <td>Выставочный переулок</td>\n",
       "      <td>17</td>\n",
       "      <td>ЦАО</td>\n",
       "      <td>Пресненский район</td>\n",
       "    </tr>\n",
       "    <tr>\n",
       "      <td>1</td>\n",
       "      <td>улица Гашека</td>\n",
       "      <td>17</td>\n",
       "      <td>ЦАО</td>\n",
       "      <td>Пресненский район</td>\n",
       "    </tr>\n",
       "    <tr>\n",
       "      <td>2</td>\n",
       "      <td>Большая Никитская улица</td>\n",
       "      <td>17</td>\n",
       "      <td>ЦАО</td>\n",
       "      <td>Пресненский район</td>\n",
       "    </tr>\n",
       "    <tr>\n",
       "      <td>3</td>\n",
       "      <td>Глубокий переулок</td>\n",
       "      <td>17</td>\n",
       "      <td>ЦАО</td>\n",
       "      <td>Пресненский район</td>\n",
       "    </tr>\n",
       "    <tr>\n",
       "      <td>4</td>\n",
       "      <td>Большой Гнездниковский переулок</td>\n",
       "      <td>17</td>\n",
       "      <td>ЦАО</td>\n",
       "      <td>Пресненский район</td>\n",
       "    </tr>\n",
       "    <tr>\n",
       "      <td>...</td>\n",
       "      <td>...</td>\n",
       "      <td>...</td>\n",
       "      <td>...</td>\n",
       "      <td>...</td>\n",
       "    </tr>\n",
       "    <tr>\n",
       "      <td>4393</td>\n",
       "      <td>Вознесенский проезд</td>\n",
       "      <td>17</td>\n",
       "      <td>ЦАО</td>\n",
       "      <td>Пресненский район</td>\n",
       "    </tr>\n",
       "    <tr>\n",
       "      <td>4394</td>\n",
       "      <td>Волков переулок</td>\n",
       "      <td>17</td>\n",
       "      <td>ЦАО</td>\n",
       "      <td>Пресненский район</td>\n",
       "    </tr>\n",
       "    <tr>\n",
       "      <td>4395</td>\n",
       "      <td>Поварская улица</td>\n",
       "      <td>17</td>\n",
       "      <td>ЦАО</td>\n",
       "      <td>Пресненский район</td>\n",
       "    </tr>\n",
       "    <tr>\n",
       "      <td>4396</td>\n",
       "      <td>Кудринская площадь</td>\n",
       "      <td>17</td>\n",
       "      <td>ЦАО</td>\n",
       "      <td>Пресненский район</td>\n",
       "    </tr>\n",
       "    <tr>\n",
       "      <td>4397</td>\n",
       "      <td>Вспольный переулок</td>\n",
       "      <td>17</td>\n",
       "      <td>ЦАО</td>\n",
       "      <td>Пресненский район</td>\n",
       "    </tr>\n",
       "  </tbody>\n",
       "</table>\n",
       "<p>4398 rows × 4 columns</p>\n",
       "</div>"
      ],
      "text/plain": [
       "                           streetname  areaid okrug               area\n",
       "0                Выставочный переулок      17   ЦАО  Пресненский район\n",
       "1                        улица Гашека      17   ЦАО  Пресненский район\n",
       "2             Большая Никитская улица      17   ЦАО  Пресненский район\n",
       "3                   Глубокий переулок      17   ЦАО  Пресненский район\n",
       "4     Большой Гнездниковский переулок      17   ЦАО  Пресненский район\n",
       "...                               ...     ...   ...                ...\n",
       "4393              Вознесенский проезд      17   ЦАО  Пресненский район\n",
       "4394                  Волков переулок      17   ЦАО  Пресненский район\n",
       "4395                  Поварская улица      17   ЦАО  Пресненский район\n",
       "4396               Кудринская площадь      17   ЦАО  Пресненский район\n",
       "4397               Вспольный переулок      17   ЦАО  Пресненский район\n",
       "\n",
       "[4398 rows x 4 columns]"
      ]
     },
     "execution_count": 31,
     "metadata": {},
     "output_type": "execute_result"
    }
   ],
   "source": [
    "# загружаем данные о районах\n",
    "from io import BytesIO \n",
    "import requests \n",
    "spreadsheet_id = '1TV6f5u5-Tv6zh4pthRWu5LvbhRIhHEBsWf77Icboxhk' \n",
    "file_name = 'https://docs.google.com/spreadsheets/d/{}/export?format=csv'.format(spreadsheet_id) \n",
    "r = requests.get(file_name) \n",
    "msk_streets = pd.read_csv(BytesIO(r.content)) \n",
    "msk_streets"
   ]
  },
  {
   "cell_type": "markdown",
   "metadata": {},
   "source": [
    "Удалим лишние столбцы и переименуем оставшиеся."
   ]
  },
  {
   "cell_type": "code",
   "execution_count": 32,
   "metadata": {},
   "outputs": [
    {
     "data": {
      "text/html": [
       "<div>\n",
       "<style scoped>\n",
       "    .dataframe tbody tr th:only-of-type {\n",
       "        vertical-align: middle;\n",
       "    }\n",
       "\n",
       "    .dataframe tbody tr th {\n",
       "        vertical-align: top;\n",
       "    }\n",
       "\n",
       "    .dataframe thead th {\n",
       "        text-align: right;\n",
       "    }\n",
       "</style>\n",
       "<table border=\"1\" class=\"dataframe\">\n",
       "  <thead>\n",
       "    <tr style=\"text-align: right;\">\n",
       "      <th></th>\n",
       "      <th>streets</th>\n",
       "      <th>area</th>\n",
       "    </tr>\n",
       "  </thead>\n",
       "  <tbody>\n",
       "    <tr>\n",
       "      <td>0</td>\n",
       "      <td>Выставочный переулок</td>\n",
       "      <td>Пресненский район</td>\n",
       "    </tr>\n",
       "    <tr>\n",
       "      <td>1</td>\n",
       "      <td>улица Гашека</td>\n",
       "      <td>Пресненский район</td>\n",
       "    </tr>\n",
       "    <tr>\n",
       "      <td>2</td>\n",
       "      <td>Большая Никитская улица</td>\n",
       "      <td>Пресненский район</td>\n",
       "    </tr>\n",
       "    <tr>\n",
       "      <td>3</td>\n",
       "      <td>Глубокий переулок</td>\n",
       "      <td>Пресненский район</td>\n",
       "    </tr>\n",
       "    <tr>\n",
       "      <td>4</td>\n",
       "      <td>Большой Гнездниковский переулок</td>\n",
       "      <td>Пресненский район</td>\n",
       "    </tr>\n",
       "  </tbody>\n",
       "</table>\n",
       "</div>"
      ],
      "text/plain": [
       "                           streets               area\n",
       "0             Выставочный переулок  Пресненский район\n",
       "1                     улица Гашека  Пресненский район\n",
       "2          Большая Никитская улица  Пресненский район\n",
       "3                Глубокий переулок  Пресненский район\n",
       "4  Большой Гнездниковский переулок  Пресненский район"
      ]
     },
     "execution_count": 32,
     "metadata": {},
     "output_type": "execute_result"
    }
   ],
   "source": [
    "msk_streets = msk_streets[['streetname','area']]\n",
    "msk_streets = msk_streets.rename(columns={'streetname':'streets'})\n",
    "msk_streets.head()"
   ]
  },
  {
   "cell_type": "markdown",
   "metadata": {},
   "source": [
    "Проверим столбец streets на дубликаты."
   ]
  },
  {
   "cell_type": "code",
   "execution_count": 33,
   "metadata": {},
   "outputs": [
    {
     "data": {
      "text/plain": [
       "794"
      ]
     },
     "execution_count": 33,
     "metadata": {},
     "output_type": "execute_result"
    }
   ],
   "source": [
    "msk_streets['streets'].duplicated().sum()"
   ]
  },
  {
   "cell_type": "markdown",
   "metadata": {},
   "source": [
    "В столбце streets содержится много дубликатов. Это связано с тем, что многие улицы проходят через несколько районов города. Дубликаты помешают при объединении таблиц, чтобы решить проблему и не потерять данные о районах, сгруппируем данные по улицам и обернем районы, относящиеся к одной улице, в список."
   ]
  },
  {
   "cell_type": "code",
   "execution_count": 34,
   "metadata": {},
   "outputs": [
    {
     "data": {
      "text/html": [
       "<div>\n",
       "<style scoped>\n",
       "    .dataframe tbody tr th:only-of-type {\n",
       "        vertical-align: middle;\n",
       "    }\n",
       "\n",
       "    .dataframe tbody tr th {\n",
       "        vertical-align: top;\n",
       "    }\n",
       "\n",
       "    .dataframe thead th {\n",
       "        text-align: right;\n",
       "    }\n",
       "</style>\n",
       "<table border=\"1\" class=\"dataframe\">\n",
       "  <thead>\n",
       "    <tr style=\"text-align: right;\">\n",
       "      <th></th>\n",
       "      <th>streets</th>\n",
       "      <th>area</th>\n",
       "    </tr>\n",
       "  </thead>\n",
       "  <tbody>\n",
       "    <tr>\n",
       "      <td>0</td>\n",
       "      <td>1-й Автозаводский проезд</td>\n",
       "      <td>[Даниловский район]</td>\n",
       "    </tr>\n",
       "    <tr>\n",
       "      <td>1</td>\n",
       "      <td>1-й Амбулаторный проезд</td>\n",
       "      <td>[Район Аэропорт]</td>\n",
       "    </tr>\n",
       "    <tr>\n",
       "      <td>2</td>\n",
       "      <td>1-й Архивный переулок</td>\n",
       "      <td>[Район Хамовники]</td>\n",
       "    </tr>\n",
       "    <tr>\n",
       "      <td>3</td>\n",
       "      <td>1-й Бабьегородский переулок</td>\n",
       "      <td>[Район Якиманка]</td>\n",
       "    </tr>\n",
       "    <tr>\n",
       "      <td>4</td>\n",
       "      <td>1-й Балтийский переулок</td>\n",
       "      <td>[Район Аэропорт]</td>\n",
       "    </tr>\n",
       "    <tr>\n",
       "      <td>5</td>\n",
       "      <td>1-й Басманный переулок</td>\n",
       "      <td>[Басманный район, Красносельский район]</td>\n",
       "    </tr>\n",
       "    <tr>\n",
       "      <td>6</td>\n",
       "      <td>1-й Белокаменный проезд</td>\n",
       "      <td>[Район Богородское]</td>\n",
       "    </tr>\n",
       "    <tr>\n",
       "      <td>7</td>\n",
       "      <td>1-й Богучарский переулок</td>\n",
       "      <td>[Район Южное Бутово]</td>\n",
       "    </tr>\n",
       "    <tr>\n",
       "      <td>8</td>\n",
       "      <td>1-й Ботанический проезд</td>\n",
       "      <td>[Район Свиблово]</td>\n",
       "    </tr>\n",
       "    <tr>\n",
       "      <td>9</td>\n",
       "      <td>1-й Боткинский проезд</td>\n",
       "      <td>[Район Беговой]</td>\n",
       "    </tr>\n",
       "  </tbody>\n",
       "</table>\n",
       "</div>"
      ],
      "text/plain": [
       "                       streets                                     area\n",
       "0     1-й Автозаводский проезд                      [Даниловский район]\n",
       "1      1-й Амбулаторный проезд                         [Район Аэропорт]\n",
       "2        1-й Архивный переулок                        [Район Хамовники]\n",
       "3  1-й Бабьегородский переулок                         [Район Якиманка]\n",
       "4      1-й Балтийский переулок                         [Район Аэропорт]\n",
       "5       1-й Басманный переулок  [Басманный район, Красносельский район]\n",
       "6      1-й Белокаменный проезд                      [Район Богородское]\n",
       "7     1-й Богучарский переулок                     [Район Южное Бутово]\n",
       "8      1-й Ботанический проезд                         [Район Свиблово]\n",
       "9        1-й Боткинский проезд                          [Район Беговой]"
      ]
     },
     "metadata": {},
     "output_type": "display_data"
    }
   ],
   "source": [
    "msk_streets_group = msk_streets.groupby('streets',as_index=False).agg({'area':lambda x:list(x)})\n",
    "display(msk_streets_group.head(10))"
   ]
  },
  {
   "cell_type": "markdown",
   "metadata": {},
   "source": [
    "Объединим таблицы:"
   ]
  },
  {
   "cell_type": "code",
   "execution_count": 35,
   "metadata": {
    "scrolled": false
   },
   "outputs": [
    {
     "data": {
      "text/html": [
       "<div>\n",
       "<style scoped>\n",
       "    .dataframe tbody tr th:only-of-type {\n",
       "        vertical-align: middle;\n",
       "    }\n",
       "\n",
       "    .dataframe tbody tr th {\n",
       "        vertical-align: top;\n",
       "    }\n",
       "\n",
       "    .dataframe thead th {\n",
       "        text-align: right;\n",
       "    }\n",
       "</style>\n",
       "<table border=\"1\" class=\"dataframe\">\n",
       "  <thead>\n",
       "    <tr style=\"text-align: right;\">\n",
       "      <th></th>\n",
       "      <th>streets</th>\n",
       "      <th>object_caunt</th>\n",
       "      <th>area</th>\n",
       "    </tr>\n",
       "  </thead>\n",
       "  <tbody>\n",
       "    <tr>\n",
       "      <td>0</td>\n",
       "      <td>проспект Мира</td>\n",
       "      <td>204</td>\n",
       "      <td>[Алексеевский район, Ярославский Район, Район Марьина роща, Останкинский район, Район Ростокино, Район Свиблово, Мещанский район]</td>\n",
       "    </tr>\n",
       "    <tr>\n",
       "      <td>1</td>\n",
       "      <td>Профсоюзная улица</td>\n",
       "      <td>182</td>\n",
       "      <td>[Академический район, Район Черемушки, Район Ясенево, Район Коньково, Обручевский район, Район Теплый Стан]</td>\n",
       "    </tr>\n",
       "    <tr>\n",
       "      <td>2</td>\n",
       "      <td>Ленинградский проспект</td>\n",
       "      <td>171</td>\n",
       "      <td>[Район Аэропорт, Район Беговой, Хорошевский район, Район Сокол]</td>\n",
       "    </tr>\n",
       "    <tr>\n",
       "      <td>3</td>\n",
       "      <td>Пресненская набережная</td>\n",
       "      <td>167</td>\n",
       "      <td>[Пресненский район]</td>\n",
       "    </tr>\n",
       "    <tr>\n",
       "      <td>4</td>\n",
       "      <td>Варшавское шоссе</td>\n",
       "      <td>164</td>\n",
       "      <td>[Район Чертаново Центральное, Район Чертаново Северное, Район Чертаново Южное, Донской район, Район Нагатино-Садовники, Нагорный район, Район Севе...</td>\n",
       "    </tr>\n",
       "    <tr>\n",
       "      <td>5</td>\n",
       "      <td>Ленинский проспект</td>\n",
       "      <td>147</td>\n",
       "      <td>[Район Проспект Вернадского, Район Тропарево-Никулино, Донской район, Район Гагаринский, Ломоносовский район, Обручевский район, Район Теплый Стан...</td>\n",
       "    </tr>\n",
       "    <tr>\n",
       "      <td>6</td>\n",
       "      <td>проспект Вернадского</td>\n",
       "      <td>132</td>\n",
       "      <td>[Район Проспект Вернадского, Район Раменки, Район Тропарево-Никулино, Район Гагаринский, Ломоносовский район]</td>\n",
       "    </tr>\n",
       "    <tr>\n",
       "      <td>7</td>\n",
       "      <td>Кутузовский проспект</td>\n",
       "      <td>114</td>\n",
       "      <td>[Район Дорогомилово, Район Фили-Давыдково]</td>\n",
       "    </tr>\n",
       "    <tr>\n",
       "      <td>8</td>\n",
       "      <td>Каширское шоссе</td>\n",
       "      <td>112</td>\n",
       "      <td>[Район Москворечье-Сабурово, Район Нагатино-Садовники, Район Орехово-Борисово Южное, Район Орехово-Борисово Северное]</td>\n",
       "    </tr>\n",
       "    <tr>\n",
       "      <td>9</td>\n",
       "      <td>Кировоградская улица</td>\n",
       "      <td>110</td>\n",
       "      <td>[Район Чертаново Центральное, Район Чертаново Северное, Район Чертаново Южное]</td>\n",
       "    </tr>\n",
       "  </tbody>\n",
       "</table>\n",
       "</div>"
      ],
      "text/plain": [
       "                  streets  object_caunt  \\\n",
       "0           проспект Мира           204   \n",
       "1       Профсоюзная улица           182   \n",
       "2  Ленинградский проспект           171   \n",
       "3  Пресненская набережная           167   \n",
       "4        Варшавское шоссе           164   \n",
       "5      Ленинский проспект           147   \n",
       "6    проспект Вернадского           132   \n",
       "7    Кутузовский проспект           114   \n",
       "8         Каширское шоссе           112   \n",
       "9    Кировоградская улица           110   \n",
       "\n",
       "                                                                                                                                                    area  \n",
       "0                      [Алексеевский район, Ярославский Район, Район Марьина роща, Останкинский район, Район Ростокино, Район Свиблово, Мещанский район]  \n",
       "1                                            [Академический район, Район Черемушки, Район Ясенево, Район Коньково, Обручевский район, Район Теплый Стан]  \n",
       "2                                                                                        [Район Аэропорт, Район Беговой, Хорошевский район, Район Сокол]  \n",
       "3                                                                                                                                    [Пресненский район]  \n",
       "4  [Район Чертаново Центральное, Район Чертаново Северное, Район Чертаново Южное, Донской район, Район Нагатино-Садовники, Нагорный район, Район Севе...  \n",
       "5  [Район Проспект Вернадского, Район Тропарево-Никулино, Донской район, Район Гагаринский, Ломоносовский район, Обручевский район, Район Теплый Стан...  \n",
       "6                                          [Район Проспект Вернадского, Район Раменки, Район Тропарево-Никулино, Район Гагаринский, Ломоносовский район]  \n",
       "7                                                                                                             [Район Дорогомилово, Район Фили-Давыдково]  \n",
       "8                                  [Район Москворечье-Сабурово, Район Нагатино-Садовники, Район Орехово-Борисово Южное, Район Орехово-Борисово Северное]  \n",
       "9                                                                         [Район Чертаново Центральное, Район Чертаново Северное, Район Чертаново Южное]  "
      ]
     },
     "execution_count": 35,
     "metadata": {},
     "output_type": "execute_result"
    }
   ],
   "source": [
    "top10_streets_area = top10_streets.merge(msk_streets_group,on='streets',how='left')\n",
    "top10_streets_area"
   ]
  },
  {
   "cell_type": "markdown",
   "metadata": {},
   "source": [
    "Готово, теперь каждой улице из Топ-10 соотвествует район или районы, в которых она находится. Закономерно получается, что улицы, на которых расположено самое большое количество заведений - это проспекты и шоссе, проходящие чуть ли ни через весь город."
   ]
  },
  {
   "cell_type": "markdown",
   "metadata": {},
   "source": [
    "### 2.8 Улицы с одним объектом общественного питания и их районы"
   ]
  },
  {
   "cell_type": "markdown",
   "metadata": {},
   "source": [
    "Найдем количество улиц с одним заведением. Для этого сгруппируем данные по улицам, посчитаем количество заведений и сделаем срез по улицам с одим заведением. Возможно, на них также находятся крупные ТЦ с большим скоплением заведений."
   ]
  },
  {
   "cell_type": "code",
   "execution_count": 36,
   "metadata": {},
   "outputs": [
    {
     "data": {
      "text/html": [
       "<div>\n",
       "<style scoped>\n",
       "    .dataframe tbody tr th:only-of-type {\n",
       "        vertical-align: middle;\n",
       "    }\n",
       "\n",
       "    .dataframe tbody tr th {\n",
       "        vertical-align: top;\n",
       "    }\n",
       "\n",
       "    .dataframe thead th {\n",
       "        text-align: right;\n",
       "    }\n",
       "</style>\n",
       "<table border=\"1\" class=\"dataframe\">\n",
       "  <thead>\n",
       "    <tr style=\"text-align: right;\">\n",
       "      <th></th>\n",
       "      <th>streets</th>\n",
       "      <th>object_caunt</th>\n",
       "    </tr>\n",
       "  </thead>\n",
       "  <tbody>\n",
       "    <tr>\n",
       "      <td>0</td>\n",
       "      <td>Родниковая улица</td>\n",
       "      <td>1</td>\n",
       "    </tr>\n",
       "    <tr>\n",
       "      <td>1</td>\n",
       "      <td>улица Медиков</td>\n",
       "      <td>1</td>\n",
       "    </tr>\n",
       "    <tr>\n",
       "      <td>2</td>\n",
       "      <td>3-й Лучевой просек</td>\n",
       "      <td>1</td>\n",
       "    </tr>\n",
       "    <tr>\n",
       "      <td>3</td>\n",
       "      <td>Нововладыкинский проезд</td>\n",
       "      <td>1</td>\n",
       "    </tr>\n",
       "    <tr>\n",
       "      <td>4</td>\n",
       "      <td>улица Медведева</td>\n",
       "      <td>1</td>\n",
       "    </tr>\n",
       "    <tr>\n",
       "      <td>...</td>\n",
       "      <td>...</td>\n",
       "      <td>...</td>\n",
       "    </tr>\n",
       "    <tr>\n",
       "      <td>546</td>\n",
       "      <td>улица Богданова</td>\n",
       "      <td>1</td>\n",
       "    </tr>\n",
       "    <tr>\n",
       "      <td>547</td>\n",
       "      <td>улица Богородский Вал</td>\n",
       "      <td>1</td>\n",
       "    </tr>\n",
       "    <tr>\n",
       "      <td>548</td>\n",
       "      <td>Брошевский переулок</td>\n",
       "      <td>1</td>\n",
       "    </tr>\n",
       "    <tr>\n",
       "      <td>549</td>\n",
       "      <td>Бродников переулок</td>\n",
       "      <td>1</td>\n",
       "    </tr>\n",
       "    <tr>\n",
       "      <td>550</td>\n",
       "      <td>Вяземская улица</td>\n",
       "      <td>1</td>\n",
       "    </tr>\n",
       "  </tbody>\n",
       "</table>\n",
       "<p>551 rows × 2 columns</p>\n",
       "</div>"
      ],
      "text/plain": [
       "                     streets  object_caunt\n",
       "0           Родниковая улица             1\n",
       "1              улица Медиков             1\n",
       "2         3-й Лучевой просек             1\n",
       "3    Нововладыкинский проезд             1\n",
       "4            улица Медведева             1\n",
       "..                       ...           ...\n",
       "546          улица Богданова             1\n",
       "547    улица Богородский Вал             1\n",
       "548      Брошевский переулок             1\n",
       "549       Бродников переулок             1\n",
       "550          Вяземская улица             1\n",
       "\n",
       "[551 rows x 2 columns]"
      ]
     },
     "execution_count": 36,
     "metadata": {},
     "output_type": "execute_result"
    }
   ],
   "source": [
    "one_object_streets = rest_data.groupby('streets',as_index=False).agg(\n",
    "    {'id':'count'}).rename(\n",
    "    columns={'id':'object_caunt'}).sort_values(\n",
    "        by='object_caunt',ascending=False).query('object_caunt == 1').reset_index(drop=True)\n",
    "\n",
    "one_object_streets"
   ]
  },
  {
   "cell_type": "markdown",
   "metadata": {},
   "source": [
    "Добавим в таблицу данные о районах. "
   ]
  },
  {
   "cell_type": "code",
   "execution_count": 37,
   "metadata": {},
   "outputs": [
    {
     "data": {
      "text/html": [
       "<div>\n",
       "<style scoped>\n",
       "    .dataframe tbody tr th:only-of-type {\n",
       "        vertical-align: middle;\n",
       "    }\n",
       "\n",
       "    .dataframe tbody tr th {\n",
       "        vertical-align: top;\n",
       "    }\n",
       "\n",
       "    .dataframe thead th {\n",
       "        text-align: right;\n",
       "    }\n",
       "</style>\n",
       "<table border=\"1\" class=\"dataframe\">\n",
       "  <thead>\n",
       "    <tr style=\"text-align: right;\">\n",
       "      <th></th>\n",
       "      <th>streets</th>\n",
       "      <th>object_caunt</th>\n",
       "      <th>area</th>\n",
       "    </tr>\n",
       "  </thead>\n",
       "  <tbody>\n",
       "    <tr>\n",
       "      <td>0</td>\n",
       "      <td>Родниковая улица</td>\n",
       "      <td>1</td>\n",
       "      <td>[Район Солнцево]</td>\n",
       "    </tr>\n",
       "    <tr>\n",
       "      <td>1</td>\n",
       "      <td>улица Медиков</td>\n",
       "      <td>1</td>\n",
       "      <td>[Район Царицыно]</td>\n",
       "    </tr>\n",
       "    <tr>\n",
       "      <td>2</td>\n",
       "      <td>3-й Лучевой просек</td>\n",
       "      <td>1</td>\n",
       "      <td>[Район Сокольники]</td>\n",
       "    </tr>\n",
       "    <tr>\n",
       "      <td>3</td>\n",
       "      <td>Нововладыкинский проезд</td>\n",
       "      <td>1</td>\n",
       "      <td>[Район Отрадное]</td>\n",
       "    </tr>\n",
       "    <tr>\n",
       "      <td>4</td>\n",
       "      <td>улица Медведева</td>\n",
       "      <td>1</td>\n",
       "      <td>[Район Косино-Ухтомский]</td>\n",
       "    </tr>\n",
       "    <tr>\n",
       "      <td>...</td>\n",
       "      <td>...</td>\n",
       "      <td>...</td>\n",
       "      <td>...</td>\n",
       "    </tr>\n",
       "    <tr>\n",
       "      <td>546</td>\n",
       "      <td>улица Богданова</td>\n",
       "      <td>1</td>\n",
       "      <td>[Район Солнцево]</td>\n",
       "    </tr>\n",
       "    <tr>\n",
       "      <td>547</td>\n",
       "      <td>улица Богородский Вал</td>\n",
       "      <td>1</td>\n",
       "      <td>[Район Богородское, Район Преображенское]</td>\n",
       "    </tr>\n",
       "    <tr>\n",
       "      <td>548</td>\n",
       "      <td>Брошевский переулок</td>\n",
       "      <td>1</td>\n",
       "      <td>[Таганский район]</td>\n",
       "    </tr>\n",
       "    <tr>\n",
       "      <td>549</td>\n",
       "      <td>Бродников переулок</td>\n",
       "      <td>1</td>\n",
       "      <td>[Район Якиманка]</td>\n",
       "    </tr>\n",
       "    <tr>\n",
       "      <td>550</td>\n",
       "      <td>Вяземская улица</td>\n",
       "      <td>1</td>\n",
       "      <td>[Можайский Район]</td>\n",
       "    </tr>\n",
       "  </tbody>\n",
       "</table>\n",
       "<p>551 rows × 3 columns</p>\n",
       "</div>"
      ],
      "text/plain": [
       "                     streets  object_caunt  \\\n",
       "0           Родниковая улица             1   \n",
       "1              улица Медиков             1   \n",
       "2         3-й Лучевой просек             1   \n",
       "3    Нововладыкинский проезд             1   \n",
       "4            улица Медведева             1   \n",
       "..                       ...           ...   \n",
       "546          улица Богданова             1   \n",
       "547    улица Богородский Вал             1   \n",
       "548      Брошевский переулок             1   \n",
       "549       Бродников переулок             1   \n",
       "550          Вяземская улица             1   \n",
       "\n",
       "                                          area  \n",
       "0                             [Район Солнцево]  \n",
       "1                             [Район Царицыно]  \n",
       "2                           [Район Сокольники]  \n",
       "3                             [Район Отрадное]  \n",
       "4                     [Район Косино-Ухтомский]  \n",
       "..                                         ...  \n",
       "546                           [Район Солнцево]  \n",
       "547  [Район Богородское, Район Преображенское]  \n",
       "548                          [Таганский район]  \n",
       "549                           [Район Якиманка]  \n",
       "550                          [Можайский Район]  \n",
       "\n",
       "[551 rows x 3 columns]"
      ]
     },
     "execution_count": 37,
     "metadata": {},
     "output_type": "execute_result"
    }
   ],
   "source": [
    "one_object_streets = one_object_streets.merge(msk_streets_group,on='streets',how='left')\n",
    "one_object_streets"
   ]
  },
  {
   "cell_type": "markdown",
   "metadata": {},
   "source": [
    "Теперь мы знаем, в каких районах находятся все улицы с одним заведеним."
   ]
  },
  {
   "cell_type": "code",
   "execution_count": 38,
   "metadata": {},
   "outputs": [
    {
     "data": {
      "text/html": [
       "<div>\n",
       "<style scoped>\n",
       "    .dataframe tbody tr th:only-of-type {\n",
       "        vertical-align: middle;\n",
       "    }\n",
       "\n",
       "    .dataframe tbody tr th {\n",
       "        vertical-align: top;\n",
       "    }\n",
       "\n",
       "    .dataframe thead th {\n",
       "        text-align: right;\n",
       "    }\n",
       "</style>\n",
       "<table border=\"1\" class=\"dataframe\">\n",
       "  <thead>\n",
       "    <tr style=\"text-align: right;\">\n",
       "      <th></th>\n",
       "      <th>streets</th>\n",
       "      <th>object_caunt</th>\n",
       "      <th>area</th>\n",
       "    </tr>\n",
       "  </thead>\n",
       "  <tbody>\n",
       "    <tr>\n",
       "      <td>0</td>\n",
       "      <td>Родниковая улица</td>\n",
       "      <td>1</td>\n",
       "      <td>['Район Солнцево']</td>\n",
       "    </tr>\n",
       "    <tr>\n",
       "      <td>1</td>\n",
       "      <td>улица Медиков</td>\n",
       "      <td>1</td>\n",
       "      <td>['Район Царицыно']</td>\n",
       "    </tr>\n",
       "    <tr>\n",
       "      <td>2</td>\n",
       "      <td>3-й Лучевой просек</td>\n",
       "      <td>1</td>\n",
       "      <td>['Район Сокольники']</td>\n",
       "    </tr>\n",
       "    <tr>\n",
       "      <td>3</td>\n",
       "      <td>Нововладыкинский проезд</td>\n",
       "      <td>1</td>\n",
       "      <td>['Район Отрадное']</td>\n",
       "    </tr>\n",
       "    <tr>\n",
       "      <td>4</td>\n",
       "      <td>улица Медведева</td>\n",
       "      <td>1</td>\n",
       "      <td>['Район Косино-Ухтомский']</td>\n",
       "    </tr>\n",
       "  </tbody>\n",
       "</table>\n",
       "</div>"
      ],
      "text/plain": [
       "                   streets  object_caunt                        area\n",
       "0         Родниковая улица             1          ['Район Солнцево']\n",
       "1            улица Медиков             1          ['Район Царицыно']\n",
       "2       3-й Лучевой просек             1        ['Район Сокольники']\n",
       "3  Нововладыкинский проезд             1          ['Район Отрадное']\n",
       "4          улица Медведева             1  ['Район Косино-Ухтомский']"
      ]
     },
     "execution_count": 38,
     "metadata": {},
     "output_type": "execute_result"
    }
   ],
   "source": [
    "one_object_streets['area'] = one_object_streets['area'].astype(str)\n",
    "one_object_streets.head()"
   ]
  },
  {
   "cell_type": "markdown",
   "metadata": {},
   "source": [
    "Выведем Топ-10 районов, в которых больше всего улиц с одним заведением:"
   ]
  },
  {
   "cell_type": "code",
   "execution_count": 39,
   "metadata": {},
   "outputs": [
    {
     "data": {
      "text/html": [
       "<div>\n",
       "<style scoped>\n",
       "    .dataframe tbody tr th:only-of-type {\n",
       "        vertical-align: middle;\n",
       "    }\n",
       "\n",
       "    .dataframe tbody tr th {\n",
       "        vertical-align: top;\n",
       "    }\n",
       "\n",
       "    .dataframe thead th {\n",
       "        text-align: right;\n",
       "    }\n",
       "</style>\n",
       "<table border=\"1\" class=\"dataframe\">\n",
       "  <thead>\n",
       "    <tr style=\"text-align: right;\">\n",
       "      <th></th>\n",
       "      <th>object_caunt</th>\n",
       "    </tr>\n",
       "    <tr>\n",
       "      <th>area</th>\n",
       "      <th></th>\n",
       "    </tr>\n",
       "  </thead>\n",
       "  <tbody>\n",
       "    <tr>\n",
       "      <td>nan</td>\n",
       "      <td>32</td>\n",
       "    </tr>\n",
       "    <tr>\n",
       "      <td>['Таганский район']</td>\n",
       "      <td>25</td>\n",
       "    </tr>\n",
       "    <tr>\n",
       "      <td>['Басманный район']</td>\n",
       "      <td>23</td>\n",
       "    </tr>\n",
       "    <tr>\n",
       "      <td>['Район Хамовники']</td>\n",
       "      <td>22</td>\n",
       "    </tr>\n",
       "    <tr>\n",
       "      <td>['Тверской район']</td>\n",
       "      <td>19</td>\n",
       "    </tr>\n",
       "    <tr>\n",
       "      <td>['Район Сокольники']</td>\n",
       "      <td>15</td>\n",
       "    </tr>\n",
       "    <tr>\n",
       "      <td>['Пресненский район']</td>\n",
       "      <td>15</td>\n",
       "    </tr>\n",
       "    <tr>\n",
       "      <td>['Мещанский район']</td>\n",
       "      <td>14</td>\n",
       "    </tr>\n",
       "    <tr>\n",
       "      <td>['Район Марьина роща']</td>\n",
       "      <td>14</td>\n",
       "    </tr>\n",
       "    <tr>\n",
       "      <td>['Район Замоскворечье']</td>\n",
       "      <td>12</td>\n",
       "    </tr>\n",
       "  </tbody>\n",
       "</table>\n",
       "</div>"
      ],
      "text/plain": [
       "                         object_caunt\n",
       "area                                 \n",
       "nan                                32\n",
       "['Таганский район']                25\n",
       "['Басманный район']                23\n",
       "['Район Хамовники']                22\n",
       "['Тверской район']                 19\n",
       "['Район Сокольники']               15\n",
       "['Пресненский район']              15\n",
       "['Мещанский район']                14\n",
       "['Район Марьина роща']             14\n",
       "['Район Замоскворечье']            12"
      ]
     },
     "execution_count": 39,
     "metadata": {},
     "output_type": "execute_result"
    }
   ],
   "source": [
    "one_object_streets.groupby('area').agg({'object_caunt':'count'}).sort_values(by='object_caunt',ascending=False).head(10)"
   ]
  },
  {
   "cell_type": "markdown",
   "metadata": {},
   "source": [
    "Судя по карте, большинство из этих районов находятся в центре Москвы. Видимо, там много мелких коротких улочек, поэтому частно бывает, что заведение только одно."
   ]
  },
  {
   "cell_type": "markdown",
   "metadata": {},
   "source": [
    "### 2.9 Распределение количества посадочных мест для улиц самых популярных улиц"
   ]
  },
  {
   "cell_type": "markdown",
   "metadata": {},
   "source": [
    "Создадим список улиц из Топ-10 с самым больим количеством заведений."
   ]
  },
  {
   "cell_type": "code",
   "execution_count": 40,
   "metadata": {},
   "outputs": [
    {
     "data": {
      "text/plain": [
       "['проспект Мира',\n",
       " 'Профсоюзная улица',\n",
       " 'Ленинградский проспект',\n",
       " 'Пресненская набережная',\n",
       " 'Варшавское шоссе',\n",
       " 'Ленинский проспект',\n",
       " 'проспект Вернадского',\n",
       " 'Кутузовский проспект',\n",
       " 'Каширское шоссе',\n",
       " 'Кировоградская улица']"
      ]
     },
     "execution_count": 40,
     "metadata": {},
     "output_type": "execute_result"
    }
   ],
   "source": [
    "top10_list = list(top10_streets['streets'])\n",
    "top10_list"
   ]
  },
  {
   "cell_type": "markdown",
   "metadata": {},
   "source": [
    "Выберем улицы из списка и сгруппируем данные по улицам, посчитаем медиану посадочных мест."
   ]
  },
  {
   "cell_type": "code",
   "execution_count": 41,
   "metadata": {},
   "outputs": [
    {
     "data": {
      "text/html": [
       "<div>\n",
       "<style scoped>\n",
       "    .dataframe tbody tr th:only-of-type {\n",
       "        vertical-align: middle;\n",
       "    }\n",
       "\n",
       "    .dataframe tbody tr th {\n",
       "        vertical-align: top;\n",
       "    }\n",
       "\n",
       "    .dataframe thead th {\n",
       "        text-align: right;\n",
       "    }\n",
       "</style>\n",
       "<table border=\"1\" class=\"dataframe\">\n",
       "  <thead>\n",
       "    <tr style=\"text-align: right;\">\n",
       "      <th></th>\n",
       "      <th>number</th>\n",
       "    </tr>\n",
       "    <tr>\n",
       "      <th>streets</th>\n",
       "      <th></th>\n",
       "    </tr>\n",
       "  </thead>\n",
       "  <tbody>\n",
       "    <tr>\n",
       "      <td>проспект Мира</td>\n",
       "      <td>46.5</td>\n",
       "    </tr>\n",
       "    <tr>\n",
       "      <td>Ленинский проспект</td>\n",
       "      <td>45.0</td>\n",
       "    </tr>\n",
       "    <tr>\n",
       "      <td>Кутузовский проспект</td>\n",
       "      <td>40.0</td>\n",
       "    </tr>\n",
       "    <tr>\n",
       "      <td>Ленинградский проспект</td>\n",
       "      <td>40.0</td>\n",
       "    </tr>\n",
       "    <tr>\n",
       "      <td>проспект Вернадского</td>\n",
       "      <td>40.0</td>\n",
       "    </tr>\n",
       "    <tr>\n",
       "      <td>Варшавское шоссе</td>\n",
       "      <td>30.0</td>\n",
       "    </tr>\n",
       "    <tr>\n",
       "      <td>Кировоградская улица</td>\n",
       "      <td>30.0</td>\n",
       "    </tr>\n",
       "    <tr>\n",
       "      <td>Пресненская набережная</td>\n",
       "      <td>30.0</td>\n",
       "    </tr>\n",
       "    <tr>\n",
       "      <td>Каширское шоссе</td>\n",
       "      <td>25.0</td>\n",
       "    </tr>\n",
       "    <tr>\n",
       "      <td>Профсоюзная улица</td>\n",
       "      <td>24.0</td>\n",
       "    </tr>\n",
       "  </tbody>\n",
       "</table>\n",
       "</div>"
      ],
      "text/plain": [
       "                        number\n",
       "streets                       \n",
       "проспект Мира             46.5\n",
       "Ленинский проспект        45.0\n",
       "Кутузовский проспект      40.0\n",
       "Ленинградский проспект    40.0\n",
       "проспект Вернадского      40.0\n",
       "Варшавское шоссе          30.0\n",
       "Кировоградская улица      30.0\n",
       "Пресненская набережная    30.0\n",
       "Каширское шоссе           25.0\n",
       "Профсоюзная улица         24.0"
      ]
     },
     "execution_count": 41,
     "metadata": {},
     "output_type": "execute_result"
    }
   ],
   "source": [
    "top10_streets_number = rest_data.query('streets in @top10_list').groupby(['streets']).agg(\n",
    "    {'number':'median'}).sort_values(by='number',ascending=False)\n",
    "top10_streets_number"
   ]
  },
  {
   "cell_type": "markdown",
   "metadata": {},
   "source": [
    "Построим график:"
   ]
  },
  {
   "cell_type": "code",
   "execution_count": 42,
   "metadata": {},
   "outputs": [
    {
     "data": {
      "image/png": "[encoded data removed]",
      "text/plain": [
       "<Figure size 1152x648 with 1 Axes>"
      ]
     },
     "metadata": {},
     "output_type": "display_data"
    }
   ],
   "source": [
    "plt.figure(figsize=(16,9))\n",
    "\n",
    "sns.barplot(data=top10_streets_number,x=top10_streets_number.index,y='number')\n",
    "plt.xticks(rotation=45)\n",
    "plt.title(\"Распределение посадочных мест для самых популярных улиц\", fontsize = 20)\n",
    "plt.xlabel(\"Улица\", fontsize = 15)\n",
    "plt.ylabel(\"Медианное количество посадочных мест\", fontsize = 15)\n",
    "plt.show()"
   ]
  },
  {
   "cell_type": "markdown",
   "metadata": {},
   "source": [
    "Видно, что на проспекте Мира и Ленинском проспекте расположены более крупные заведения с 40-45 посадочными местами, самые маленькие - на Каширском шоссе и Профсоюзной улице. Вероятно, это связано с архитектурными особенностями застройки этих улиц."
   ]
  },
  {
   "cell_type": "markdown",
   "metadata": {},
   "source": [
    "Посмотрим, заведений какого типа больше всего на выбранных улицах."
   ]
  },
  {
   "cell_type": "code",
   "execution_count": 43,
   "metadata": {},
   "outputs": [
    {
     "data": {
      "text/plain": [
       "streets                  \n",
       "Варшавское шоссе        0                                 кафе\n",
       "Каширское шоссе         0    предприятие быстрого обслуживания\n",
       "Кировоградская улица    0    предприятие быстрого обслуживания\n",
       "Кутузовский проспект    0                             ресторан\n",
       "Ленинградский проспект  0                                 кафе\n",
       "Ленинский проспект      0                                 кафе\n",
       "Пресненская набережная  0                                 кафе\n",
       "Профсоюзная улица       0                                 кафе\n",
       "проспект Вернадского    0                                 кафе\n",
       "проспект Мира           0                                 кафе\n",
       "Name: object_type, dtype: object"
      ]
     },
     "execution_count": 43,
     "metadata": {},
     "output_type": "execute_result"
    }
   ],
   "source": [
    "top10_streets_type = rest_data.query('streets in @top10_list').groupby(['streets'])['object_type'].apply(lambda x:x.mode())\n",
    "top10_streets_type"
   ]
  },
  {
   "cell_type": "code",
   "execution_count": 44,
   "metadata": {},
   "outputs": [],
   "source": [
    "top_object = top10_streets_type.unique()"
   ]
  },
  {
   "cell_type": "markdown",
   "metadata": {},
   "source": [
    "На большинстве улиц преобладают кафе, на Каширское шоссе и Кировоградская улица - предприятия быстрого обслуживания, на Кутузовском проспекте - рестораны."
   ]
  },
  {
   "cell_type": "markdown",
   "metadata": {},
   "source": [
    "Посмотрим, как распределены заведения самых популярных типов (кафе, рестораны и предприятия быстрого обслуживания) на выбранных улицах."
   ]
  },
  {
   "cell_type": "code",
   "execution_count": 45,
   "metadata": {},
   "outputs": [
    {
     "data": {
      "text/html": [
       "<div>\n",
       "<style scoped>\n",
       "    .dataframe tbody tr th:only-of-type {\n",
       "        vertical-align: middle;\n",
       "    }\n",
       "\n",
       "    .dataframe tbody tr th {\n",
       "        vertical-align: top;\n",
       "    }\n",
       "\n",
       "    .dataframe thead th {\n",
       "        text-align: right;\n",
       "    }\n",
       "</style>\n",
       "<table border=\"1\" class=\"dataframe\">\n",
       "  <thead>\n",
       "    <tr style=\"text-align: right;\">\n",
       "      <th></th>\n",
       "      <th>streets</th>\n",
       "      <th>object_type</th>\n",
       "      <th>id</th>\n",
       "    </tr>\n",
       "  </thead>\n",
       "  <tbody>\n",
       "    <tr>\n",
       "      <td>27</td>\n",
       "      <td>проспект Мира</td>\n",
       "      <td>кафе</td>\n",
       "      <td>103</td>\n",
       "    </tr>\n",
       "    <tr>\n",
       "      <td>18</td>\n",
       "      <td>Пресненская набережная</td>\n",
       "      <td>кафе</td>\n",
       "      <td>98</td>\n",
       "    </tr>\n",
       "    <tr>\n",
       "      <td>21</td>\n",
       "      <td>Профсоюзная улица</td>\n",
       "      <td>кафе</td>\n",
       "      <td>90</td>\n",
       "    </tr>\n",
       "    <tr>\n",
       "      <td>12</td>\n",
       "      <td>Ленинградский проспект</td>\n",
       "      <td>кафе</td>\n",
       "      <td>70</td>\n",
       "    </tr>\n",
       "    <tr>\n",
       "      <td>0</td>\n",
       "      <td>Варшавское шоссе</td>\n",
       "      <td>кафе</td>\n",
       "      <td>66</td>\n",
       "    </tr>\n",
       "    <tr>\n",
       "      <td>15</td>\n",
       "      <td>Ленинский проспект</td>\n",
       "      <td>кафе</td>\n",
       "      <td>64</td>\n",
       "    </tr>\n",
       "    <tr>\n",
       "      <td>24</td>\n",
       "      <td>проспект Вернадского</td>\n",
       "      <td>кафе</td>\n",
       "      <td>56</td>\n",
       "    </tr>\n",
       "    <tr>\n",
       "      <td>11</td>\n",
       "      <td>Кутузовский проспект</td>\n",
       "      <td>ресторан</td>\n",
       "      <td>48</td>\n",
       "    </tr>\n",
       "    <tr>\n",
       "      <td>14</td>\n",
       "      <td>Ленинградский проспект</td>\n",
       "      <td>ресторан</td>\n",
       "      <td>48</td>\n",
       "    </tr>\n",
       "    <tr>\n",
       "      <td>7</td>\n",
       "      <td>Кировоградская улица</td>\n",
       "      <td>предприятие быстрого обслуживания</td>\n",
       "      <td>47</td>\n",
       "    </tr>\n",
       "  </tbody>\n",
       "</table>\n",
       "</div>"
      ],
      "text/plain": [
       "                   streets                        object_type   id\n",
       "27           проспект Мира                               кафе  103\n",
       "18  Пресненская набережная                               кафе   98\n",
       "21       Профсоюзная улица                               кафе   90\n",
       "12  Ленинградский проспект                               кафе   70\n",
       "0         Варшавское шоссе                               кафе   66\n",
       "15      Ленинский проспект                               кафе   64\n",
       "24    проспект Вернадского                               кафе   56\n",
       "11    Кутузовский проспект                           ресторан   48\n",
       "14  Ленинградский проспект                           ресторан   48\n",
       "7     Кировоградская улица  предприятие быстрого обслуживания   47"
      ]
     },
     "execution_count": 45,
     "metadata": {},
     "output_type": "execute_result"
    }
   ],
   "source": [
    "rest_object = rest_data.query('streets in @top10_list and object_type in @top_object').groupby(\n",
    "    ['streets','object_type'],as_index=False).agg({'id':'count'}).sort_values(by=['id','object_type'],ascending=[False,False])\n",
    "rest_object.head(10)"
   ]
  },
  {
   "cell_type": "code",
   "execution_count": 46,
   "metadata": {},
   "outputs": [
    {
     "data": {
      "image/png": "[encoded data removed]",
      "text/plain": [
       "<Figure size 1152x648 with 1 Axes>"
      ]
     },
     "metadata": {},
     "output_type": "display_data"
    }
   ],
   "source": [
    "plt.figure(figsize=(16,9))\n",
    "sns.barplot(data=rest_object,x='streets',y='id',hue='object_type')\n",
    "plt.xticks(rotation=90)\n",
    "plt.title(\"Распределение заведений по типу на улицах Топ-10\", fontsize = 20)\n",
    "plt.xlabel(\"Улица\", fontsize = 15)\n",
    "plt.ylabel(\"Количество заведений\", fontsize = 15)\n",
    "plt.show()"
   ]
  },
  {
   "cell_type": "markdown",
   "metadata": {},
   "source": [
    "Сложно сделать однозначный вывод, где лучше открывать заведение определенного типа. С одной стороны, если открыть ресторан на улице, где их и так много, будет высокая конкуренция. С другой стороны, рисковано открывать ресторан, на улице, где преобладают предприятия быстрого обслуживания, так как, скорее всего, в этом месте основной спрос именно на них, и ресторан может оказаться невосстребован, и дело прогорит."
   ]
  },
  {
   "cell_type": "markdown",
   "metadata": {},
   "source": [
    "## Общий вывод"
   ]
  },
  {
   "cell_type": "markdown",
   "metadata": {},
   "source": [
    "В ходе исследования рынка заведений общественного питания Москвы были выявлены следующие факты:\n",
    "\n",
    "* В городе преобладают кафе, они составляют 40% всех заведений Москвы, на втором месте столовые (17%), на третьем рестораны (15%).\n",
    "* 80% заведений Москвы - **несетевые**.\n",
    "* Сетевое распределение характерно для **предприятий быстрого питания и магазинов с отделом кулинарии**, в меньшей степени характерно для кафе и ресторанов и совсем не характерно для буфетов и столовых.\n",
    "* Для московских сетей наиболее характерно небольшое количество заведений (до 10) с небольшим и средним количеством посадочных мест (до 100), также присутствуют и крупные сети с маленькими заведениями, и маленькие сети с большими ресторанами, но и тех и других немного.\n",
    "* Большое количество посадочных мест характерно для столовых и ресторанов, среднее - для кафе и баров, маленькое - для закусочных и магазинов с кулинариями.\n",
    "* Улицы с самым большим количеством заведений: проспект Мира, Профсоюзная улица, Ленинградский проспект, Пресненская набережная, Варшавское шоссе, Ленинский проспект, проспект Вернадского, Кутузовский проспект, Каширское шоссе, Кировоградская улица.\n",
    "* Районы, в которых находятся улицы с 1 заведением: Таганский район, Басманный район, Район Хамовники, Тверской район, Район Сокольники, Пресненский район, Мещанский район, Район Марьина роща, Район Замоскворечье.\t\n",
    "* Из самых насыщенных заведениями улиц, на проспекте Мира и Ленинском проспекте находятся заведения с большей посадкой, а на Каширском шоссе с меньшим количеством посадочных мест.\n",
    "* На большинстве улиц насыщенных заведениями преобладают кафе, на Каширском шоссе и Кировоградской улице - предприятия быстрого обслуживания, на Кутузовском проспекте - рестораны.\n",
    "\n",
    "**Рекомендации**\n",
    "\n",
    "* По результатам исследования можно сказать, что небольшое несетевое кафе - вполне жизнеспособный вариант, таких заведений в Москве 80%. \n",
    "\n",
    "* Здравый смысл подсказывает, что кафе с роботами вместо официантов имеет смысл открывать в центре города, в месте большого скопления туристов, это поможет избежать того, что кафе быстро приестся публике. Нельзя однозначно рекомендовать, где лучше открывать кафе, на улицах с большим количеством заведений или на таких, где заведение только одно. Открытие кафе на улице с высокой конкурнецией рискованнее, но зато и проходимость на больше, скорее всего кафе с роботами не потеряется и сможет привлечь внимание. \n",
    "\n",
    "* Оптимальное количество посадочных мест для кафе - от 30 до 45, для ресторана - от 90 до 120.\n",
    "* При выборе улицы и района стоит обратить внимание на преобладающий тип заведений на ней, не стоит открывать ресторан там, где люди предпочитают фастфуд.\n",
    "* В городе преобладают сети с небольшим количеством заведений (2-3), если дела с робокафе пойдут хорошо, вполне можно попытаться также развить его в небольшую сеть."
   ]
  },
  {
   "cell_type": "markdown",
   "metadata": {},
   "source": [
    "Ссылка на презентацию:\n",
    "<https://drive.google.com/file/d/16ZIfZpAhg6yUq-TqZqE07i0i-rpwwJ0P/view?usp=sharing>"
   ]
  },
  {
   "cell_type": "code",
   "execution_count": null,
   "metadata": {},
   "outputs": [],
   "source": []
  }
 ],
 "metadata": {
  "ExecuteTimeLog": [
   {
    "duration": 3,
    "start_time": "2022-01-11T15:48:42.795Z"
   },
   {
    "duration": 2,
    "start_time": "2022-01-11T15:48:44.942Z"
   },
   {
    "duration": 4,
    "start_time": "2022-01-11T15:48:55.583Z"
   },
   {
    "duration": 3,
    "start_time": "2022-01-11T15:49:46.614Z"
   },
   {
    "duration": 546,
    "start_time": "2022-01-11T15:49:59.631Z"
   },
   {
    "duration": 4,
    "start_time": "2022-01-11T15:51:25.483Z"
   },
   {
    "duration": 4,
    "start_time": "2022-01-11T15:52:02.392Z"
   },
   {
    "duration": 4,
    "start_time": "2022-01-11T15:52:04.163Z"
   },
   {
    "duration": 3,
    "start_time": "2022-01-11T15:52:11.359Z"
   },
   {
    "duration": 4,
    "start_time": "2022-01-11T15:53:44.471Z"
   },
   {
    "duration": 3,
    "start_time": "2022-01-11T15:54:06.589Z"
   },
   {
    "duration": 3,
    "start_time": "2022-01-11T15:55:20.389Z"
   },
   {
    "duration": 3,
    "start_time": "2022-01-11T15:55:39.430Z"
   },
   {
    "duration": 3,
    "start_time": "2022-01-11T16:01:20.124Z"
   },
   {
    "duration": 595,
    "start_time": "2022-01-11T17:38:20.236Z"
   },
   {
    "duration": 64,
    "start_time": "2022-01-11T17:39:01.336Z"
   },
   {
    "duration": 54,
    "start_time": "2022-01-11T17:39:11.848Z"
   },
   {
    "duration": 44,
    "start_time": "2022-01-11T17:42:19.174Z"
   },
   {
    "duration": 3,
    "start_time": "2022-01-11T17:42:23.420Z"
   },
   {
    "duration": 36,
    "start_time": "2022-01-11T17:42:32.478Z"
   },
   {
    "duration": 45,
    "start_time": "2022-01-11T17:45:27.193Z"
   },
   {
    "duration": 43,
    "start_time": "2022-01-11T17:48:58.489Z"
   },
   {
    "duration": 3,
    "start_time": "2022-01-11T17:48:59.595Z"
   },
   {
    "duration": 37,
    "start_time": "2022-01-11T17:49:01.128Z"
   },
   {
    "duration": 5,
    "start_time": "2022-01-11T17:53:29.760Z"
   },
   {
    "duration": 374,
    "start_time": "2022-01-11T17:53:45.660Z"
   },
   {
    "duration": 6,
    "start_time": "2022-01-11T17:53:55.842Z"
   },
   {
    "duration": 6,
    "start_time": "2022-01-11T17:54:06.148Z"
   },
   {
    "duration": 6,
    "start_time": "2022-01-11T17:54:19.635Z"
   },
   {
    "duration": 4,
    "start_time": "2022-01-11T17:57:06.287Z"
   },
   {
    "duration": 13,
    "start_time": "2022-01-11T17:58:25.325Z"
   },
   {
    "duration": 119,
    "start_time": "2022-01-11T17:58:31.289Z"
   },
   {
    "duration": 155,
    "start_time": "2022-01-11T17:58:39.089Z"
   },
   {
    "duration": 125,
    "start_time": "2022-01-11T17:58:47.496Z"
   },
   {
    "duration": 334,
    "start_time": "2022-01-11T17:58:55.840Z"
   },
   {
    "duration": 337,
    "start_time": "2022-01-11T18:26:51.232Z"
   },
   {
    "duration": 770,
    "start_time": "2022-01-11T18:26:55.585Z"
   },
   {
    "duration": 56,
    "start_time": "2022-01-11T18:26:56.358Z"
   },
   {
    "duration": 4,
    "start_time": "2022-01-11T18:26:56.417Z"
   },
   {
    "duration": 65,
    "start_time": "2022-01-11T18:26:56.423Z"
   },
   {
    "duration": 8,
    "start_time": "2022-01-11T18:26:56.518Z"
   },
   {
    "duration": 5,
    "start_time": "2022-01-11T18:26:56.529Z"
   },
   {
    "duration": 13,
    "start_time": "2022-01-11T18:26:56.537Z"
   },
   {
    "duration": 15,
    "start_time": "2022-01-11T18:27:07.794Z"
   },
   {
    "duration": 828,
    "start_time": "2022-01-11T18:31:42.982Z"
   },
   {
    "duration": 117,
    "start_time": "2022-01-12T14:21:20.314Z"
   },
   {
    "duration": 663,
    "start_time": "2022-01-12T14:21:30.236Z"
   },
   {
    "duration": 357,
    "start_time": "2022-01-12T14:21:48.392Z"
   },
   {
    "duration": 378,
    "start_time": "2022-01-12T14:21:55.623Z"
   },
   {
    "duration": 1471,
    "start_time": "2022-01-12T14:23:00.482Z"
   },
   {
    "duration": 65,
    "start_time": "2022-01-12T14:23:01.955Z"
   },
   {
    "duration": 4,
    "start_time": "2022-01-12T14:23:02.022Z"
   },
   {
    "duration": 42,
    "start_time": "2022-01-12T14:23:02.028Z"
   },
   {
    "duration": 5,
    "start_time": "2022-01-12T14:23:02.071Z"
   },
   {
    "duration": 4,
    "start_time": "2022-01-12T14:23:02.077Z"
   },
   {
    "duration": 129,
    "start_time": "2022-01-12T14:23:02.082Z"
   },
   {
    "duration": 12,
    "start_time": "2022-01-12T14:23:26.021Z"
   },
   {
    "duration": 8,
    "start_time": "2022-01-12T14:24:11.472Z"
   },
   {
    "duration": 400,
    "start_time": "2022-01-12T14:24:40.859Z"
   },
   {
    "duration": 9,
    "start_time": "2022-01-12T14:24:53.013Z"
   },
   {
    "duration": 9,
    "start_time": "2022-01-12T14:26:07.941Z"
   },
   {
    "duration": 14,
    "start_time": "2022-01-12T14:26:25.477Z"
   },
   {
    "duration": 9,
    "start_time": "2022-01-12T14:26:35.470Z"
   },
   {
    "duration": 171,
    "start_time": "2022-01-12T14:27:10.403Z"
   },
   {
    "duration": 10,
    "start_time": "2022-01-12T14:28:02.253Z"
   },
   {
    "duration": 9,
    "start_time": "2022-01-12T14:28:17.418Z"
   },
   {
    "duration": 6,
    "start_time": "2022-01-12T14:30:39.762Z"
   },
   {
    "duration": 10,
    "start_time": "2022-01-12T14:30:49.824Z"
   },
   {
    "duration": 9,
    "start_time": "2022-01-12T14:30:53.683Z"
   },
   {
    "duration": 338,
    "start_time": "2022-01-12T14:31:18.807Z"
   },
   {
    "duration": 110,
    "start_time": "2022-01-12T14:31:37.084Z"
   },
   {
    "duration": 146,
    "start_time": "2022-01-12T14:31:40.945Z"
   },
   {
    "duration": 209,
    "start_time": "2022-01-12T14:32:04.478Z"
   },
   {
    "duration": 209,
    "start_time": "2022-01-12T14:32:29.514Z"
   },
   {
    "duration": 223,
    "start_time": "2022-01-12T14:33:11.339Z"
   },
   {
    "duration": 762,
    "start_time": "2022-01-12T14:33:59.911Z"
   },
   {
    "duration": 736,
    "start_time": "2022-01-12T14:34:10.042Z"
   },
   {
    "duration": 220,
    "start_time": "2022-01-12T14:34:16.475Z"
   },
   {
    "duration": 242,
    "start_time": "2022-01-12T14:34:31.898Z"
   },
   {
    "duration": 249,
    "start_time": "2022-01-12T14:34:56.803Z"
   },
   {
    "duration": 259,
    "start_time": "2022-01-12T14:36:20.378Z"
   },
   {
    "duration": 249,
    "start_time": "2022-01-12T14:36:42.335Z"
   },
   {
    "duration": 6,
    "start_time": "2022-01-12T14:43:47.467Z"
   },
   {
    "duration": 9,
    "start_time": "2022-01-12T14:43:53.089Z"
   },
   {
    "duration": 8,
    "start_time": "2022-01-12T14:44:15.653Z"
   },
   {
    "duration": 167,
    "start_time": "2022-01-12T14:44:43.114Z"
   },
   {
    "duration": 167,
    "start_time": "2022-01-12T14:45:11.208Z"
   },
   {
    "duration": 132,
    "start_time": "2022-01-12T14:45:42.292Z"
   },
   {
    "duration": 10,
    "start_time": "2022-01-12T14:46:29.807Z"
   },
   {
    "duration": 128,
    "start_time": "2022-01-12T14:48:38.088Z"
   },
   {
    "duration": 123,
    "start_time": "2022-01-12T14:49:07.280Z"
   },
   {
    "duration": 126,
    "start_time": "2022-01-12T14:49:11.163Z"
   },
   {
    "duration": 134,
    "start_time": "2022-01-12T14:49:15.859Z"
   },
   {
    "duration": 13,
    "start_time": "2022-01-12T14:52:17.960Z"
   },
   {
    "duration": 103,
    "start_time": "2022-01-12T14:53:23.658Z"
   },
   {
    "duration": 10,
    "start_time": "2022-01-12T14:53:31.775Z"
   },
   {
    "duration": 16,
    "start_time": "2022-01-12T14:53:54.003Z"
   },
   {
    "duration": 8,
    "start_time": "2022-01-12T15:09:09.894Z"
   },
   {
    "duration": 12,
    "start_time": "2022-01-12T15:09:18.710Z"
   },
   {
    "duration": 424,
    "start_time": "2022-01-12T15:10:01.142Z"
   },
   {
    "duration": 412,
    "start_time": "2022-01-12T15:10:29.839Z"
   },
   {
    "duration": 344,
    "start_time": "2022-01-12T15:11:01.807Z"
   },
   {
    "duration": 19,
    "start_time": "2022-01-12T15:11:16.840Z"
   },
   {
    "duration": 18,
    "start_time": "2022-01-12T15:12:04.760Z"
   },
   {
    "duration": 19,
    "start_time": "2022-01-12T15:12:43.360Z"
   },
   {
    "duration": 19,
    "start_time": "2022-01-12T15:12:50.239Z"
   },
   {
    "duration": 20,
    "start_time": "2022-01-12T15:13:14.023Z"
   },
   {
    "duration": 19,
    "start_time": "2022-01-12T15:13:23.120Z"
   },
   {
    "duration": 20,
    "start_time": "2022-01-12T15:13:35.675Z"
   },
   {
    "duration": 5,
    "start_time": "2022-01-12T15:13:42.749Z"
   },
   {
    "duration": 7,
    "start_time": "2022-01-12T15:13:57.004Z"
   },
   {
    "duration": 28,
    "start_time": "2022-01-12T15:14:36.307Z"
   },
   {
    "duration": 6,
    "start_time": "2022-01-12T15:19:06.113Z"
   },
   {
    "duration": 11,
    "start_time": "2022-01-12T15:19:12.148Z"
   },
   {
    "duration": 16,
    "start_time": "2022-01-12T15:22:00.300Z"
   },
   {
    "duration": 16,
    "start_time": "2022-01-12T15:37:56.551Z"
   },
   {
    "duration": 19,
    "start_time": "2022-01-12T15:39:03.870Z"
   },
   {
    "duration": 27,
    "start_time": "2022-01-12T15:39:13.488Z"
   },
   {
    "duration": 17,
    "start_time": "2022-01-12T15:39:29.384Z"
   },
   {
    "duration": 19,
    "start_time": "2022-01-12T15:39:56.171Z"
   },
   {
    "duration": 102,
    "start_time": "2022-01-12T15:43:18.259Z"
   },
   {
    "duration": 293,
    "start_time": "2022-01-12T15:43:40.465Z"
   },
   {
    "duration": 280,
    "start_time": "2022-01-12T15:44:41.916Z"
   },
   {
    "duration": 292,
    "start_time": "2022-01-12T15:44:57.813Z"
   },
   {
    "duration": 15,
    "start_time": "2022-01-12T15:46:10.721Z"
   },
   {
    "duration": 19,
    "start_time": "2022-01-12T15:46:16.024Z"
   },
   {
    "duration": 345,
    "start_time": "2022-01-12T15:46:20.456Z"
   },
   {
    "duration": 289,
    "start_time": "2022-01-12T15:46:31.404Z"
   },
   {
    "duration": 289,
    "start_time": "2022-01-12T15:47:14.558Z"
   },
   {
    "duration": 282,
    "start_time": "2022-01-12T15:47:19.582Z"
   },
   {
    "duration": 317,
    "start_time": "2022-01-12T15:48:29.320Z"
   },
   {
    "duration": 308,
    "start_time": "2022-01-12T15:48:35.360Z"
   },
   {
    "duration": 303,
    "start_time": "2022-01-12T15:49:11.042Z"
   },
   {
    "duration": 632,
    "start_time": "2022-01-12T15:49:40.437Z"
   },
   {
    "duration": 647,
    "start_time": "2022-01-12T15:50:46.668Z"
   },
   {
    "duration": 374,
    "start_time": "2022-01-12T15:51:26.600Z"
   },
   {
    "duration": 331,
    "start_time": "2022-01-12T15:51:32.558Z"
   },
   {
    "duration": 352,
    "start_time": "2022-01-12T15:52:23.002Z"
   },
   {
    "duration": 328,
    "start_time": "2022-01-12T15:55:41.770Z"
   },
   {
    "duration": 4418,
    "start_time": "2022-01-12T15:56:09.250Z"
   },
   {
    "duration": 341,
    "start_time": "2022-01-12T15:56:20.911Z"
   },
   {
    "duration": 1146,
    "start_time": "2022-01-12T15:56:26.117Z"
   },
   {
    "duration": 3230,
    "start_time": "2022-01-12T15:56:27.265Z"
   },
   {
    "duration": 46,
    "start_time": "2022-01-12T15:56:30.497Z"
   },
   {
    "duration": 3,
    "start_time": "2022-01-12T15:56:30.545Z"
   },
   {
    "duration": 42,
    "start_time": "2022-01-12T15:56:30.550Z"
   },
   {
    "duration": 5,
    "start_time": "2022-01-12T15:56:30.593Z"
   },
   {
    "duration": 28,
    "start_time": "2022-01-12T15:56:30.600Z"
   },
   {
    "duration": 275,
    "start_time": "2022-01-12T15:56:30.629Z"
   },
   {
    "duration": 217,
    "start_time": "2022-01-12T15:56:30.906Z"
   },
   {
    "duration": 29,
    "start_time": "2022-01-12T15:56:31.127Z"
   },
   {
    "duration": 407,
    "start_time": "2022-01-12T15:56:31.158Z"
   },
   {
    "duration": 274,
    "start_time": "2022-01-12T15:56:31.566Z"
   },
   {
    "duration": 487,
    "start_time": "2022-01-12T15:56:47.068Z"
   },
   {
    "duration": 389,
    "start_time": "2022-01-12T15:57:06.196Z"
   },
   {
    "duration": 747,
    "start_time": "2022-01-12T15:58:26.382Z"
   },
   {
    "duration": 450,
    "start_time": "2022-01-12T15:58:37.557Z"
   },
   {
    "duration": 409,
    "start_time": "2022-01-12T15:59:55.403Z"
   },
   {
    "duration": 339,
    "start_time": "2022-01-12T16:01:25.197Z"
   },
   {
    "duration": 339,
    "start_time": "2022-01-12T16:04:34.831Z"
   },
   {
    "duration": 339,
    "start_time": "2022-01-12T16:04:42.571Z"
   },
   {
    "duration": 325,
    "start_time": "2022-01-12T16:04:49.876Z"
   },
   {
    "duration": 353,
    "start_time": "2022-01-12T16:04:53.900Z"
   },
   {
    "duration": 352,
    "start_time": "2022-01-12T16:05:26.178Z"
   },
   {
    "duration": 107,
    "start_time": "2022-01-12T16:06:53.493Z"
   },
   {
    "duration": 118,
    "start_time": "2022-01-12T16:07:01.133Z"
   },
   {
    "duration": 11,
    "start_time": "2022-01-12T16:07:14.382Z"
   },
   {
    "duration": 347,
    "start_time": "2022-01-12T16:08:50.771Z"
   },
   {
    "duration": 561,
    "start_time": "2022-01-12T16:09:09.869Z"
   },
   {
    "duration": 565,
    "start_time": "2022-01-12T16:09:42.477Z"
   },
   {
    "duration": 567,
    "start_time": "2022-01-12T16:10:19.588Z"
   },
   {
    "duration": 119,
    "start_time": "2022-01-12T16:12:30.816Z"
   },
   {
    "duration": 413,
    "start_time": "2022-01-12T16:13:48.167Z"
   },
   {
    "duration": 21,
    "start_time": "2022-01-12T16:19:43.415Z"
   },
   {
    "duration": 335,
    "start_time": "2022-01-12T16:19:48.563Z"
   },
   {
    "duration": 20,
    "start_time": "2022-01-12T16:21:18.936Z"
   },
   {
    "duration": 328,
    "start_time": "2022-01-12T16:21:25.701Z"
   },
   {
    "duration": 414,
    "start_time": "2022-01-12T16:21:35.549Z"
   },
   {
    "duration": 347,
    "start_time": "2022-01-12T16:22:04.122Z"
   },
   {
    "duration": 349,
    "start_time": "2022-01-12T16:22:31.121Z"
   },
   {
    "duration": 14,
    "start_time": "2022-01-12T16:40:50.530Z"
   },
   {
    "duration": 11,
    "start_time": "2022-01-12T16:41:19.547Z"
   },
   {
    "duration": 11,
    "start_time": "2022-01-12T16:43:12.426Z"
   },
   {
    "duration": 12,
    "start_time": "2022-01-12T16:43:17.239Z"
   },
   {
    "duration": 11,
    "start_time": "2022-01-12T16:43:46.697Z"
   },
   {
    "duration": 12,
    "start_time": "2022-01-12T16:43:49.940Z"
   },
   {
    "duration": 9034,
    "start_time": "2022-01-12T16:45:11.169Z"
   },
   {
    "duration": 12,
    "start_time": "2022-01-12T16:53:30.708Z"
   },
   {
    "duration": 13,
    "start_time": "2022-01-12T16:54:26.709Z"
   },
   {
    "duration": 12,
    "start_time": "2022-01-12T16:54:31.444Z"
   },
   {
    "duration": 15,
    "start_time": "2022-01-12T17:48:00.490Z"
   },
   {
    "duration": 19,
    "start_time": "2022-01-12T17:49:20.734Z"
   },
   {
    "duration": 16,
    "start_time": "2022-01-12T17:50:09.862Z"
   },
   {
    "duration": 23,
    "start_time": "2022-01-12T17:51:19.944Z"
   },
   {
    "duration": 24,
    "start_time": "2022-01-12T17:52:38.404Z"
   },
   {
    "duration": 21,
    "start_time": "2022-01-12T17:52:48.493Z"
   },
   {
    "duration": 8,
    "start_time": "2022-01-12T17:58:02.494Z"
   },
   {
    "duration": 11,
    "start_time": "2022-01-12T18:03:08.704Z"
   },
   {
    "duration": 18,
    "start_time": "2022-01-12T18:20:16.279Z"
   },
   {
    "duration": 17,
    "start_time": "2022-01-12T18:20:17.758Z"
   },
   {
    "duration": 17,
    "start_time": "2022-01-12T18:20:39.452Z"
   },
   {
    "duration": 17,
    "start_time": "2022-01-12T18:21:05.391Z"
   },
   {
    "duration": 17,
    "start_time": "2022-01-12T18:21:58.814Z"
   },
   {
    "duration": 18,
    "start_time": "2022-01-12T18:22:00.247Z"
   },
   {
    "duration": 21,
    "start_time": "2022-01-12T18:34:08.668Z"
   },
   {
    "duration": 22,
    "start_time": "2022-01-12T18:34:10.444Z"
   },
   {
    "duration": 7,
    "start_time": "2022-01-12T18:37:53.655Z"
   },
   {
    "duration": 31,
    "start_time": "2022-01-12T18:37:56.420Z"
   },
   {
    "duration": 7,
    "start_time": "2022-01-12T18:38:15.781Z"
   },
   {
    "duration": 23,
    "start_time": "2022-01-12T18:38:17.124Z"
   },
   {
    "duration": 340,
    "start_time": "2022-01-12T18:39:01.922Z"
   },
   {
    "duration": 7,
    "start_time": "2022-01-12T18:39:10.674Z"
   },
   {
    "duration": 16,
    "start_time": "2022-01-12T18:39:12.751Z"
   },
   {
    "duration": 10,
    "start_time": "2022-01-12T18:43:39.288Z"
   },
   {
    "duration": 19,
    "start_time": "2022-01-12T18:43:41.338Z"
   },
   {
    "duration": 13,
    "start_time": "2022-01-12T18:44:04.747Z"
   },
   {
    "duration": 10,
    "start_time": "2022-01-12T18:48:34.912Z"
   },
   {
    "duration": 18,
    "start_time": "2022-01-12T18:48:38.017Z"
   },
   {
    "duration": 30,
    "start_time": "2022-01-12T18:49:16.956Z"
   },
   {
    "duration": 17,
    "start_time": "2022-01-12T18:49:18.667Z"
   },
   {
    "duration": 6,
    "start_time": "2022-01-12T18:51:17.345Z"
   },
   {
    "duration": 24,
    "start_time": "2022-01-12T18:51:19.459Z"
   },
   {
    "duration": 1264,
    "start_time": "2022-01-12T18:51:29.185Z"
   },
   {
    "duration": 2351,
    "start_time": "2022-01-12T18:51:30.451Z"
   },
   {
    "duration": 53,
    "start_time": "2022-01-12T18:51:32.805Z"
   },
   {
    "duration": 3,
    "start_time": "2022-01-12T18:51:32.860Z"
   },
   {
    "duration": 45,
    "start_time": "2022-01-12T18:51:32.865Z"
   },
   {
    "duration": 33,
    "start_time": "2022-01-12T18:51:32.911Z"
   },
   {
    "duration": 269,
    "start_time": "2022-01-12T18:51:32.946Z"
   },
   {
    "duration": 145,
    "start_time": "2022-01-12T18:51:33.217Z"
   },
   {
    "duration": 398,
    "start_time": "2022-01-12T18:51:33.365Z"
   },
   {
    "duration": 19,
    "start_time": "2022-01-12T18:51:33.765Z"
   },
   {
    "duration": 395,
    "start_time": "2022-01-12T18:51:33.786Z"
   },
   {
    "duration": 25,
    "start_time": "2022-01-12T18:51:34.183Z"
   },
   {
    "duration": 19,
    "start_time": "2022-01-12T18:51:34.210Z"
   },
   {
    "duration": 39,
    "start_time": "2022-01-12T18:51:34.231Z"
   },
   {
    "duration": 12,
    "start_time": "2022-01-12T18:51:34.272Z"
   },
   {
    "duration": 8569,
    "start_time": "2022-01-12T18:51:34.285Z"
   },
   {
    "duration": 7,
    "start_time": "2022-01-12T18:51:46.782Z"
   },
   {
    "duration": 16,
    "start_time": "2022-01-12T18:51:50.898Z"
   },
   {
    "duration": 5,
    "start_time": "2022-01-12T18:52:07.885Z"
   },
   {
    "duration": 16,
    "start_time": "2022-01-12T18:52:09.263Z"
   },
   {
    "duration": 20,
    "start_time": "2022-01-12T18:52:41.340Z"
   },
   {
    "duration": 5,
    "start_time": "2022-01-12T18:52:43.275Z"
   },
   {
    "duration": 17,
    "start_time": "2022-01-12T18:52:46.048Z"
   },
   {
    "duration": 9,
    "start_time": "2022-01-12T18:53:14.599Z"
   },
   {
    "duration": 18,
    "start_time": "2022-01-12T18:53:16.443Z"
   },
   {
    "duration": 8,
    "start_time": "2022-01-12T18:53:21.850Z"
   },
   {
    "duration": 22,
    "start_time": "2022-01-12T18:53:23.362Z"
   },
   {
    "duration": 10,
    "start_time": "2022-01-12T18:54:09.977Z"
   },
   {
    "duration": 17,
    "start_time": "2022-01-12T18:54:11.771Z"
   },
   {
    "duration": 11,
    "start_time": "2022-01-12T18:54:59.814Z"
   },
   {
    "duration": 18,
    "start_time": "2022-01-12T18:55:01.450Z"
   },
   {
    "duration": 24,
    "start_time": "2022-01-12T18:55:41.424Z"
   },
   {
    "duration": 16,
    "start_time": "2022-01-12T18:55:44.577Z"
   },
   {
    "duration": 16,
    "start_time": "2022-01-12T18:55:57.000Z"
   },
   {
    "duration": 29,
    "start_time": "2022-01-12T18:56:37.500Z"
   },
   {
    "duration": 8,
    "start_time": "2022-01-12T18:57:08.556Z"
   },
   {
    "duration": 17,
    "start_time": "2022-01-12T18:57:11.498Z"
   },
   {
    "duration": 17,
    "start_time": "2022-01-12T18:57:40.355Z"
   },
   {
    "duration": 19,
    "start_time": "2022-01-12T18:59:33.649Z"
   },
   {
    "duration": 114,
    "start_time": "2022-01-12T18:59:42.115Z"
   },
   {
    "duration": 15,
    "start_time": "2022-01-12T18:59:46.250Z"
   },
   {
    "duration": 18,
    "start_time": "2022-01-12T19:00:12.761Z"
   },
   {
    "duration": 21,
    "start_time": "2022-01-12T19:00:14.275Z"
   },
   {
    "duration": 8669,
    "start_time": "2022-01-12T19:00:47.717Z"
   },
   {
    "duration": 5,
    "start_time": "2022-01-12T19:01:11.049Z"
   },
   {
    "duration": 16,
    "start_time": "2022-01-12T19:01:58.744Z"
   },
   {
    "duration": 16,
    "start_time": "2022-01-12T19:03:23.883Z"
   },
   {
    "duration": 16,
    "start_time": "2022-01-12T19:03:25.877Z"
   },
   {
    "duration": 5,
    "start_time": "2022-01-12T19:03:59.997Z"
   },
   {
    "duration": 24,
    "start_time": "2022-01-12T19:04:52.726Z"
   },
   {
    "duration": 26,
    "start_time": "2022-01-12T19:05:29.112Z"
   },
   {
    "duration": 18,
    "start_time": "2022-01-12T19:05:30.592Z"
   },
   {
    "duration": 18,
    "start_time": "2022-01-12T19:05:51.911Z"
   },
   {
    "duration": 21,
    "start_time": "2022-01-12T19:07:36.595Z"
   },
   {
    "duration": 19,
    "start_time": "2022-01-12T19:09:35.632Z"
   },
   {
    "duration": 10,
    "start_time": "2022-01-12T20:25:39.751Z"
   },
   {
    "duration": 4,
    "start_time": "2022-01-12T20:32:33.260Z"
   },
   {
    "duration": 99,
    "start_time": "2022-01-12T20:33:10.636Z"
   },
   {
    "duration": 331,
    "start_time": "2022-01-12T20:33:17.466Z"
   },
   {
    "duration": 315,
    "start_time": "2022-01-12T20:33:28.527Z"
   },
   {
    "duration": 8,
    "start_time": "2022-01-12T20:33:50.672Z"
   },
   {
    "duration": 616,
    "start_time": "2022-01-12T20:35:19.367Z"
   },
   {
    "duration": 6,
    "start_time": "2022-01-12T20:35:27.397Z"
   },
   {
    "duration": 14,
    "start_time": "2022-01-12T20:35:33.039Z"
   },
   {
    "duration": 11,
    "start_time": "2022-01-12T20:35:38.561Z"
   },
   {
    "duration": 4,
    "start_time": "2022-01-12T20:36:03.063Z"
   },
   {
    "duration": 124,
    "start_time": "2022-01-12T20:36:40.928Z"
   },
   {
    "duration": 226,
    "start_time": "2022-01-12T20:36:58.428Z"
   },
   {
    "duration": 6,
    "start_time": "2022-01-12T20:38:39.322Z"
   },
   {
    "duration": 15,
    "start_time": "2022-01-12T20:38:44.624Z"
   },
   {
    "duration": 11,
    "start_time": "2022-01-12T20:39:00.782Z"
   },
   {
    "duration": 14,
    "start_time": "2022-01-12T20:39:07.633Z"
   },
   {
    "duration": 12,
    "start_time": "2022-01-12T20:39:13.350Z"
   },
   {
    "duration": 376,
    "start_time": "2022-01-12T20:41:25.068Z"
   },
   {
    "duration": 277,
    "start_time": "2022-01-12T20:41:29.415Z"
   },
   {
    "duration": 372,
    "start_time": "2022-01-12T20:41:33.914Z"
   },
   {
    "duration": 396,
    "start_time": "2022-01-12T20:45:13.984Z"
   },
   {
    "duration": 372,
    "start_time": "2022-01-12T20:45:51.620Z"
   },
   {
    "duration": 1289,
    "start_time": "2022-01-12T20:48:30.891Z"
   },
   {
    "duration": 1530,
    "start_time": "2022-01-12T20:48:49.124Z"
   },
   {
    "duration": 1295,
    "start_time": "2022-01-12T20:49:01.528Z"
   },
   {
    "duration": 1376,
    "start_time": "2022-01-12T20:49:15.900Z"
   },
   {
    "duration": 1248,
    "start_time": "2022-01-12T20:51:11.465Z"
   },
   {
    "duration": 1298,
    "start_time": "2022-01-12T20:51:30.520Z"
   },
   {
    "duration": 1302,
    "start_time": "2022-01-12T20:53:34.395Z"
   },
   {
    "duration": 1299,
    "start_time": "2022-01-12T20:54:13.948Z"
   },
   {
    "duration": 1405,
    "start_time": "2022-01-12T20:54:20.396Z"
   },
   {
    "duration": 1354,
    "start_time": "2022-01-12T20:54:26.828Z"
   },
   {
    "duration": 458,
    "start_time": "2022-01-12T20:57:09.037Z"
   },
   {
    "duration": 1444,
    "start_time": "2022-01-12T21:06:40.497Z"
   },
   {
    "duration": 1304,
    "start_time": "2022-01-12T21:17:21.200Z"
   },
   {
    "duration": 3,
    "start_time": "2022-01-12T21:21:27.885Z"
   },
   {
    "duration": 20,
    "start_time": "2022-01-12T21:21:30.941Z"
   },
   {
    "duration": 17,
    "start_time": "2022-01-12T21:21:43.381Z"
   },
   {
    "duration": 16,
    "start_time": "2022-01-12T21:21:44.234Z"
   },
   {
    "duration": 17,
    "start_time": "2022-01-12T21:21:46.362Z"
   },
   {
    "duration": 3,
    "start_time": "2022-01-12T21:22:04.624Z"
   },
   {
    "duration": 15,
    "start_time": "2022-01-12T21:22:06.241Z"
   },
   {
    "duration": 1077,
    "start_time": "2022-01-12T21:22:10.726Z"
   },
   {
    "duration": 2671,
    "start_time": "2022-01-12T21:22:11.805Z"
   },
   {
    "duration": 47,
    "start_time": "2022-01-12T21:22:14.482Z"
   },
   {
    "duration": 6,
    "start_time": "2022-01-12T21:22:14.531Z"
   },
   {
    "duration": 38,
    "start_time": "2022-01-12T21:22:14.538Z"
   },
   {
    "duration": 10,
    "start_time": "2022-01-12T21:22:14.578Z"
   },
   {
    "duration": 277,
    "start_time": "2022-01-12T21:22:14.590Z"
   },
   {
    "duration": 145,
    "start_time": "2022-01-12T21:22:14.869Z"
   },
   {
    "duration": 382,
    "start_time": "2022-01-12T21:22:15.016Z"
   },
   {
    "duration": 32,
    "start_time": "2022-01-12T21:22:15.400Z"
   },
   {
    "duration": 357,
    "start_time": "2022-01-12T21:22:15.434Z"
   },
   {
    "duration": 3,
    "start_time": "2022-01-12T21:22:15.793Z"
   },
   {
    "duration": 21,
    "start_time": "2022-01-12T21:22:15.797Z"
   },
   {
    "duration": 26,
    "start_time": "2022-01-12T21:22:15.820Z"
   },
   {
    "duration": 15,
    "start_time": "2022-01-12T21:22:15.848Z"
   },
   {
    "duration": 9,
    "start_time": "2022-01-12T21:22:15.865Z"
   },
   {
    "duration": 4,
    "start_time": "2022-01-12T21:22:15.876Z"
   },
   {
    "duration": 11,
    "start_time": "2022-01-12T21:22:15.882Z"
   },
   {
    "duration": 319,
    "start_time": "2022-01-12T21:22:15.895Z"
   },
   {
    "duration": 621,
    "start_time": "2022-01-12T21:22:16.216Z"
   },
   {
    "duration": 1444,
    "start_time": "2022-01-12T21:22:16.839Z"
   },
   {
    "duration": 15,
    "start_time": "2022-01-12T21:25:48.016Z"
   },
   {
    "duration": 19,
    "start_time": "2022-01-12T21:25:58.394Z"
   },
   {
    "duration": 2,
    "start_time": "2022-01-12T21:26:44.183Z"
   },
   {
    "duration": 25,
    "start_time": "2022-01-12T21:26:48.257Z"
   },
   {
    "duration": 22,
    "start_time": "2022-01-12T21:28:19.674Z"
   },
   {
    "duration": 25,
    "start_time": "2022-01-12T21:28:20.695Z"
   },
   {
    "duration": 21,
    "start_time": "2022-01-12T21:29:26.037Z"
   },
   {
    "duration": 25,
    "start_time": "2022-01-12T21:29:27.198Z"
   },
   {
    "duration": 27,
    "start_time": "2022-01-12T21:29:31.325Z"
   },
   {
    "duration": 1376,
    "start_time": "2022-01-12T21:29:38.328Z"
   },
   {
    "duration": 2431,
    "start_time": "2022-01-12T21:29:39.706Z"
   },
   {
    "duration": 63,
    "start_time": "2022-01-12T21:29:42.140Z"
   },
   {
    "duration": 3,
    "start_time": "2022-01-12T21:29:42.206Z"
   },
   {
    "duration": 59,
    "start_time": "2022-01-12T21:29:42.211Z"
   },
   {
    "duration": 12,
    "start_time": "2022-01-12T21:29:42.272Z"
   },
   {
    "duration": 291,
    "start_time": "2022-01-12T21:29:42.286Z"
   },
   {
    "duration": 145,
    "start_time": "2022-01-12T21:29:42.578Z"
   },
   {
    "duration": 388,
    "start_time": "2022-01-12T21:29:42.725Z"
   },
   {
    "duration": 23,
    "start_time": "2022-01-12T21:29:43.115Z"
   },
   {
    "duration": 359,
    "start_time": "2022-01-12T21:29:43.140Z"
   },
   {
    "duration": 3,
    "start_time": "2022-01-12T21:29:43.500Z"
   },
   {
    "duration": 46,
    "start_time": "2022-01-12T21:29:43.504Z"
   },
   {
    "duration": 34,
    "start_time": "2022-01-12T21:29:43.551Z"
   },
   {
    "duration": 44,
    "start_time": "2022-01-12T21:29:43.587Z"
   },
   {
    "duration": 11,
    "start_time": "2022-01-12T21:29:43.633Z"
   },
   {
    "duration": 27,
    "start_time": "2022-01-12T21:29:43.645Z"
   },
   {
    "duration": 25,
    "start_time": "2022-01-12T21:29:43.674Z"
   },
   {
    "duration": 299,
    "start_time": "2022-01-12T21:29:43.701Z"
   },
   {
    "duration": 532,
    "start_time": "2022-01-12T21:29:44.002Z"
   },
   {
    "duration": 1449,
    "start_time": "2022-01-12T21:29:44.536Z"
   },
   {
    "duration": 20,
    "start_time": "2022-01-12T21:30:54.062Z"
   },
   {
    "duration": 26,
    "start_time": "2022-01-12T21:30:55.432Z"
   },
   {
    "duration": 19,
    "start_time": "2022-01-12T21:31:04.943Z"
   },
   {
    "duration": 25,
    "start_time": "2022-01-12T21:31:07.291Z"
   },
   {
    "duration": 19,
    "start_time": "2022-01-12T21:32:32.216Z"
   },
   {
    "duration": 18,
    "start_time": "2022-01-12T21:32:40.115Z"
   },
   {
    "duration": 25,
    "start_time": "2022-01-12T21:32:42.055Z"
   },
   {
    "duration": 1076,
    "start_time": "2022-01-12T21:32:52.734Z"
   },
   {
    "duration": 2454,
    "start_time": "2022-01-12T21:32:53.812Z"
   },
   {
    "duration": 47,
    "start_time": "2022-01-12T21:32:56.268Z"
   },
   {
    "duration": 3,
    "start_time": "2022-01-12T21:32:56.317Z"
   },
   {
    "duration": 44,
    "start_time": "2022-01-12T21:32:56.321Z"
   },
   {
    "duration": 10,
    "start_time": "2022-01-12T21:32:56.366Z"
   },
   {
    "duration": 274,
    "start_time": "2022-01-12T21:32:56.378Z"
   },
   {
    "duration": 140,
    "start_time": "2022-01-12T21:32:56.653Z"
   },
   {
    "duration": 377,
    "start_time": "2022-01-12T21:32:56.795Z"
   },
   {
    "duration": 19,
    "start_time": "2022-01-12T21:32:57.174Z"
   },
   {
    "duration": 357,
    "start_time": "2022-01-12T21:32:57.195Z"
   },
   {
    "duration": 3,
    "start_time": "2022-01-12T21:32:57.553Z"
   },
   {
    "duration": 23,
    "start_time": "2022-01-12T21:32:57.557Z"
   },
   {
    "duration": 24,
    "start_time": "2022-01-12T21:32:57.581Z"
   },
   {
    "duration": 38,
    "start_time": "2022-01-12T21:32:57.607Z"
   },
   {
    "duration": 11,
    "start_time": "2022-01-12T21:32:57.647Z"
   },
   {
    "duration": 9,
    "start_time": "2022-01-12T21:32:57.659Z"
   },
   {
    "duration": 17,
    "start_time": "2022-01-12T21:32:57.670Z"
   },
   {
    "duration": 306,
    "start_time": "2022-01-12T21:32:57.689Z"
   },
   {
    "duration": 536,
    "start_time": "2022-01-12T21:32:57.997Z"
   },
   {
    "duration": 1445,
    "start_time": "2022-01-12T21:32:58.534Z"
   },
   {
    "duration": 18,
    "start_time": "2022-01-12T21:33:17.757Z"
   },
   {
    "duration": 22,
    "start_time": "2022-01-12T21:33:19.815Z"
   },
   {
    "duration": 24,
    "start_time": "2022-01-12T21:33:21.078Z"
   },
   {
    "duration": 19,
    "start_time": "2022-01-12T21:33:55.107Z"
   },
   {
    "duration": 21,
    "start_time": "2022-01-12T21:33:56.446Z"
   },
   {
    "duration": 24,
    "start_time": "2022-01-12T21:33:57.598Z"
   },
   {
    "duration": 19,
    "start_time": "2022-01-12T21:35:13.154Z"
   },
   {
    "duration": 20,
    "start_time": "2022-01-12T21:35:15.031Z"
   },
   {
    "duration": 24,
    "start_time": "2022-01-12T21:35:15.748Z"
   },
   {
    "duration": 15,
    "start_time": "2022-01-12T21:36:43.050Z"
   },
   {
    "duration": 11,
    "start_time": "2022-01-12T21:37:26.276Z"
   },
   {
    "duration": 8,
    "start_time": "2022-01-12T21:37:33.624Z"
   },
   {
    "duration": 11,
    "start_time": "2022-01-12T21:38:30.412Z"
   },
   {
    "duration": 276,
    "start_time": "2022-01-12T21:38:33.339Z"
   },
   {
    "duration": 1292,
    "start_time": "2022-01-12T21:38:38.591Z"
   },
   {
    "duration": 12,
    "start_time": "2022-01-12T21:41:24.960Z"
   },
   {
    "duration": 282,
    "start_time": "2022-01-12T21:41:29.010Z"
   },
   {
    "duration": 555,
    "start_time": "2022-01-12T21:41:32.537Z"
   },
   {
    "duration": 8,
    "start_time": "2022-01-12T21:44:21.642Z"
   },
   {
    "duration": 24,
    "start_time": "2022-01-12T21:46:59.462Z"
   },
   {
    "duration": 25,
    "start_time": "2022-01-12T21:52:06.070Z"
   },
   {
    "duration": 25,
    "start_time": "2022-01-12T21:52:38.754Z"
   },
   {
    "duration": 19,
    "start_time": "2022-01-12T21:53:38.408Z"
   },
   {
    "duration": 26,
    "start_time": "2022-01-12T21:53:39.698Z"
   },
   {
    "duration": 3,
    "start_time": "2022-01-12T22:09:29.086Z"
   },
   {
    "duration": 3,
    "start_time": "2022-01-12T22:10:22.487Z"
   },
   {
    "duration": 11,
    "start_time": "2022-01-12T22:10:34.074Z"
   },
   {
    "duration": 9,
    "start_time": "2022-01-12T22:11:20.119Z"
   },
   {
    "duration": 3,
    "start_time": "2022-01-12T22:12:02.354Z"
   },
   {
    "duration": 11,
    "start_time": "2022-01-12T22:12:03.713Z"
   },
   {
    "duration": 8,
    "start_time": "2022-01-12T22:12:06.948Z"
   },
   {
    "duration": 2,
    "start_time": "2022-01-12T22:23:02.375Z"
   },
   {
    "duration": 10,
    "start_time": "2022-01-12T22:23:03.754Z"
   },
   {
    "duration": 8,
    "start_time": "2022-01-12T22:23:05.863Z"
   },
   {
    "duration": 4,
    "start_time": "2022-01-12T22:31:28.545Z"
   },
   {
    "duration": 12,
    "start_time": "2022-01-12T22:31:29.637Z"
   },
   {
    "duration": 10,
    "start_time": "2022-01-12T22:31:42.624Z"
   },
   {
    "duration": 4,
    "start_time": "2022-01-13T14:12:45.539Z"
   },
   {
    "duration": 466,
    "start_time": "2022-01-13T14:13:48.343Z"
   },
   {
    "duration": 664,
    "start_time": "2022-01-13T14:17:12.462Z"
   },
   {
    "duration": 3,
    "start_time": "2022-01-13T14:18:06.682Z"
   },
   {
    "duration": 774,
    "start_time": "2022-01-13T14:18:08.384Z"
   },
   {
    "duration": 10,
    "start_time": "2022-01-13T14:18:15.454Z"
   },
   {
    "duration": 12,
    "start_time": "2022-01-13T14:20:55.771Z"
   },
   {
    "duration": 10,
    "start_time": "2022-01-13T14:21:42.709Z"
   },
   {
    "duration": 10,
    "start_time": "2022-01-13T14:23:15.762Z"
   },
   {
    "duration": 8,
    "start_time": "2022-01-13T14:23:40.729Z"
   },
   {
    "duration": 10,
    "start_time": "2022-01-13T14:23:51.118Z"
   },
   {
    "duration": 502,
    "start_time": "2022-01-13T14:27:09.690Z"
   },
   {
    "duration": 104,
    "start_time": "2022-01-13T14:29:11.654Z"
   },
   {
    "duration": 12,
    "start_time": "2022-01-13T14:33:38.191Z"
   },
   {
    "duration": 147,
    "start_time": "2022-01-13T15:23:04.578Z"
   },
   {
    "duration": 364,
    "start_time": "2022-01-13T15:24:06.513Z"
   },
   {
    "duration": 3,
    "start_time": "2022-01-13T15:24:17.192Z"
   },
   {
    "duration": 3,
    "start_time": "2022-01-13T15:24:42.520Z"
   },
   {
    "duration": 395,
    "start_time": "2022-01-13T15:25:04.923Z"
   },
   {
    "duration": 370,
    "start_time": "2022-01-13T15:25:32.219Z"
   },
   {
    "duration": 374,
    "start_time": "2022-01-13T15:25:36.796Z"
   },
   {
    "duration": 370,
    "start_time": "2022-01-13T15:25:40.319Z"
   },
   {
    "duration": 327,
    "start_time": "2022-01-13T15:25:51.321Z"
   },
   {
    "duration": 342,
    "start_time": "2022-01-13T15:25:55.735Z"
   },
   {
    "duration": 362,
    "start_time": "2022-01-13T15:26:23.996Z"
   },
   {
    "duration": 101,
    "start_time": "2022-01-13T15:26:28.333Z"
   },
   {
    "duration": 116,
    "start_time": "2022-01-13T15:26:37.175Z"
   },
   {
    "duration": 3,
    "start_time": "2022-01-13T15:26:39.725Z"
   },
   {
    "duration": 3,
    "start_time": "2022-01-13T15:26:46.375Z"
   },
   {
    "duration": 4,
    "start_time": "2022-01-13T15:26:52.009Z"
   },
   {
    "duration": 3,
    "start_time": "2022-01-13T15:27:00.655Z"
   },
   {
    "duration": 3,
    "start_time": "2022-01-13T15:27:07.708Z"
   },
   {
    "duration": 3,
    "start_time": "2022-01-13T15:27:47.949Z"
   },
   {
    "duration": 4,
    "start_time": "2022-01-13T15:27:57.735Z"
   },
   {
    "duration": 4,
    "start_time": "2022-01-13T15:28:03.018Z"
   },
   {
    "duration": 4,
    "start_time": "2022-01-13T15:28:07.582Z"
   },
   {
    "duration": 4,
    "start_time": "2022-01-13T15:28:56.642Z"
   },
   {
    "duration": 4,
    "start_time": "2022-01-13T15:29:07.287Z"
   },
   {
    "duration": 3,
    "start_time": "2022-01-13T15:29:11.810Z"
   },
   {
    "duration": 392,
    "start_time": "2022-01-13T15:29:28.179Z"
   },
   {
    "duration": 4,
    "start_time": "2022-01-13T15:29:31.530Z"
   },
   {
    "duration": 402,
    "start_time": "2022-01-13T15:29:41.823Z"
   },
   {
    "duration": 4,
    "start_time": "2022-01-13T15:29:48.816Z"
   },
   {
    "duration": 3,
    "start_time": "2022-01-13T15:30:17.585Z"
   },
   {
    "duration": 4,
    "start_time": "2022-01-13T15:30:23.781Z"
   },
   {
    "duration": 5,
    "start_time": "2022-01-13T15:30:28.503Z"
   },
   {
    "duration": 4,
    "start_time": "2022-01-13T15:33:38.985Z"
   },
   {
    "duration": 4,
    "start_time": "2022-01-13T15:33:56.249Z"
   },
   {
    "duration": 4,
    "start_time": "2022-01-13T15:34:08.223Z"
   },
   {
    "duration": 4,
    "start_time": "2022-01-13T15:34:17.261Z"
   },
   {
    "duration": 327,
    "start_time": "2022-01-13T15:34:26.010Z"
   },
   {
    "duration": 3,
    "start_time": "2022-01-13T15:34:32.552Z"
   },
   {
    "duration": 4,
    "start_time": "2022-01-13T15:34:48.583Z"
   },
   {
    "duration": 327,
    "start_time": "2022-01-13T15:34:57.955Z"
   },
   {
    "duration": 4,
    "start_time": "2022-01-13T15:35:01.588Z"
   },
   {
    "duration": 4,
    "start_time": "2022-01-13T15:35:03.646Z"
   },
   {
    "duration": 3,
    "start_time": "2022-01-13T15:35:11.591Z"
   },
   {
    "duration": 3,
    "start_time": "2022-01-13T15:35:15.427Z"
   },
   {
    "duration": 353,
    "start_time": "2022-01-13T15:37:38.590Z"
   },
   {
    "duration": 3,
    "start_time": "2022-01-13T15:37:56.004Z"
   },
   {
    "duration": 5,
    "start_time": "2022-01-13T15:42:19.490Z"
   },
   {
    "duration": 3,
    "start_time": "2022-01-13T16:23:20.600Z"
   },
   {
    "duration": 3,
    "start_time": "2022-01-13T16:24:11.326Z"
   },
   {
    "duration": 368,
    "start_time": "2022-01-13T16:24:47.516Z"
   },
   {
    "duration": 319,
    "start_time": "2022-01-13T16:24:51.695Z"
   },
   {
    "duration": 356,
    "start_time": "2022-01-13T16:24:57.894Z"
   },
   {
    "duration": 4,
    "start_time": "2022-01-13T16:25:04.693Z"
   },
   {
    "duration": 3,
    "start_time": "2022-01-13T16:39:31.271Z"
   },
   {
    "duration": 3,
    "start_time": "2022-01-13T16:39:56.078Z"
   },
   {
    "duration": 331,
    "start_time": "2022-01-13T16:40:00.733Z"
   },
   {
    "duration": 347,
    "start_time": "2022-01-13T16:40:21.827Z"
   },
   {
    "duration": 1829,
    "start_time": "2022-01-13T17:10:09.669Z"
   },
   {
    "duration": 681,
    "start_time": "2022-01-13T17:10:32.930Z"
   },
   {
    "duration": 374,
    "start_time": "2022-01-13T17:11:04.701Z"
   },
   {
    "duration": 336,
    "start_time": "2022-01-13T17:11:27.103Z"
   },
   {
    "duration": 338,
    "start_time": "2022-01-13T17:15:44.392Z"
   },
   {
    "duration": 3,
    "start_time": "2022-01-13T17:15:54.745Z"
   },
   {
    "duration": 12,
    "start_time": "2022-01-13T17:17:04.582Z"
   },
   {
    "duration": 3,
    "start_time": "2022-01-13T17:19:01.759Z"
   },
   {
    "duration": 3,
    "start_time": "2022-01-13T17:19:03.568Z"
   },
   {
    "duration": 4,
    "start_time": "2022-01-13T17:19:07.382Z"
   },
   {
    "duration": 3,
    "start_time": "2022-01-13T17:19:57.771Z"
   },
   {
    "duration": 4,
    "start_time": "2022-01-13T17:21:45.012Z"
   },
   {
    "duration": 3,
    "start_time": "2022-01-13T17:23:14.288Z"
   },
   {
    "duration": 26,
    "start_time": "2022-01-13T17:24:25.118Z"
   },
   {
    "duration": 38,
    "start_time": "2022-01-13T17:24:30.452Z"
   },
   {
    "duration": 3,
    "start_time": "2022-01-13T17:25:44.699Z"
   },
   {
    "duration": 1686,
    "start_time": "2022-01-13T17:25:47.137Z"
   },
   {
    "duration": 1181,
    "start_time": "2022-01-13T17:26:19.136Z"
   },
   {
    "duration": 2682,
    "start_time": "2022-01-13T17:26:20.320Z"
   },
   {
    "duration": 49,
    "start_time": "2022-01-13T17:26:23.004Z"
   },
   {
    "duration": 3,
    "start_time": "2022-01-13T17:26:23.055Z"
   },
   {
    "duration": 45,
    "start_time": "2022-01-13T17:26:23.060Z"
   },
   {
    "duration": 28,
    "start_time": "2022-01-13T17:26:23.106Z"
   },
   {
    "duration": 323,
    "start_time": "2022-01-13T17:26:23.136Z"
   },
   {
    "duration": 154,
    "start_time": "2022-01-13T17:26:23.462Z"
   },
   {
    "duration": 397,
    "start_time": "2022-01-13T17:26:23.617Z"
   },
   {
    "duration": 28,
    "start_time": "2022-01-13T17:26:24.016Z"
   },
   {
    "duration": 387,
    "start_time": "2022-01-13T17:26:24.046Z"
   },
   {
    "duration": 2,
    "start_time": "2022-01-13T17:26:24.435Z"
   },
   {
    "duration": 30,
    "start_time": "2022-01-13T17:26:24.439Z"
   },
   {
    "duration": 23,
    "start_time": "2022-01-13T17:26:24.471Z"
   },
   {
    "duration": 46,
    "start_time": "2022-01-13T17:26:24.496Z"
   },
   {
    "duration": 4,
    "start_time": "2022-01-13T17:26:24.544Z"
   },
   {
    "duration": 23,
    "start_time": "2022-01-13T17:26:24.550Z"
   },
   {
    "duration": 9,
    "start_time": "2022-01-13T17:26:24.575Z"
   },
   {
    "duration": 18,
    "start_time": "2022-01-13T17:26:24.586Z"
   },
   {
    "duration": 25,
    "start_time": "2022-01-13T17:26:24.606Z"
   },
   {
    "duration": 4,
    "start_time": "2022-01-13T17:26:24.633Z"
   },
   {
    "duration": 19,
    "start_time": "2022-01-13T17:26:24.639Z"
   },
   {
    "duration": 317,
    "start_time": "2022-01-13T17:26:24.661Z"
   },
   {
    "duration": 562,
    "start_time": "2022-01-13T17:26:24.980Z"
   },
   {
    "duration": 1487,
    "start_time": "2022-01-13T17:26:25.543Z"
   },
   {
    "duration": 10,
    "start_time": "2022-01-13T17:26:27.032Z"
   },
   {
    "duration": 383,
    "start_time": "2022-01-13T17:26:27.044Z"
   },
   {
    "duration": 11,
    "start_time": "2022-01-13T17:26:27.428Z"
   },
   {
    "duration": 5,
    "start_time": "2022-01-13T17:26:27.440Z"
   },
   {
    "duration": 5,
    "start_time": "2022-01-13T17:26:27.446Z"
   },
   {
    "duration": 5,
    "start_time": "2022-01-13T17:26:27.452Z"
   },
   {
    "duration": 1983,
    "start_time": "2022-01-13T17:26:27.458Z"
   },
   {
    "duration": 4,
    "start_time": "2022-01-13T17:27:25.648Z"
   },
   {
    "duration": 11,
    "start_time": "2022-01-13T17:27:41.228Z"
   },
   {
    "duration": 3,
    "start_time": "2022-01-13T17:27:58.188Z"
   },
   {
    "duration": 3,
    "start_time": "2022-01-13T17:28:15.854Z"
   },
   {
    "duration": 11,
    "start_time": "2022-01-13T17:28:35.047Z"
   },
   {
    "duration": 5,
    "start_time": "2022-01-13T17:29:16.510Z"
   },
   {
    "duration": 6,
    "start_time": "2022-01-13T17:30:03.088Z"
   },
   {
    "duration": 3,
    "start_time": "2022-01-13T17:30:16.484Z"
   },
   {
    "duration": 3,
    "start_time": "2022-01-13T17:30:30.952Z"
   },
   {
    "duration": 3,
    "start_time": "2022-01-13T17:33:44.857Z"
   },
   {
    "duration": 10,
    "start_time": "2022-01-13T17:33:52.978Z"
   },
   {
    "duration": 1166,
    "start_time": "2022-01-13T17:34:22.905Z"
   },
   {
    "duration": 2366,
    "start_time": "2022-01-13T17:34:24.072Z"
   },
   {
    "duration": 48,
    "start_time": "2022-01-13T17:34:26.441Z"
   },
   {
    "duration": 4,
    "start_time": "2022-01-13T17:34:26.491Z"
   },
   {
    "duration": 44,
    "start_time": "2022-01-13T17:34:26.496Z"
   },
   {
    "duration": 9,
    "start_time": "2022-01-13T17:34:26.542Z"
   },
   {
    "duration": 272,
    "start_time": "2022-01-13T17:34:26.553Z"
   },
   {
    "duration": 145,
    "start_time": "2022-01-13T17:34:26.827Z"
   },
   {
    "duration": 391,
    "start_time": "2022-01-13T17:34:26.974Z"
   },
   {
    "duration": 19,
    "start_time": "2022-01-13T17:34:27.367Z"
   },
   {
    "duration": 355,
    "start_time": "2022-01-13T17:34:27.388Z"
   },
   {
    "duration": 3,
    "start_time": "2022-01-13T17:34:27.744Z"
   },
   {
    "duration": 21,
    "start_time": "2022-01-13T17:34:27.748Z"
   },
   {
    "duration": 33,
    "start_time": "2022-01-13T17:34:27.771Z"
   },
   {
    "duration": 26,
    "start_time": "2022-01-13T17:34:27.805Z"
   },
   {
    "duration": 2,
    "start_time": "2022-01-13T17:34:27.833Z"
   },
   {
    "duration": 16,
    "start_time": "2022-01-13T17:34:27.837Z"
   },
   {
    "duration": 9,
    "start_time": "2022-01-13T17:34:27.855Z"
   },
   {
    "duration": 11,
    "start_time": "2022-01-13T17:34:27.865Z"
   },
   {
    "duration": 11,
    "start_time": "2022-01-13T17:34:27.877Z"
   },
   {
    "duration": 3,
    "start_time": "2022-01-13T17:34:27.889Z"
   },
   {
    "duration": 19,
    "start_time": "2022-01-13T17:34:27.894Z"
   },
   {
    "duration": 282,
    "start_time": "2022-01-13T17:34:27.914Z"
   },
   {
    "duration": 611,
    "start_time": "2022-01-13T17:34:28.198Z"
   },
   {
    "duration": 1385,
    "start_time": "2022-01-13T17:34:28.811Z"
   },
   {
    "duration": 10,
    "start_time": "2022-01-13T17:34:30.198Z"
   },
   {
    "duration": 362,
    "start_time": "2022-01-13T17:34:30.211Z"
   },
   {
    "duration": 6,
    "start_time": "2022-01-13T17:34:30.575Z"
   },
   {
    "duration": 5,
    "start_time": "2022-01-13T17:34:30.583Z"
   },
   {
    "duration": 8,
    "start_time": "2022-01-13T17:34:30.590Z"
   },
   {
    "duration": 14,
    "start_time": "2022-01-13T17:34:30.600Z"
   },
   {
    "duration": 12,
    "start_time": "2022-01-13T17:34:30.615Z"
   },
   {
    "duration": 21,
    "start_time": "2022-01-13T17:34:30.628Z"
   },
   {
    "duration": 2,
    "start_time": "2022-01-13T17:35:36.603Z"
   },
   {
    "duration": 3,
    "start_time": "2022-01-13T17:35:38.003Z"
   },
   {
    "duration": 10,
    "start_time": "2022-01-13T17:35:38.953Z"
   },
   {
    "duration": 1298,
    "start_time": "2022-01-13T17:35:50.468Z"
   },
   {
    "duration": 3444,
    "start_time": "2022-01-13T17:35:51.767Z"
   },
   {
    "duration": 48,
    "start_time": "2022-01-13T17:35:55.216Z"
   },
   {
    "duration": 4,
    "start_time": "2022-01-13T17:35:55.265Z"
   },
   {
    "duration": 57,
    "start_time": "2022-01-13T17:35:55.271Z"
   },
   {
    "duration": 11,
    "start_time": "2022-01-13T17:35:55.329Z"
   },
   {
    "duration": 283,
    "start_time": "2022-01-13T17:35:55.343Z"
   },
   {
    "duration": 143,
    "start_time": "2022-01-13T17:35:55.629Z"
   },
   {
    "duration": 392,
    "start_time": "2022-01-13T17:35:55.773Z"
   },
   {
    "duration": 18,
    "start_time": "2022-01-13T17:35:56.166Z"
   },
   {
    "duration": 357,
    "start_time": "2022-01-13T17:35:56.186Z"
   },
   {
    "duration": 3,
    "start_time": "2022-01-13T17:35:56.544Z"
   },
   {
    "duration": 21,
    "start_time": "2022-01-13T17:35:56.548Z"
   },
   {
    "duration": 23,
    "start_time": "2022-01-13T17:35:56.571Z"
   },
   {
    "duration": 41,
    "start_time": "2022-01-13T17:35:56.595Z"
   },
   {
    "duration": 2,
    "start_time": "2022-01-13T17:35:56.638Z"
   },
   {
    "duration": 13,
    "start_time": "2022-01-13T17:35:56.641Z"
   },
   {
    "duration": 8,
    "start_time": "2022-01-13T17:35:56.655Z"
   },
   {
    "duration": 9,
    "start_time": "2022-01-13T17:35:56.665Z"
   },
   {
    "duration": 11,
    "start_time": "2022-01-13T17:35:56.675Z"
   },
   {
    "duration": 3,
    "start_time": "2022-01-13T17:35:56.688Z"
   },
   {
    "duration": 40,
    "start_time": "2022-01-13T17:35:56.693Z"
   },
   {
    "duration": 285,
    "start_time": "2022-01-13T17:35:56.735Z"
   },
   {
    "duration": 603,
    "start_time": "2022-01-13T17:35:57.026Z"
   },
   {
    "duration": 1498,
    "start_time": "2022-01-13T17:35:57.632Z"
   },
   {
    "duration": 9,
    "start_time": "2022-01-13T17:35:59.132Z"
   },
   {
    "duration": 360,
    "start_time": "2022-01-13T17:35:59.143Z"
   },
   {
    "duration": 5,
    "start_time": "2022-01-13T17:35:59.504Z"
   },
   {
    "duration": 5,
    "start_time": "2022-01-13T17:35:59.511Z"
   },
   {
    "duration": 3,
    "start_time": "2022-01-13T17:35:59.527Z"
   },
   {
    "duration": 6,
    "start_time": "2022-01-13T17:35:59.531Z"
   },
   {
    "duration": 5,
    "start_time": "2022-01-13T17:35:59.539Z"
   },
   {
    "duration": 11,
    "start_time": "2022-01-13T17:35:59.546Z"
   },
   {
    "duration": 2,
    "start_time": "2022-01-13T17:38:57.874Z"
   },
   {
    "duration": 9,
    "start_time": "2022-01-13T17:39:08.468Z"
   },
   {
    "duration": 3,
    "start_time": "2022-01-13T17:39:11.338Z"
   },
   {
    "duration": 9,
    "start_time": "2022-01-13T17:39:12.967Z"
   },
   {
    "duration": 3,
    "start_time": "2022-01-13T17:39:15.468Z"
   },
   {
    "duration": 10,
    "start_time": "2022-01-13T17:39:16.262Z"
   },
   {
    "duration": 11,
    "start_time": "2022-01-13T17:39:23.943Z"
   },
   {
    "duration": 1115,
    "start_time": "2022-01-13T17:39:30.766Z"
   },
   {
    "duration": 2485,
    "start_time": "2022-01-13T17:39:31.883Z"
   },
   {
    "duration": 48,
    "start_time": "2022-01-13T17:39:34.370Z"
   },
   {
    "duration": 3,
    "start_time": "2022-01-13T17:39:34.420Z"
   },
   {
    "duration": 39,
    "start_time": "2022-01-13T17:39:34.424Z"
   },
   {
    "duration": 10,
    "start_time": "2022-01-13T17:39:34.464Z"
   },
   {
    "duration": 274,
    "start_time": "2022-01-13T17:39:34.475Z"
   },
   {
    "duration": 141,
    "start_time": "2022-01-13T17:39:34.751Z"
   },
   {
    "duration": 380,
    "start_time": "2022-01-13T17:39:34.894Z"
   },
   {
    "duration": 18,
    "start_time": "2022-01-13T17:39:35.276Z"
   },
   {
    "duration": 354,
    "start_time": "2022-01-13T17:39:35.295Z"
   },
   {
    "duration": 2,
    "start_time": "2022-01-13T17:39:35.650Z"
   },
   {
    "duration": 22,
    "start_time": "2022-01-13T17:39:35.654Z"
   },
   {
    "duration": 20,
    "start_time": "2022-01-13T17:39:35.678Z"
   },
   {
    "duration": 40,
    "start_time": "2022-01-13T17:39:35.700Z"
   },
   {
    "duration": 3,
    "start_time": "2022-01-13T17:39:35.741Z"
   },
   {
    "duration": 11,
    "start_time": "2022-01-13T17:39:35.746Z"
   },
   {
    "duration": 9,
    "start_time": "2022-01-13T17:39:35.759Z"
   },
   {
    "duration": 8,
    "start_time": "2022-01-13T17:39:35.769Z"
   },
   {
    "duration": 10,
    "start_time": "2022-01-13T17:39:35.778Z"
   },
   {
    "duration": 3,
    "start_time": "2022-01-13T17:39:35.790Z"
   },
   {
    "duration": 39,
    "start_time": "2022-01-13T17:39:35.795Z"
   },
   {
    "duration": 293,
    "start_time": "2022-01-13T17:39:35.835Z"
   },
   {
    "duration": 598,
    "start_time": "2022-01-13T17:39:36.129Z"
   },
   {
    "duration": 1451,
    "start_time": "2022-01-13T17:39:36.729Z"
   },
   {
    "duration": 10,
    "start_time": "2022-01-13T17:39:38.182Z"
   },
   {
    "duration": 348,
    "start_time": "2022-01-13T17:39:38.195Z"
   },
   {
    "duration": 5,
    "start_time": "2022-01-13T17:39:38.545Z"
   },
   {
    "duration": 7,
    "start_time": "2022-01-13T17:39:38.551Z"
   },
   {
    "duration": 7,
    "start_time": "2022-01-13T17:39:38.559Z"
   },
   {
    "duration": 4,
    "start_time": "2022-01-13T17:39:38.567Z"
   },
   {
    "duration": 4,
    "start_time": "2022-01-13T17:39:38.573Z"
   },
   {
    "duration": 13,
    "start_time": "2022-01-13T17:39:38.578Z"
   },
   {
    "duration": 1432,
    "start_time": "2022-01-13T17:41:18.268Z"
   },
   {
    "duration": 1336,
    "start_time": "2022-01-13T17:43:00.598Z"
   },
   {
    "duration": 9,
    "start_time": "2022-01-13T17:44:43.881Z"
   },
   {
    "duration": 3,
    "start_time": "2022-01-13T17:45:12.000Z"
   },
   {
    "duration": 12,
    "start_time": "2022-01-13T17:45:14.072Z"
   },
   {
    "duration": 697,
    "start_time": "2022-01-13T17:48:23.246Z"
   },
   {
    "duration": 10,
    "start_time": "2022-01-13T17:48:52.802Z"
   },
   {
    "duration": 327,
    "start_time": "2022-01-13T17:51:28.689Z"
   },
   {
    "duration": 106,
    "start_time": "2022-01-13T17:53:19.956Z"
   },
   {
    "duration": 3,
    "start_time": "2022-01-13T17:53:25.515Z"
   },
   {
    "duration": 6,
    "start_time": "2022-01-13T17:53:32.071Z"
   },
   {
    "duration": 4,
    "start_time": "2022-01-13T17:54:15.575Z"
   },
   {
    "duration": 1560,
    "start_time": "2022-01-13T17:54:22.511Z"
   },
   {
    "duration": 5,
    "start_time": "2022-01-13T17:54:53.085Z"
   },
   {
    "duration": 6,
    "start_time": "2022-01-13T17:58:53.452Z"
   },
   {
    "duration": 5,
    "start_time": "2022-01-13T17:59:06.368Z"
   },
   {
    "duration": 6,
    "start_time": "2022-01-13T18:00:01.840Z"
   },
   {
    "duration": 146,
    "start_time": "2022-01-13T18:01:38.224Z"
   },
   {
    "duration": 3,
    "start_time": "2022-01-13T18:01:52.951Z"
   },
   {
    "duration": 3,
    "start_time": "2022-01-13T18:01:54.756Z"
   },
   {
    "duration": 12,
    "start_time": "2022-01-13T18:01:59.093Z"
   },
   {
    "duration": 1609,
    "start_time": "2022-01-13T18:02:22.922Z"
   },
   {
    "duration": 1607,
    "start_time": "2022-01-13T18:02:31.000Z"
   },
   {
    "duration": 3080,
    "start_time": "2022-01-13T18:02:42.695Z"
   },
   {
    "duration": 2742,
    "start_time": "2022-01-13T18:02:45.777Z"
   },
   {
    "duration": 51,
    "start_time": "2022-01-13T18:02:48.522Z"
   },
   {
    "duration": 3,
    "start_time": "2022-01-13T18:02:48.575Z"
   },
   {
    "duration": 48,
    "start_time": "2022-01-13T18:02:48.580Z"
   },
   {
    "duration": 11,
    "start_time": "2022-01-13T18:02:48.629Z"
   },
   {
    "duration": 289,
    "start_time": "2022-01-13T18:02:48.642Z"
   },
   {
    "duration": 145,
    "start_time": "2022-01-13T18:02:48.933Z"
   },
   {
    "duration": 405,
    "start_time": "2022-01-13T18:02:49.079Z"
   },
   {
    "duration": 18,
    "start_time": "2022-01-13T18:02:49.485Z"
   },
   {
    "duration": 353,
    "start_time": "2022-01-13T18:02:49.505Z"
   },
   {
    "duration": 3,
    "start_time": "2022-01-13T18:02:49.859Z"
   },
   {
    "duration": 21,
    "start_time": "2022-01-13T18:02:49.863Z"
   },
   {
    "duration": 21,
    "start_time": "2022-01-13T18:02:49.885Z"
   },
   {
    "duration": 39,
    "start_time": "2022-01-13T18:02:49.908Z"
   },
   {
    "duration": 3,
    "start_time": "2022-01-13T18:02:49.948Z"
   },
   {
    "duration": 11,
    "start_time": "2022-01-13T18:02:49.952Z"
   },
   {
    "duration": 7,
    "start_time": "2022-01-13T18:02:49.965Z"
   },
   {
    "duration": 9,
    "start_time": "2022-01-13T18:02:49.973Z"
   },
   {
    "duration": 10,
    "start_time": "2022-01-13T18:02:49.983Z"
   },
   {
    "duration": 35,
    "start_time": "2022-01-13T18:02:49.994Z"
   },
   {
    "duration": 13,
    "start_time": "2022-01-13T18:02:50.031Z"
   },
   {
    "duration": 289,
    "start_time": "2022-01-13T18:02:50.048Z"
   },
   {
    "duration": 588,
    "start_time": "2022-01-13T18:02:50.339Z"
   },
   {
    "duration": 1334,
    "start_time": "2022-01-13T18:02:50.928Z"
   },
   {
    "duration": 9,
    "start_time": "2022-01-13T18:02:52.264Z"
   },
   {
    "duration": 347,
    "start_time": "2022-01-13T18:02:52.275Z"
   },
   {
    "duration": 5,
    "start_time": "2022-01-13T18:02:52.623Z"
   },
   {
    "duration": 6,
    "start_time": "2022-01-13T18:02:52.629Z"
   },
   {
    "duration": 4,
    "start_time": "2022-01-13T18:02:52.636Z"
   },
   {
    "duration": 5,
    "start_time": "2022-01-13T18:02:52.642Z"
   },
   {
    "duration": 5,
    "start_time": "2022-01-13T18:02:52.648Z"
   },
   {
    "duration": 1762,
    "start_time": "2022-01-13T18:02:52.654Z"
   },
   {
    "duration": 3,
    "start_time": "2022-01-13T18:03:28.416Z"
   },
   {
    "duration": 13,
    "start_time": "2022-01-13T18:03:29.650Z"
   },
   {
    "duration": 17,
    "start_time": "2022-01-13T18:03:39.565Z"
   },
   {
    "duration": 3,
    "start_time": "2022-01-13T18:04:01.785Z"
   },
   {
    "duration": 2934,
    "start_time": "2022-01-13T18:04:02.975Z"
   },
   {
    "duration": 3,
    "start_time": "2022-01-13T18:04:15.535Z"
   },
   {
    "duration": 1651,
    "start_time": "2022-01-13T18:04:16.317Z"
   },
   {
    "duration": 3,
    "start_time": "2022-01-13T18:04:23.024Z"
   },
   {
    "duration": 1675,
    "start_time": "2022-01-13T18:04:24.013Z"
   },
   {
    "duration": 3,
    "start_time": "2022-01-13T18:04:31.125Z"
   },
   {
    "duration": 1684,
    "start_time": "2022-01-13T18:04:32.029Z"
   },
   {
    "duration": 3,
    "start_time": "2022-01-13T18:04:38.269Z"
   },
   {
    "duration": 17,
    "start_time": "2022-01-13T18:04:39.260Z"
   },
   {
    "duration": 4,
    "start_time": "2022-01-13T18:05:01.334Z"
   },
   {
    "duration": 19,
    "start_time": "2022-01-13T18:05:02.701Z"
   },
   {
    "duration": 3,
    "start_time": "2022-01-13T18:05:06.249Z"
   },
   {
    "duration": 20,
    "start_time": "2022-01-13T18:05:08.386Z"
   },
   {
    "duration": 3,
    "start_time": "2022-01-13T18:05:13.897Z"
   },
   {
    "duration": 20,
    "start_time": "2022-01-13T18:05:15.010Z"
   },
   {
    "duration": 3,
    "start_time": "2022-01-13T18:05:20.724Z"
   },
   {
    "duration": 19,
    "start_time": "2022-01-13T18:05:21.650Z"
   },
   {
    "duration": 3,
    "start_time": "2022-01-13T18:05:25.341Z"
   },
   {
    "duration": 20,
    "start_time": "2022-01-13T18:05:26.543Z"
   },
   {
    "duration": 3,
    "start_time": "2022-01-13T18:05:31.360Z"
   },
   {
    "duration": 1786,
    "start_time": "2022-01-13T18:05:32.015Z"
   },
   {
    "duration": 4,
    "start_time": "2022-01-13T18:06:19.492Z"
   },
   {
    "duration": 4,
    "start_time": "2022-01-13T18:06:28.709Z"
   },
   {
    "duration": 4,
    "start_time": "2022-01-13T18:06:38.739Z"
   },
   {
    "duration": 2,
    "start_time": "2022-01-13T18:09:26.568Z"
   },
   {
    "duration": 3,
    "start_time": "2022-01-13T18:09:27.960Z"
   },
   {
    "duration": 1832,
    "start_time": "2022-01-13T18:09:28.742Z"
   },
   {
    "duration": 3,
    "start_time": "2022-01-13T18:10:01.541Z"
   },
   {
    "duration": 20,
    "start_time": "2022-01-13T18:10:02.908Z"
   },
   {
    "duration": 9273,
    "start_time": "2022-01-13T18:10:12.380Z"
   },
   {
    "duration": 3,
    "start_time": "2022-01-13T18:10:33.527Z"
   },
   {
    "duration": 4165,
    "start_time": "2022-01-13T18:10:33.532Z"
   },
   {
    "duration": 24,
    "start_time": "2022-01-13T18:10:45.297Z"
   },
   {
    "duration": 3,
    "start_time": "2022-01-13T18:10:50.535Z"
   },
   {
    "duration": 2158,
    "start_time": "2022-01-13T18:10:54.787Z"
   },
   {
    "duration": 3,
    "start_time": "2022-01-13T18:11:13.538Z"
   },
   {
    "duration": 1635,
    "start_time": "2022-01-13T18:11:14.279Z"
   },
   {
    "duration": 3,
    "start_time": "2022-01-13T18:11:20.400Z"
   },
   {
    "duration": 29,
    "start_time": "2022-01-13T18:11:21.259Z"
   },
   {
    "duration": 2,
    "start_time": "2022-01-13T18:11:24.649Z"
   },
   {
    "duration": 34,
    "start_time": "2022-01-13T18:11:25.613Z"
   },
   {
    "duration": 3,
    "start_time": "2022-01-13T18:11:33.687Z"
   },
   {
    "duration": 2288,
    "start_time": "2022-01-13T18:11:34.662Z"
   },
   {
    "duration": 3,
    "start_time": "2022-01-13T18:11:41.841Z"
   },
   {
    "duration": 1776,
    "start_time": "2022-01-13T18:11:42.968Z"
   },
   {
    "duration": 3,
    "start_time": "2022-01-13T18:11:50.455Z"
   },
   {
    "duration": 34,
    "start_time": "2022-01-13T18:11:51.953Z"
   },
   {
    "duration": 3,
    "start_time": "2022-01-13T18:11:55.229Z"
   },
   {
    "duration": 30,
    "start_time": "2022-01-13T18:11:56.055Z"
   },
   {
    "duration": 3,
    "start_time": "2022-01-13T18:12:00.049Z"
   },
   {
    "duration": 1933,
    "start_time": "2022-01-13T18:12:00.907Z"
   },
   {
    "duration": 3,
    "start_time": "2022-01-13T18:12:06.313Z"
   },
   {
    "duration": 1894,
    "start_time": "2022-01-13T18:12:07.742Z"
   },
   {
    "duration": 3,
    "start_time": "2022-01-13T18:12:13.551Z"
   },
   {
    "duration": 1596,
    "start_time": "2022-01-13T18:12:14.544Z"
   },
   {
    "duration": 3,
    "start_time": "2022-01-13T18:12:19.280Z"
   },
   {
    "duration": 31,
    "start_time": "2022-01-13T18:12:20.584Z"
   },
   {
    "duration": 3,
    "start_time": "2022-01-13T18:12:24.804Z"
   },
   {
    "duration": 4,
    "start_time": "2022-01-13T18:12:29.427Z"
   },
   {
    "duration": 3,
    "start_time": "2022-01-13T18:13:32.345Z"
   },
   {
    "duration": 3,
    "start_time": "2022-01-13T18:13:35.208Z"
   },
   {
    "duration": 35,
    "start_time": "2022-01-13T18:13:38.566Z"
   },
   {
    "duration": 3,
    "start_time": "2022-01-13T18:13:43.275Z"
   },
   {
    "duration": 29,
    "start_time": "2022-01-13T18:13:43.927Z"
   },
   {
    "duration": 3,
    "start_time": "2022-01-13T18:13:48.387Z"
   },
   {
    "duration": 33,
    "start_time": "2022-01-13T18:13:49.472Z"
   },
   {
    "duration": 3,
    "start_time": "2022-01-13T18:13:53.946Z"
   },
   {
    "duration": 40,
    "start_time": "2022-01-13T18:13:54.756Z"
   },
   {
    "duration": 3,
    "start_time": "2022-01-13T18:13:59.163Z"
   },
   {
    "duration": 1858,
    "start_time": "2022-01-13T18:14:00.335Z"
   },
   {
    "duration": 4,
    "start_time": "2022-01-13T18:14:11.854Z"
   },
   {
    "duration": 23,
    "start_time": "2022-01-13T18:14:13.308Z"
   },
   {
    "duration": 4,
    "start_time": "2022-01-13T18:14:16.846Z"
   },
   {
    "duration": 16,
    "start_time": "2022-01-13T18:14:18.291Z"
   },
   {
    "duration": 3,
    "start_time": "2022-01-13T18:14:22.941Z"
   },
   {
    "duration": 22,
    "start_time": "2022-01-13T18:14:24.250Z"
   },
   {
    "duration": 3,
    "start_time": "2022-01-13T18:14:29.077Z"
   },
   {
    "duration": 1692,
    "start_time": "2022-01-13T18:14:29.770Z"
   },
   {
    "duration": 3,
    "start_time": "2022-01-13T18:14:37.922Z"
   },
   {
    "duration": 1761,
    "start_time": "2022-01-13T18:14:39.392Z"
   },
   {
    "duration": 3,
    "start_time": "2022-01-13T18:14:44.807Z"
   },
   {
    "duration": 16,
    "start_time": "2022-01-13T18:14:45.726Z"
   },
   {
    "duration": 3,
    "start_time": "2022-01-13T18:14:49.343Z"
   },
   {
    "duration": 16,
    "start_time": "2022-01-13T18:14:50.158Z"
   },
   {
    "duration": 3,
    "start_time": "2022-01-13T18:14:54.801Z"
   },
   {
    "duration": 16,
    "start_time": "2022-01-13T18:14:55.835Z"
   },
   {
    "duration": 3,
    "start_time": "2022-01-13T18:14:58.898Z"
   },
   {
    "duration": 20,
    "start_time": "2022-01-13T18:15:02.605Z"
   },
   {
    "duration": 3,
    "start_time": "2022-01-13T18:15:04.902Z"
   },
   {
    "duration": 15,
    "start_time": "2022-01-13T18:15:05.743Z"
   },
   {
    "duration": 3,
    "start_time": "2022-01-13T18:15:09.289Z"
   },
   {
    "duration": 1776,
    "start_time": "2022-01-13T18:15:10.542Z"
   },
   {
    "duration": 4,
    "start_time": "2022-01-13T18:15:16.941Z"
   },
   {
    "duration": 3,
    "start_time": "2022-01-13T18:20:04.198Z"
   },
   {
    "duration": 3,
    "start_time": "2022-01-13T18:20:05.702Z"
   },
   {
    "duration": 8315,
    "start_time": "2022-01-13T18:20:06.559Z"
   },
   {
    "duration": 3,
    "start_time": "2022-01-13T18:20:42.727Z"
   },
   {
    "duration": 3,
    "start_time": "2022-01-13T18:20:43.838Z"
   },
   {
    "duration": 1681,
    "start_time": "2022-01-13T18:20:44.474Z"
   },
   {
    "duration": 3,
    "start_time": "2022-01-13T18:21:19.906Z"
   },
   {
    "duration": 2,
    "start_time": "2022-01-13T18:21:21.675Z"
   },
   {
    "duration": 25,
    "start_time": "2022-01-13T18:21:22.536Z"
   },
   {
    "duration": 3,
    "start_time": "2022-01-13T18:21:52.079Z"
   },
   {
    "duration": 16,
    "start_time": "2022-01-13T18:21:53.857Z"
   },
   {
    "duration": 8,
    "start_time": "2022-01-13T18:22:40.306Z"
   },
   {
    "duration": 6,
    "start_time": "2022-01-13T18:23:17.412Z"
   },
   {
    "duration": 4,
    "start_time": "2022-01-13T18:23:24.118Z"
   },
   {
    "duration": 10,
    "start_time": "2022-01-13T18:23:51.120Z"
   },
   {
    "duration": 39,
    "start_time": "2022-01-13T18:24:07.976Z"
   },
   {
    "duration": 11,
    "start_time": "2022-01-13T18:24:13.956Z"
   },
   {
    "duration": 10,
    "start_time": "2022-01-13T18:24:20.144Z"
   },
   {
    "duration": 18,
    "start_time": "2022-01-13T18:24:39.016Z"
   },
   {
    "duration": 18,
    "start_time": "2022-01-13T18:24:50.375Z"
   },
   {
    "duration": 4,
    "start_time": "2022-01-13T18:26:56.877Z"
   },
   {
    "duration": 3,
    "start_time": "2022-01-13T18:30:35.700Z"
   },
   {
    "duration": 39,
    "start_time": "2022-01-13T18:30:37.307Z"
   },
   {
    "duration": 3,
    "start_time": "2022-01-13T18:31:00.470Z"
   },
   {
    "duration": 3,
    "start_time": "2022-01-13T18:32:19.621Z"
   },
   {
    "duration": 41,
    "start_time": "2022-01-13T18:32:21.064Z"
   },
   {
    "duration": 4,
    "start_time": "2022-01-13T18:32:31.544Z"
   },
   {
    "duration": 37,
    "start_time": "2022-01-13T18:32:36.920Z"
   },
   {
    "duration": 3,
    "start_time": "2022-01-13T18:32:51.319Z"
   },
   {
    "duration": 39,
    "start_time": "2022-01-13T18:32:52.747Z"
   },
   {
    "duration": 3,
    "start_time": "2022-01-13T18:33:06.602Z"
   },
   {
    "duration": 37,
    "start_time": "2022-01-13T18:33:07.467Z"
   },
   {
    "duration": 1190,
    "start_time": "2022-01-13T18:34:06.779Z"
   },
   {
    "duration": 2298,
    "start_time": "2022-01-13T18:34:07.971Z"
   },
   {
    "duration": 50,
    "start_time": "2022-01-13T18:34:10.273Z"
   },
   {
    "duration": 4,
    "start_time": "2022-01-13T18:34:10.325Z"
   },
   {
    "duration": 40,
    "start_time": "2022-01-13T18:34:10.331Z"
   },
   {
    "duration": 9,
    "start_time": "2022-01-13T18:34:10.373Z"
   },
   {
    "duration": 296,
    "start_time": "2022-01-13T18:34:10.384Z"
   },
   {
    "duration": 150,
    "start_time": "2022-01-13T18:34:10.683Z"
   },
   {
    "duration": 379,
    "start_time": "2022-01-13T18:34:10.835Z"
   },
   {
    "duration": 27,
    "start_time": "2022-01-13T18:34:11.216Z"
   },
   {
    "duration": 347,
    "start_time": "2022-01-13T18:34:11.244Z"
   },
   {
    "duration": 2,
    "start_time": "2022-01-13T18:34:11.593Z"
   },
   {
    "duration": 31,
    "start_time": "2022-01-13T18:34:11.597Z"
   },
   {
    "duration": 33,
    "start_time": "2022-01-13T18:34:11.629Z"
   },
   {
    "duration": 24,
    "start_time": "2022-01-13T18:34:11.664Z"
   },
   {
    "duration": 2,
    "start_time": "2022-01-13T18:34:11.690Z"
   },
   {
    "duration": 29,
    "start_time": "2022-01-13T18:34:11.694Z"
   },
   {
    "duration": 13,
    "start_time": "2022-01-13T18:34:11.724Z"
   },
   {
    "duration": 24,
    "start_time": "2022-01-13T18:34:11.738Z"
   },
   {
    "duration": 28,
    "start_time": "2022-01-13T18:34:11.763Z"
   },
   {
    "duration": 4,
    "start_time": "2022-01-13T18:34:11.792Z"
   },
   {
    "duration": 26,
    "start_time": "2022-01-13T18:34:11.798Z"
   },
   {
    "duration": 289,
    "start_time": "2022-01-13T18:34:11.825Z"
   },
   {
    "duration": 580,
    "start_time": "2022-01-13T18:34:12.115Z"
   },
   {
    "duration": 1298,
    "start_time": "2022-01-13T18:34:12.699Z"
   },
   {
    "duration": 10,
    "start_time": "2022-01-13T18:34:13.999Z"
   },
   {
    "duration": 357,
    "start_time": "2022-01-13T18:34:14.010Z"
   },
   {
    "duration": 5,
    "start_time": "2022-01-13T18:34:14.368Z"
   },
   {
    "duration": 6,
    "start_time": "2022-01-13T18:34:14.375Z"
   },
   {
    "duration": 4,
    "start_time": "2022-01-13T18:34:14.383Z"
   },
   {
    "duration": 5,
    "start_time": "2022-01-13T18:34:14.388Z"
   },
   {
    "duration": 7,
    "start_time": "2022-01-13T18:34:14.395Z"
   },
   {
    "duration": 56,
    "start_time": "2022-01-13T18:34:14.403Z"
   },
   {
    "duration": 4,
    "start_time": "2022-01-13T18:34:14.460Z"
   },
   {
    "duration": 18,
    "start_time": "2022-01-13T18:34:14.465Z"
   },
   {
    "duration": 3,
    "start_time": "2022-01-13T18:34:14.485Z"
   },
   {
    "duration": 4,
    "start_time": "2022-01-13T18:35:23.705Z"
   },
   {
    "duration": 40,
    "start_time": "2022-01-13T18:35:25.191Z"
   },
   {
    "duration": 18,
    "start_time": "2022-01-13T18:35:29.021Z"
   },
   {
    "duration": 18,
    "start_time": "2022-01-13T18:35:43.020Z"
   },
   {
    "duration": 3,
    "start_time": "2022-01-13T18:36:29.788Z"
   },
   {
    "duration": 42,
    "start_time": "2022-01-13T18:36:30.712Z"
   },
   {
    "duration": 17,
    "start_time": "2022-01-13T18:36:34.391Z"
   },
   {
    "duration": 2,
    "start_time": "2022-01-13T18:37:02.007Z"
   },
   {
    "duration": 2085,
    "start_time": "2022-01-13T18:37:04.078Z"
   },
   {
    "duration": 3,
    "start_time": "2022-01-13T18:37:32.791Z"
   },
   {
    "duration": 3,
    "start_time": "2022-01-13T18:37:44.444Z"
   },
   {
    "duration": 39,
    "start_time": "2022-01-13T18:37:45.795Z"
   },
   {
    "duration": 16,
    "start_time": "2022-01-13T18:37:51.810Z"
   },
   {
    "duration": 3,
    "start_time": "2022-01-13T18:41:37.934Z"
   },
   {
    "duration": 3,
    "start_time": "2022-01-13T18:41:55.182Z"
   },
   {
    "duration": 38,
    "start_time": "2022-01-13T18:42:00.282Z"
   },
   {
    "duration": 16,
    "start_time": "2022-01-13T18:42:17.514Z"
   },
   {
    "duration": 26,
    "start_time": "2022-01-13T18:42:49.871Z"
   },
   {
    "duration": 5,
    "start_time": "2022-01-13T18:46:43.650Z"
   },
   {
    "duration": 7,
    "start_time": "2022-01-13T18:46:49.098Z"
   },
   {
    "duration": 19,
    "start_time": "2022-01-13T18:47:21.984Z"
   },
   {
    "duration": 19,
    "start_time": "2022-01-13T18:48:23.706Z"
   },
   {
    "duration": 10,
    "start_time": "2022-01-13T18:48:30.992Z"
   },
   {
    "duration": 356,
    "start_time": "2022-01-13T18:48:42.072Z"
   },
   {
    "duration": 3,
    "start_time": "2022-01-13T18:50:12.353Z"
   },
   {
    "duration": 2409,
    "start_time": "2022-01-13T18:50:42.604Z"
   },
   {
    "duration": 1152,
    "start_time": "2022-01-13T18:50:54.559Z"
   },
   {
    "duration": 2405,
    "start_time": "2022-01-13T18:50:55.713Z"
   },
   {
    "duration": 45,
    "start_time": "2022-01-13T18:50:58.120Z"
   },
   {
    "duration": 3,
    "start_time": "2022-01-13T18:50:58.167Z"
   },
   {
    "duration": 40,
    "start_time": "2022-01-13T18:50:58.172Z"
   },
   {
    "duration": 20,
    "start_time": "2022-01-13T18:50:58.213Z"
   },
   {
    "duration": 261,
    "start_time": "2022-01-13T18:50:58.235Z"
   },
   {
    "duration": 140,
    "start_time": "2022-01-13T18:50:58.497Z"
   },
   {
    "duration": 383,
    "start_time": "2022-01-13T18:50:58.640Z"
   },
   {
    "duration": 19,
    "start_time": "2022-01-13T18:50:59.027Z"
   },
   {
    "duration": 444,
    "start_time": "2022-01-13T18:50:59.048Z"
   },
   {
    "duration": 2,
    "start_time": "2022-01-13T18:50:59.494Z"
   },
   {
    "duration": 29,
    "start_time": "2022-01-13T18:50:59.498Z"
   },
   {
    "duration": 22,
    "start_time": "2022-01-13T18:50:59.529Z"
   },
   {
    "duration": 27,
    "start_time": "2022-01-13T18:50:59.553Z"
   },
   {
    "duration": 3,
    "start_time": "2022-01-13T18:50:59.582Z"
   },
   {
    "duration": 30,
    "start_time": "2022-01-13T18:50:59.587Z"
   },
   {
    "duration": 19,
    "start_time": "2022-01-13T18:50:59.618Z"
   },
   {
    "duration": 11,
    "start_time": "2022-01-13T18:50:59.639Z"
   },
   {
    "duration": 31,
    "start_time": "2022-01-13T18:50:59.651Z"
   },
   {
    "duration": 14,
    "start_time": "2022-01-13T18:50:59.684Z"
   },
   {
    "duration": 19,
    "start_time": "2022-01-13T18:50:59.699Z"
   },
   {
    "duration": 278,
    "start_time": "2022-01-13T18:50:59.720Z"
   },
   {
    "duration": 569,
    "start_time": "2022-01-13T18:51:00.000Z"
   },
   {
    "duration": 1367,
    "start_time": "2022-01-13T18:51:00.571Z"
   },
   {
    "duration": 10,
    "start_time": "2022-01-13T18:51:01.940Z"
   },
   {
    "duration": 365,
    "start_time": "2022-01-13T18:51:01.953Z"
   },
   {
    "duration": 8,
    "start_time": "2022-01-13T18:51:02.328Z"
   },
   {
    "duration": 12,
    "start_time": "2022-01-13T18:51:02.337Z"
   },
   {
    "duration": 5,
    "start_time": "2022-01-13T18:51:02.351Z"
   },
   {
    "duration": 4,
    "start_time": "2022-01-13T18:51:02.357Z"
   },
   {
    "duration": 40,
    "start_time": "2022-01-13T18:51:02.363Z"
   },
   {
    "duration": 4,
    "start_time": "2022-01-13T18:51:02.404Z"
   },
   {
    "duration": 17,
    "start_time": "2022-01-13T18:51:02.427Z"
   },
   {
    "duration": 5,
    "start_time": "2022-01-13T18:51:02.446Z"
   },
   {
    "duration": 4,
    "start_time": "2022-01-13T18:51:02.452Z"
   },
   {
    "duration": 42,
    "start_time": "2022-01-13T18:51:02.458Z"
   },
   {
    "duration": 53,
    "start_time": "2022-01-13T18:51:02.502Z"
   },
   {
    "duration": 21,
    "start_time": "2022-01-13T18:51:02.557Z"
   },
   {
    "duration": 3,
    "start_time": "2022-01-13T18:51:02.580Z"
   },
   {
    "duration": 46,
    "start_time": "2022-01-13T18:51:02.584Z"
   },
   {
    "duration": 2,
    "start_time": "2022-01-13T18:53:50.256Z"
   },
   {
    "duration": 2577,
    "start_time": "2022-01-13T18:53:51.557Z"
   },
   {
    "duration": 1286,
    "start_time": "2022-01-13T18:54:09.548Z"
   },
   {
    "duration": 3119,
    "start_time": "2022-01-13T18:54:10.836Z"
   },
   {
    "duration": 46,
    "start_time": "2022-01-13T18:54:13.958Z"
   },
   {
    "duration": 3,
    "start_time": "2022-01-13T18:54:14.006Z"
   },
   {
    "duration": 41,
    "start_time": "2022-01-13T18:54:14.011Z"
   },
   {
    "duration": 10,
    "start_time": "2022-01-13T18:54:14.054Z"
   },
   {
    "duration": 284,
    "start_time": "2022-01-13T18:54:14.065Z"
   },
   {
    "duration": 146,
    "start_time": "2022-01-13T18:54:14.352Z"
   },
   {
    "duration": 382,
    "start_time": "2022-01-13T18:54:14.501Z"
   },
   {
    "duration": 19,
    "start_time": "2022-01-13T18:54:14.885Z"
   },
   {
    "duration": 396,
    "start_time": "2022-01-13T18:54:14.905Z"
   },
   {
    "duration": 2,
    "start_time": "2022-01-13T18:54:15.303Z"
   },
   {
    "duration": 30,
    "start_time": "2022-01-13T18:54:15.307Z"
   },
   {
    "duration": 21,
    "start_time": "2022-01-13T18:54:15.339Z"
   },
   {
    "duration": 31,
    "start_time": "2022-01-13T18:54:15.362Z"
   },
   {
    "duration": 3,
    "start_time": "2022-01-13T18:54:15.395Z"
   },
   {
    "duration": 12,
    "start_time": "2022-01-13T18:54:15.399Z"
   },
   {
    "duration": 8,
    "start_time": "2022-01-13T18:54:15.427Z"
   },
   {
    "duration": 10,
    "start_time": "2022-01-13T18:54:15.436Z"
   },
   {
    "duration": 11,
    "start_time": "2022-01-13T18:54:15.447Z"
   },
   {
    "duration": 3,
    "start_time": "2022-01-13T18:54:15.460Z"
   },
   {
    "duration": 11,
    "start_time": "2022-01-13T18:54:15.465Z"
   },
   {
    "duration": 315,
    "start_time": "2022-01-13T18:54:15.477Z"
   },
   {
    "duration": 580,
    "start_time": "2022-01-13T18:54:15.794Z"
   },
   {
    "duration": 1363,
    "start_time": "2022-01-13T18:54:16.376Z"
   },
   {
    "duration": 10,
    "start_time": "2022-01-13T18:54:17.743Z"
   },
   {
    "duration": 375,
    "start_time": "2022-01-13T18:54:17.755Z"
   },
   {
    "duration": 6,
    "start_time": "2022-01-13T18:54:18.131Z"
   },
   {
    "duration": 11,
    "start_time": "2022-01-13T18:54:18.138Z"
   },
   {
    "duration": 7,
    "start_time": "2022-01-13T18:54:18.151Z"
   },
   {
    "duration": 8,
    "start_time": "2022-01-13T18:54:18.159Z"
   },
   {
    "duration": 67,
    "start_time": "2022-01-13T18:54:18.168Z"
   },
   {
    "duration": 4,
    "start_time": "2022-01-13T18:54:18.236Z"
   },
   {
    "duration": 22,
    "start_time": "2022-01-13T18:54:18.242Z"
   },
   {
    "duration": 4,
    "start_time": "2022-01-13T18:54:18.266Z"
   },
   {
    "duration": 6,
    "start_time": "2022-01-13T18:54:18.271Z"
   },
   {
    "duration": 57,
    "start_time": "2022-01-13T18:54:18.279Z"
   },
   {
    "duration": 28,
    "start_time": "2022-01-13T18:54:18.338Z"
   },
   {
    "duration": 25,
    "start_time": "2022-01-13T18:54:18.368Z"
   },
   {
    "duration": 3,
    "start_time": "2022-01-13T18:54:18.394Z"
   },
   {
    "duration": 49,
    "start_time": "2022-01-13T18:54:18.399Z"
   },
   {
    "duration": 89,
    "start_time": "2022-01-14T12:30:34.810Z"
   },
   {
    "duration": 353,
    "start_time": "2022-01-14T12:30:49.241Z"
   },
   {
    "duration": 1847,
    "start_time": "2022-01-14T12:30:57.758Z"
   },
   {
    "duration": 4718,
    "start_time": "2022-01-14T12:30:59.608Z"
   },
   {
    "duration": 80,
    "start_time": "2022-01-14T12:31:04.331Z"
   },
   {
    "duration": 11,
    "start_time": "2022-01-14T12:31:04.413Z"
   },
   {
    "duration": 63,
    "start_time": "2022-01-14T12:31:04.426Z"
   },
   {
    "duration": 49,
    "start_time": "2022-01-14T12:31:04.492Z"
   },
   {
    "duration": 518,
    "start_time": "2022-01-14T12:31:04.544Z"
   },
   {
    "duration": 295,
    "start_time": "2022-01-14T12:31:05.064Z"
   },
   {
    "duration": 723,
    "start_time": "2022-01-14T12:31:05.365Z"
   },
   {
    "duration": 52,
    "start_time": "2022-01-14T12:31:06.093Z"
   },
   {
    "duration": 696,
    "start_time": "2022-01-14T12:31:06.147Z"
   },
   {
    "duration": 4,
    "start_time": "2022-01-14T12:31:06.846Z"
   },
   {
    "duration": 34,
    "start_time": "2022-01-14T12:31:06.853Z"
   },
   {
    "duration": 71,
    "start_time": "2022-01-14T12:31:06.890Z"
   },
   {
    "duration": 153,
    "start_time": "2022-01-14T12:31:06.964Z"
   },
   {
    "duration": 4,
    "start_time": "2022-01-14T12:31:07.123Z"
   },
   {
    "duration": 20,
    "start_time": "2022-01-14T12:31:07.130Z"
   },
   {
    "duration": 17,
    "start_time": "2022-01-14T12:31:07.152Z"
   },
   {
    "duration": 17,
    "start_time": "2022-01-14T12:31:07.172Z"
   },
   {
    "duration": 17,
    "start_time": "2022-01-14T12:31:07.224Z"
   },
   {
    "duration": 6,
    "start_time": "2022-01-14T12:31:07.243Z"
   },
   {
    "duration": 20,
    "start_time": "2022-01-14T12:31:07.252Z"
   },
   {
    "duration": 492,
    "start_time": "2022-01-14T12:31:07.277Z"
   },
   {
    "duration": -1842,
    "start_time": "2022-01-14T12:31:09.615Z"
   },
   {
    "duration": -1843,
    "start_time": "2022-01-14T12:31:09.617Z"
   },
   {
    "duration": -1841,
    "start_time": "2022-01-14T12:31:09.618Z"
   },
   {
    "duration": -1856,
    "start_time": "2022-01-14T12:31:09.635Z"
   },
   {
    "duration": -1854,
    "start_time": "2022-01-14T12:31:09.636Z"
   },
   {
    "duration": -1854,
    "start_time": "2022-01-14T12:31:09.638Z"
   },
   {
    "duration": -1854,
    "start_time": "2022-01-14T12:31:09.640Z"
   },
   {
    "duration": -1853,
    "start_time": "2022-01-14T12:31:09.641Z"
   },
   {
    "duration": -1852,
    "start_time": "2022-01-14T12:31:09.642Z"
   },
   {
    "duration": -1852,
    "start_time": "2022-01-14T12:31:09.643Z"
   },
   {
    "duration": -1852,
    "start_time": "2022-01-14T12:31:09.645Z"
   },
   {
    "duration": -1856,
    "start_time": "2022-01-14T12:31:09.650Z"
   },
   {
    "duration": -1856,
    "start_time": "2022-01-14T12:31:09.652Z"
   },
   {
    "duration": -1855,
    "start_time": "2022-01-14T12:31:09.653Z"
   },
   {
    "duration": 3954,
    "start_time": "2022-01-14T12:31:31.205Z"
   },
   {
    "duration": 5,
    "start_time": "2022-01-14T12:31:38.787Z"
   },
   {
    "duration": 3853,
    "start_time": "2022-01-14T12:31:38.795Z"
   },
   {
    "duration": 75,
    "start_time": "2022-01-14T12:31:42.653Z"
   },
   {
    "duration": 4,
    "start_time": "2022-01-14T12:31:42.731Z"
   },
   {
    "duration": 85,
    "start_time": "2022-01-14T12:31:42.738Z"
   },
   {
    "duration": 16,
    "start_time": "2022-01-14T12:31:42.826Z"
   },
   {
    "duration": 537,
    "start_time": "2022-01-14T12:31:42.844Z"
   },
   {
    "duration": 290,
    "start_time": "2022-01-14T12:31:43.385Z"
   },
   {
    "duration": 754,
    "start_time": "2022-01-14T12:31:43.681Z"
   },
   {
    "duration": 42,
    "start_time": "2022-01-14T12:31:44.440Z"
   },
   {
    "duration": 722,
    "start_time": "2022-01-14T12:31:44.484Z"
   },
   {
    "duration": 14,
    "start_time": "2022-01-14T12:31:45.209Z"
   },
   {
    "duration": 45,
    "start_time": "2022-01-14T12:31:45.226Z"
   },
   {
    "duration": 69,
    "start_time": "2022-01-14T12:31:45.274Z"
   },
   {
    "duration": 43,
    "start_time": "2022-01-14T12:31:45.346Z"
   },
   {
    "duration": 4,
    "start_time": "2022-01-14T12:31:45.391Z"
   },
   {
    "duration": 37,
    "start_time": "2022-01-14T12:31:45.398Z"
   },
   {
    "duration": 16,
    "start_time": "2022-01-14T12:31:45.438Z"
   },
   {
    "duration": 17,
    "start_time": "2022-01-14T12:31:45.457Z"
   },
   {
    "duration": 63,
    "start_time": "2022-01-14T12:31:45.478Z"
   },
   {
    "duration": 6,
    "start_time": "2022-01-14T12:31:45.544Z"
   },
   {
    "duration": 24,
    "start_time": "2022-01-14T12:31:45.552Z"
   },
   {
    "duration": 345,
    "start_time": "2022-01-14T12:31:45.579Z"
   },
   {
    "duration": -1839,
    "start_time": "2022-01-14T12:31:47.766Z"
   },
   {
    "duration": -1839,
    "start_time": "2022-01-14T12:31:47.768Z"
   },
   {
    "duration": -1843,
    "start_time": "2022-01-14T12:31:47.773Z"
   },
   {
    "duration": -1856,
    "start_time": "2022-01-14T12:31:47.788Z"
   },
   {
    "duration": -1856,
    "start_time": "2022-01-14T12:31:47.790Z"
   },
   {
    "duration": -1857,
    "start_time": "2022-01-14T12:31:47.793Z"
   },
   {
    "duration": -1857,
    "start_time": "2022-01-14T12:31:47.795Z"
   },
   {
    "duration": -1861,
    "start_time": "2022-01-14T12:31:47.802Z"
   },
   {
    "duration": -1859,
    "start_time": "2022-01-14T12:31:47.803Z"
   },
   {
    "duration": -1859,
    "start_time": "2022-01-14T12:31:47.805Z"
   },
   {
    "duration": -1858,
    "start_time": "2022-01-14T12:31:47.806Z"
   },
   {
    "duration": -1858,
    "start_time": "2022-01-14T12:31:47.807Z"
   },
   {
    "duration": -1858,
    "start_time": "2022-01-14T12:31:47.809Z"
   },
   {
    "duration": -1858,
    "start_time": "2022-01-14T12:31:47.810Z"
   },
   {
    "duration": 1727,
    "start_time": "2022-01-14T12:32:06.103Z"
   },
   {
    "duration": 4374,
    "start_time": "2022-01-14T12:32:07.834Z"
   },
   {
    "duration": 57,
    "start_time": "2022-01-14T12:32:12.214Z"
   },
   {
    "duration": 4,
    "start_time": "2022-01-14T12:32:12.274Z"
   },
   {
    "duration": 89,
    "start_time": "2022-01-14T12:32:12.280Z"
   },
   {
    "duration": 15,
    "start_time": "2022-01-14T12:32:12.371Z"
   },
   {
    "duration": 542,
    "start_time": "2022-01-14T12:32:12.391Z"
   },
   {
    "duration": 287,
    "start_time": "2022-01-14T12:32:12.936Z"
   },
   {
    "duration": 814,
    "start_time": "2022-01-14T12:32:13.226Z"
   },
   {
    "duration": 34,
    "start_time": "2022-01-14T12:32:14.044Z"
   },
   {
    "duration": 667,
    "start_time": "2022-01-14T12:32:14.081Z"
   },
   {
    "duration": 4,
    "start_time": "2022-01-14T12:32:14.750Z"
   },
   {
    "duration": 35,
    "start_time": "2022-01-14T12:32:14.756Z"
   },
   {
    "duration": 51,
    "start_time": "2022-01-14T12:32:14.794Z"
   },
   {
    "duration": 44,
    "start_time": "2022-01-14T12:32:14.848Z"
   },
   {
    "duration": 4,
    "start_time": "2022-01-14T12:32:14.895Z"
   },
   {
    "duration": 37,
    "start_time": "2022-01-14T12:32:14.901Z"
   },
   {
    "duration": 12,
    "start_time": "2022-01-14T12:32:14.941Z"
   },
   {
    "duration": 15,
    "start_time": "2022-01-14T12:32:14.955Z"
   },
   {
    "duration": 62,
    "start_time": "2022-01-14T12:32:14.972Z"
   },
   {
    "duration": 6,
    "start_time": "2022-01-14T12:32:15.036Z"
   },
   {
    "duration": 22,
    "start_time": "2022-01-14T12:32:15.044Z"
   },
   {
    "duration": 567,
    "start_time": "2022-01-14T12:32:15.069Z"
   },
   {
    "duration": 957,
    "start_time": "2022-01-14T12:32:15.640Z"
   },
   {
    "duration": 2637,
    "start_time": "2022-01-14T12:32:16.602Z"
   },
   {
    "duration": 15,
    "start_time": "2022-01-14T12:32:19.242Z"
   },
   {
    "duration": 819,
    "start_time": "2022-01-14T12:32:19.259Z"
   },
   {
    "duration": 5,
    "start_time": "2022-01-14T12:32:20.082Z"
   },
   {
    "duration": 91,
    "start_time": "2022-01-14T12:32:20.090Z"
   },
   {
    "duration": 42,
    "start_time": "2022-01-14T12:32:20.183Z"
   },
   {
    "duration": 6,
    "start_time": "2022-01-14T12:32:20.228Z"
   },
   {
    "duration": 11,
    "start_time": "2022-01-14T12:32:20.239Z"
   },
   {
    "duration": 97,
    "start_time": "2022-01-14T12:32:20.253Z"
   },
   {
    "duration": 45,
    "start_time": "2022-01-14T12:32:20.352Z"
   },
   {
    "duration": 47,
    "start_time": "2022-01-14T12:32:20.399Z"
   },
   {
    "duration": 5,
    "start_time": "2022-01-14T12:32:20.449Z"
   },
   {
    "duration": 69,
    "start_time": "2022-01-14T12:32:20.457Z"
   },
   {
    "duration": 72,
    "start_time": "2022-01-14T12:32:56.489Z"
   },
   {
    "duration": 49,
    "start_time": "2022-01-14T12:34:06.918Z"
   },
   {
    "duration": 4,
    "start_time": "2022-01-14T12:35:18.610Z"
   },
   {
    "duration": 67,
    "start_time": "2022-01-14T12:35:26.044Z"
   },
   {
    "duration": 1578,
    "start_time": "2022-01-14T12:35:42.182Z"
   },
   {
    "duration": 3580,
    "start_time": "2022-01-14T12:35:43.764Z"
   },
   {
    "duration": 65,
    "start_time": "2022-01-14T12:35:47.348Z"
   },
   {
    "duration": 5,
    "start_time": "2022-01-14T12:35:47.415Z"
   },
   {
    "duration": 70,
    "start_time": "2022-01-14T12:35:47.423Z"
   },
   {
    "duration": 46,
    "start_time": "2022-01-14T12:35:47.495Z"
   },
   {
    "duration": 489,
    "start_time": "2022-01-14T12:35:47.543Z"
   },
   {
    "duration": 280,
    "start_time": "2022-01-14T12:35:48.037Z"
   },
   {
    "duration": 757,
    "start_time": "2022-01-14T12:35:48.320Z"
   },
   {
    "duration": 47,
    "start_time": "2022-01-14T12:35:49.079Z"
   },
   {
    "duration": 711,
    "start_time": "2022-01-14T12:35:49.128Z"
   },
   {
    "duration": 4,
    "start_time": "2022-01-14T12:35:49.841Z"
   },
   {
    "duration": 38,
    "start_time": "2022-01-14T12:35:49.847Z"
   },
   {
    "duration": 78,
    "start_time": "2022-01-14T12:35:49.887Z"
   },
   {
    "duration": 74,
    "start_time": "2022-01-14T12:35:49.968Z"
   },
   {
    "duration": 6,
    "start_time": "2022-01-14T12:35:50.045Z"
   },
   {
    "duration": 28,
    "start_time": "2022-01-14T12:35:50.054Z"
   },
   {
    "duration": 39,
    "start_time": "2022-01-14T12:35:50.085Z"
   },
   {
    "duration": 15,
    "start_time": "2022-01-14T12:35:50.127Z"
   },
   {
    "duration": 19,
    "start_time": "2022-01-14T12:35:50.144Z"
   },
   {
    "duration": 5,
    "start_time": "2022-01-14T12:35:50.166Z"
   },
   {
    "duration": 64,
    "start_time": "2022-01-14T12:35:50.174Z"
   },
   {
    "duration": 586,
    "start_time": "2022-01-14T12:35:50.241Z"
   },
   {
    "duration": 933,
    "start_time": "2022-01-14T12:35:50.830Z"
   },
   {
    "duration": 2528,
    "start_time": "2022-01-14T12:35:51.765Z"
   },
   {
    "duration": 31,
    "start_time": "2022-01-14T12:35:54.298Z"
   },
   {
    "duration": 679,
    "start_time": "2022-01-14T12:35:54.332Z"
   },
   {
    "duration": 4,
    "start_time": "2022-01-14T12:35:55.013Z"
   },
   {
    "duration": 78,
    "start_time": "2022-01-14T12:35:55.024Z"
   },
   {
    "duration": 29,
    "start_time": "2022-01-14T12:35:55.124Z"
   },
   {
    "duration": 6,
    "start_time": "2022-01-14T12:35:55.156Z"
   },
   {
    "duration": 6,
    "start_time": "2022-01-14T12:35:55.164Z"
   },
   {
    "duration": 120,
    "start_time": "2022-01-14T12:35:55.172Z"
   },
   {
    "duration": 61,
    "start_time": "2022-01-14T12:35:55.295Z"
   },
   {
    "duration": 30,
    "start_time": "2022-01-14T12:35:55.359Z"
   },
   {
    "duration": 32,
    "start_time": "2022-01-14T12:35:55.391Z"
   },
   {
    "duration": 40,
    "start_time": "2022-01-14T12:35:55.425Z"
   },
   {
    "duration": 14,
    "start_time": "2022-01-14T12:37:27.764Z"
   },
   {
    "duration": 48,
    "start_time": "2022-01-14T12:39:17.625Z"
   },
   {
    "duration": 1688,
    "start_time": "2022-01-14T12:39:36.671Z"
   },
   {
    "duration": 3652,
    "start_time": "2022-01-14T12:39:38.361Z"
   },
   {
    "duration": 65,
    "start_time": "2022-01-14T12:39:42.015Z"
   },
   {
    "duration": 6,
    "start_time": "2022-01-14T12:39:42.083Z"
   },
   {
    "duration": 82,
    "start_time": "2022-01-14T12:39:42.091Z"
   },
   {
    "duration": 15,
    "start_time": "2022-01-14T12:39:42.177Z"
   },
   {
    "duration": 554,
    "start_time": "2022-01-14T12:39:42.197Z"
   },
   {
    "duration": 273,
    "start_time": "2022-01-14T12:39:42.755Z"
   },
   {
    "duration": 785,
    "start_time": "2022-01-14T12:39:43.030Z"
   },
   {
    "duration": 36,
    "start_time": "2022-01-14T12:39:43.817Z"
   },
   {
    "duration": 762,
    "start_time": "2022-01-14T12:39:43.856Z"
   },
   {
    "duration": 3,
    "start_time": "2022-01-14T12:39:44.623Z"
   },
   {
    "duration": 34,
    "start_time": "2022-01-14T12:39:44.629Z"
   },
   {
    "duration": 76,
    "start_time": "2022-01-14T12:39:44.665Z"
   },
   {
    "duration": 53,
    "start_time": "2022-01-14T12:39:44.743Z"
   },
   {
    "duration": 6,
    "start_time": "2022-01-14T12:39:44.798Z"
   },
   {
    "duration": 19,
    "start_time": "2022-01-14T12:39:44.824Z"
   },
   {
    "duration": 20,
    "start_time": "2022-01-14T12:39:44.845Z"
   },
   {
    "duration": 18,
    "start_time": "2022-01-14T12:39:44.867Z"
   },
   {
    "duration": 48,
    "start_time": "2022-01-14T12:39:44.888Z"
   },
   {
    "duration": 7,
    "start_time": "2022-01-14T12:39:44.939Z"
   },
   {
    "duration": 24,
    "start_time": "2022-01-14T12:39:44.948Z"
   },
   {
    "duration": 586,
    "start_time": "2022-01-14T12:39:44.975Z"
   },
   {
    "duration": 960,
    "start_time": "2022-01-14T12:39:45.563Z"
   },
   {
    "duration": 2797,
    "start_time": "2022-01-14T12:39:46.530Z"
   },
   {
    "duration": 18,
    "start_time": "2022-01-14T12:39:49.330Z"
   },
   {
    "duration": 697,
    "start_time": "2022-01-14T12:39:49.351Z"
   },
   {
    "duration": 5,
    "start_time": "2022-01-14T12:39:50.050Z"
   },
   {
    "duration": 76,
    "start_time": "2022-01-14T12:39:50.058Z"
   },
   {
    "duration": 34,
    "start_time": "2022-01-14T12:39:50.137Z"
   },
   {
    "duration": 76,
    "start_time": "2022-01-14T12:39:50.173Z"
   },
   {
    "duration": 37,
    "start_time": "2022-01-14T12:39:50.251Z"
   },
   {
    "duration": 34,
    "start_time": "2022-01-14T12:39:50.290Z"
   },
   {
    "duration": 37,
    "start_time": "2022-01-14T12:39:50.326Z"
   },
   {
    "duration": 11,
    "start_time": "2022-01-14T12:40:36.528Z"
   },
   {
    "duration": 19,
    "start_time": "2022-01-14T12:40:49.155Z"
   },
   {
    "duration": 17,
    "start_time": "2022-01-14T12:40:51.202Z"
   },
   {
    "duration": 1727,
    "start_time": "2022-01-14T12:41:20.418Z"
   },
   {
    "duration": 3838,
    "start_time": "2022-01-14T12:41:22.148Z"
   },
   {
    "duration": 64,
    "start_time": "2022-01-14T12:41:25.990Z"
   },
   {
    "duration": 6,
    "start_time": "2022-01-14T12:41:26.058Z"
   },
   {
    "duration": 88,
    "start_time": "2022-01-14T12:41:26.067Z"
   },
   {
    "duration": 15,
    "start_time": "2022-01-14T12:41:26.158Z"
   },
   {
    "duration": 531,
    "start_time": "2022-01-14T12:41:26.178Z"
   },
   {
    "duration": 294,
    "start_time": "2022-01-14T12:41:26.712Z"
   },
   {
    "duration": 806,
    "start_time": "2022-01-14T12:41:27.010Z"
   },
   {
    "duration": 46,
    "start_time": "2022-01-14T12:41:27.819Z"
   },
   {
    "duration": 755,
    "start_time": "2022-01-14T12:41:27.868Z"
   },
   {
    "duration": 4,
    "start_time": "2022-01-14T12:41:28.626Z"
   },
   {
    "duration": 37,
    "start_time": "2022-01-14T12:41:28.632Z"
   },
   {
    "duration": 73,
    "start_time": "2022-01-14T12:41:28.672Z"
   },
   {
    "duration": 77,
    "start_time": "2022-01-14T12:41:28.747Z"
   },
   {
    "duration": 6,
    "start_time": "2022-01-14T12:41:28.827Z"
   },
   {
    "duration": 41,
    "start_time": "2022-01-14T12:41:28.836Z"
   },
   {
    "duration": 30,
    "start_time": "2022-01-14T12:41:28.880Z"
   },
   {
    "duration": 34,
    "start_time": "2022-01-14T12:41:28.913Z"
   },
   {
    "duration": 27,
    "start_time": "2022-01-14T12:41:28.950Z"
   },
   {
    "duration": 6,
    "start_time": "2022-01-14T12:41:28.979Z"
   },
   {
    "duration": 18,
    "start_time": "2022-01-14T12:41:28.987Z"
   },
   {
    "duration": 669,
    "start_time": "2022-01-14T12:41:29.008Z"
   },
   {
    "duration": 970,
    "start_time": "2022-01-14T12:41:29.679Z"
   },
   {
    "duration": 2914,
    "start_time": "2022-01-14T12:41:30.654Z"
   },
   {
    "duration": 18,
    "start_time": "2022-01-14T12:41:33.572Z"
   },
   {
    "duration": 803,
    "start_time": "2022-01-14T12:41:33.593Z"
   },
   {
    "duration": 5,
    "start_time": "2022-01-14T12:41:34.399Z"
   },
   {
    "duration": 50,
    "start_time": "2022-01-14T12:41:34.423Z"
   },
   {
    "duration": 47,
    "start_time": "2022-01-14T12:41:34.476Z"
   },
   {
    "duration": 61,
    "start_time": "2022-01-14T12:41:34.526Z"
   },
   {
    "duration": 62,
    "start_time": "2022-01-14T12:41:34.591Z"
   },
   {
    "duration": 5,
    "start_time": "2022-01-14T12:41:34.655Z"
   },
   {
    "duration": 77,
    "start_time": "2022-01-14T12:41:34.662Z"
   },
   {
    "duration": 1922,
    "start_time": "2022-01-14T12:44:35.291Z"
   },
   {
    "duration": 4068,
    "start_time": "2022-01-14T12:44:37.217Z"
   },
   {
    "duration": 64,
    "start_time": "2022-01-14T12:44:41.289Z"
   },
   {
    "duration": 5,
    "start_time": "2022-01-14T12:44:41.355Z"
   },
   {
    "duration": 94,
    "start_time": "2022-01-14T12:44:41.362Z"
   },
   {
    "duration": 20,
    "start_time": "2022-01-14T12:44:41.459Z"
   },
   {
    "duration": 592,
    "start_time": "2022-01-14T12:44:41.481Z"
   },
   {
    "duration": 276,
    "start_time": "2022-01-14T12:44:42.077Z"
   },
   {
    "duration": 750,
    "start_time": "2022-01-14T12:44:42.358Z"
   },
   {
    "duration": 48,
    "start_time": "2022-01-14T12:44:43.111Z"
   },
   {
    "duration": 732,
    "start_time": "2022-01-14T12:44:43.162Z"
   },
   {
    "duration": 4,
    "start_time": "2022-01-14T12:44:43.897Z"
   },
   {
    "duration": 55,
    "start_time": "2022-01-14T12:44:43.904Z"
   },
   {
    "duration": 61,
    "start_time": "2022-01-14T12:44:43.962Z"
   },
   {
    "duration": 47,
    "start_time": "2022-01-14T12:44:44.026Z"
   },
   {
    "duration": 5,
    "start_time": "2022-01-14T12:44:44.076Z"
   },
   {
    "duration": 53,
    "start_time": "2022-01-14T12:44:44.084Z"
   },
   {
    "duration": 15,
    "start_time": "2022-01-14T12:44:44.140Z"
   },
   {
    "duration": 14,
    "start_time": "2022-01-14T12:44:44.158Z"
   },
   {
    "duration": 63,
    "start_time": "2022-01-14T12:44:44.175Z"
   },
   {
    "duration": 8,
    "start_time": "2022-01-14T12:44:44.241Z"
   },
   {
    "duration": 23,
    "start_time": "2022-01-14T12:44:44.253Z"
   },
   {
    "duration": 594,
    "start_time": "2022-01-14T12:44:44.278Z"
   },
   {
    "duration": 1004,
    "start_time": "2022-01-14T12:44:44.875Z"
   },
   {
    "duration": 2946,
    "start_time": "2022-01-14T12:44:45.882Z"
   },
   {
    "duration": 20,
    "start_time": "2022-01-14T12:44:48.833Z"
   },
   {
    "duration": 1041,
    "start_time": "2022-01-14T12:44:48.856Z"
   },
   {
    "duration": 5,
    "start_time": "2022-01-14T12:44:49.900Z"
   },
   {
    "duration": 74,
    "start_time": "2022-01-14T12:44:49.907Z"
   },
   {
    "duration": 41,
    "start_time": "2022-01-14T12:44:49.984Z"
   },
   {
    "duration": 67,
    "start_time": "2022-01-14T12:44:50.029Z"
   },
   {
    "duration": 55,
    "start_time": "2022-01-14T12:44:50.099Z"
   },
   {
    "duration": 5,
    "start_time": "2022-01-14T12:44:50.156Z"
   },
   {
    "duration": 79,
    "start_time": "2022-01-14T12:44:50.164Z"
   },
   {
    "duration": 1763,
    "start_time": "2022-01-14T12:47:02.953Z"
   },
   {
    "duration": 4026,
    "start_time": "2022-01-14T12:47:04.720Z"
   },
   {
    "duration": 69,
    "start_time": "2022-01-14T12:47:08.749Z"
   },
   {
    "duration": 6,
    "start_time": "2022-01-14T12:47:08.821Z"
   },
   {
    "duration": 103,
    "start_time": "2022-01-14T12:47:08.830Z"
   },
   {
    "duration": 22,
    "start_time": "2022-01-14T12:47:08.936Z"
   },
   {
    "duration": 540,
    "start_time": "2022-01-14T12:47:08.961Z"
   },
   {
    "duration": 289,
    "start_time": "2022-01-14T12:47:09.507Z"
   },
   {
    "duration": 857,
    "start_time": "2022-01-14T12:47:09.800Z"
   },
   {
    "duration": 37,
    "start_time": "2022-01-14T12:47:10.661Z"
   },
   {
    "duration": 774,
    "start_time": "2022-01-14T12:47:10.724Z"
   },
   {
    "duration": 3,
    "start_time": "2022-01-14T12:47:11.501Z"
   },
   {
    "duration": 46,
    "start_time": "2022-01-14T12:47:11.507Z"
   },
   {
    "duration": 49,
    "start_time": "2022-01-14T12:47:11.556Z"
   },
   {
    "duration": 67,
    "start_time": "2022-01-14T12:47:11.624Z"
   },
   {
    "duration": 5,
    "start_time": "2022-01-14T12:47:11.694Z"
   },
   {
    "duration": 24,
    "start_time": "2022-01-14T12:47:11.723Z"
   },
   {
    "duration": 15,
    "start_time": "2022-01-14T12:47:11.750Z"
   },
   {
    "duration": 59,
    "start_time": "2022-01-14T12:47:11.769Z"
   },
   {
    "duration": 31,
    "start_time": "2022-01-14T12:47:11.830Z"
   },
   {
    "duration": 7,
    "start_time": "2022-01-14T12:47:11.864Z"
   },
   {
    "duration": 52,
    "start_time": "2022-01-14T12:47:11.874Z"
   },
   {
    "duration": 830,
    "start_time": "2022-01-14T12:47:11.929Z"
   },
   {
    "duration": 1164,
    "start_time": "2022-01-14T12:47:12.762Z"
   },
   {
    "duration": 2650,
    "start_time": "2022-01-14T12:47:13.930Z"
   },
   {
    "duration": 17,
    "start_time": "2022-01-14T12:47:16.585Z"
   },
   {
    "duration": 736,
    "start_time": "2022-01-14T12:47:16.624Z"
   },
   {
    "duration": 6,
    "start_time": "2022-01-14T12:47:17.363Z"
   },
   {
    "duration": 81,
    "start_time": "2022-01-14T12:47:17.372Z"
   },
   {
    "duration": 16,
    "start_time": "2022-01-14T12:47:17.455Z"
   },
   {
    "duration": 74,
    "start_time": "2022-01-14T12:47:17.475Z"
   },
   {
    "duration": 44,
    "start_time": "2022-01-14T12:47:17.552Z"
   },
   {
    "duration": 25,
    "start_time": "2022-01-14T12:47:17.600Z"
   },
   {
    "duration": 55,
    "start_time": "2022-01-14T12:47:17.629Z"
   },
   {
    "duration": 1807,
    "start_time": "2022-01-14T12:58:51.419Z"
   },
   {
    "duration": 4229,
    "start_time": "2022-01-14T12:58:53.230Z"
   },
   {
    "duration": 59,
    "start_time": "2022-01-14T12:58:57.463Z"
   },
   {
    "duration": 6,
    "start_time": "2022-01-14T12:58:57.525Z"
   },
   {
    "duration": 113,
    "start_time": "2022-01-14T12:58:57.533Z"
   },
   {
    "duration": 19,
    "start_time": "2022-01-14T12:58:57.648Z"
   },
   {
    "duration": 613,
    "start_time": "2022-01-14T12:58:57.670Z"
   },
   {
    "duration": 264,
    "start_time": "2022-01-14T12:58:58.286Z"
   },
   {
    "duration": 934,
    "start_time": "2022-01-14T12:58:58.554Z"
   },
   {
    "duration": 48,
    "start_time": "2022-01-14T12:58:59.491Z"
   },
   {
    "duration": 858,
    "start_time": "2022-01-14T12:58:59.541Z"
   },
   {
    "duration": 4,
    "start_time": "2022-01-14T12:59:00.402Z"
   },
   {
    "duration": 45,
    "start_time": "2022-01-14T12:59:00.423Z"
   },
   {
    "duration": 38,
    "start_time": "2022-01-14T12:59:00.471Z"
   },
   {
    "duration": 78,
    "start_time": "2022-01-14T12:59:00.512Z"
   },
   {
    "duration": 6,
    "start_time": "2022-01-14T12:59:00.593Z"
   },
   {
    "duration": 59,
    "start_time": "2022-01-14T12:59:00.601Z"
   },
   {
    "duration": 34,
    "start_time": "2022-01-14T12:59:00.663Z"
   },
   {
    "duration": 22,
    "start_time": "2022-01-14T12:59:00.700Z"
   },
   {
    "duration": 35,
    "start_time": "2022-01-14T12:59:00.724Z"
   },
   {
    "duration": 17,
    "start_time": "2022-01-14T12:59:00.762Z"
   },
   {
    "duration": 25,
    "start_time": "2022-01-14T12:59:00.782Z"
   },
   {
    "duration": 573,
    "start_time": "2022-01-14T12:59:00.809Z"
   },
   {
    "duration": 931,
    "start_time": "2022-01-14T12:59:01.384Z"
   },
   {
    "duration": 2757,
    "start_time": "2022-01-14T12:59:02.317Z"
   },
   {
    "duration": 17,
    "start_time": "2022-01-14T12:59:05.077Z"
   },
   {
    "duration": 707,
    "start_time": "2022-01-14T12:59:05.125Z"
   },
   {
    "duration": 4,
    "start_time": "2022-01-14T12:59:05.835Z"
   },
   {
    "duration": 49,
    "start_time": "2022-01-14T12:59:05.842Z"
   },
   {
    "duration": 44,
    "start_time": "2022-01-14T12:59:05.894Z"
   },
   {
    "duration": 17,
    "start_time": "2022-01-14T12:59:05.941Z"
   },
   {
    "duration": 4,
    "start_time": "2022-01-14T12:59:05.961Z"
   },
   {
    "duration": 69,
    "start_time": "2022-01-14T12:59:05.968Z"
   },
   {
    "duration": 28,
    "start_time": "2022-01-14T13:05:12.972Z"
   },
   {
    "duration": 19,
    "start_time": "2022-01-14T13:05:40.598Z"
   },
   {
    "duration": 23,
    "start_time": "2022-01-14T13:05:47.425Z"
   },
   {
    "duration": 18,
    "start_time": "2022-01-14T13:05:52.038Z"
   },
   {
    "duration": 20,
    "start_time": "2022-01-14T13:06:58.409Z"
   },
   {
    "duration": 111,
    "start_time": "2022-01-14T13:07:50.296Z"
   },
   {
    "duration": 184,
    "start_time": "2022-01-14T13:08:49.338Z"
   },
   {
    "duration": 96,
    "start_time": "2022-01-14T13:08:59.496Z"
   },
   {
    "duration": 25,
    "start_time": "2022-01-14T13:09:08.870Z"
   },
   {
    "duration": 262,
    "start_time": "2022-01-15T11:53:42.836Z"
   },
   {
    "duration": 1845,
    "start_time": "2022-01-15T11:53:50.876Z"
   },
   {
    "duration": 1144,
    "start_time": "2022-01-15T11:54:31.818Z"
   },
   {
    "duration": 1021,
    "start_time": "2022-01-15T11:55:41.937Z"
   },
   {
    "duration": 22760,
    "start_time": "2022-01-15T11:55:42.960Z"
   },
   {
    "duration": 43,
    "start_time": "2022-01-15T11:56:05.722Z"
   },
   {
    "duration": 3,
    "start_time": "2022-01-15T11:56:05.767Z"
   },
   {
    "duration": 46,
    "start_time": "2022-01-15T11:56:05.772Z"
   },
   {
    "duration": 9,
    "start_time": "2022-01-15T11:56:05.820Z"
   },
   {
    "duration": 281,
    "start_time": "2022-01-15T11:56:05.831Z"
   },
   {
    "duration": 145,
    "start_time": "2022-01-15T11:56:06.114Z"
   },
   {
    "duration": 370,
    "start_time": "2022-01-15T11:56:06.261Z"
   },
   {
    "duration": 20,
    "start_time": "2022-01-15T11:56:06.633Z"
   },
   {
    "duration": 359,
    "start_time": "2022-01-15T11:56:06.655Z"
   },
   {
    "duration": 2,
    "start_time": "2022-01-15T11:56:07.016Z"
   },
   {
    "duration": 21,
    "start_time": "2022-01-15T11:56:07.019Z"
   },
   {
    "duration": 20,
    "start_time": "2022-01-15T11:56:07.042Z"
   },
   {
    "duration": 110,
    "start_time": "2022-01-15T11:56:07.064Z"
   },
   {
    "duration": 3,
    "start_time": "2022-01-15T11:56:07.175Z"
   },
   {
    "duration": 11,
    "start_time": "2022-01-15T11:56:07.179Z"
   },
   {
    "duration": 27,
    "start_time": "2022-01-15T11:56:07.191Z"
   },
   {
    "duration": 8,
    "start_time": "2022-01-15T11:56:07.219Z"
   },
   {
    "duration": 9,
    "start_time": "2022-01-15T11:56:07.228Z"
   },
   {
    "duration": 4,
    "start_time": "2022-01-15T11:56:07.238Z"
   },
   {
    "duration": 11,
    "start_time": "2022-01-15T11:56:07.243Z"
   },
   {
    "duration": 265,
    "start_time": "2022-01-15T11:56:07.255Z"
   },
   {
    "duration": -1385,
    "start_time": "2022-01-15T11:56:08.907Z"
   },
   {
    "duration": -1384,
    "start_time": "2022-01-15T11:56:08.908Z"
   },
   {
    "duration": -1385,
    "start_time": "2022-01-15T11:56:08.910Z"
   },
   {
    "duration": -1384,
    "start_time": "2022-01-15T11:56:08.911Z"
   },
   {
    "duration": -1385,
    "start_time": "2022-01-15T11:56:08.913Z"
   },
   {
    "duration": -1385,
    "start_time": "2022-01-15T11:56:08.914Z"
   },
   {
    "duration": -1389,
    "start_time": "2022-01-15T11:56:08.920Z"
   },
   {
    "duration": -1390,
    "start_time": "2022-01-15T11:56:08.922Z"
   },
   {
    "duration": -1390,
    "start_time": "2022-01-15T11:56:08.923Z"
   },
   {
    "duration": -1389,
    "start_time": "2022-01-15T11:56:08.924Z"
   },
   {
    "duration": -1389,
    "start_time": "2022-01-15T11:56:08.926Z"
   },
   {
    "duration": -1389,
    "start_time": "2022-01-15T11:56:08.927Z"
   },
   {
    "duration": 1076,
    "start_time": "2022-01-15T11:56:36.880Z"
   },
   {
    "duration": 1053,
    "start_time": "2022-01-15T11:57:28.594Z"
   },
   {
    "duration": 2,
    "start_time": "2022-01-15T11:57:29.649Z"
   },
   {
    "duration": 42,
    "start_time": "2022-01-15T11:57:29.653Z"
   },
   {
    "duration": 3,
    "start_time": "2022-01-15T11:57:29.697Z"
   },
   {
    "duration": 39,
    "start_time": "2022-01-15T11:57:29.701Z"
   },
   {
    "duration": 12,
    "start_time": "2022-01-15T11:57:29.741Z"
   },
   {
    "duration": 285,
    "start_time": "2022-01-15T11:57:29.755Z"
   },
   {
    "duration": 150,
    "start_time": "2022-01-15T11:57:30.042Z"
   },
   {
    "duration": 394,
    "start_time": "2022-01-15T11:57:30.195Z"
   },
   {
    "duration": 29,
    "start_time": "2022-01-15T11:57:30.591Z"
   },
   {
    "duration": 378,
    "start_time": "2022-01-15T11:57:30.621Z"
   },
   {
    "duration": 2,
    "start_time": "2022-01-15T11:57:31.000Z"
   },
   {
    "duration": 26,
    "start_time": "2022-01-15T11:57:31.004Z"
   },
   {
    "duration": 27,
    "start_time": "2022-01-15T11:57:31.032Z"
   },
   {
    "duration": 25,
    "start_time": "2022-01-15T11:57:31.061Z"
   },
   {
    "duration": 3,
    "start_time": "2022-01-15T11:57:31.087Z"
   },
   {
    "duration": 28,
    "start_time": "2022-01-15T11:57:31.091Z"
   },
   {
    "duration": 8,
    "start_time": "2022-01-15T11:57:31.120Z"
   },
   {
    "duration": 20,
    "start_time": "2022-01-15T11:57:31.129Z"
   },
   {
    "duration": 25,
    "start_time": "2022-01-15T11:57:31.151Z"
   },
   {
    "duration": 3,
    "start_time": "2022-01-15T11:57:31.178Z"
   },
   {
    "duration": 13,
    "start_time": "2022-01-15T11:57:31.182Z"
   },
   {
    "duration": 313,
    "start_time": "2022-01-15T11:57:31.196Z"
   },
   {
    "duration": 489,
    "start_time": "2022-01-15T11:57:31.511Z"
   },
   {
    "duration": 1420,
    "start_time": "2022-01-15T11:57:32.002Z"
   },
   {
    "duration": 10,
    "start_time": "2022-01-15T11:57:33.424Z"
   },
   {
    "duration": 360,
    "start_time": "2022-01-15T11:57:33.436Z"
   },
   {
    "duration": 3,
    "start_time": "2022-01-15T11:57:33.797Z"
   },
   {
    "duration": 38,
    "start_time": "2022-01-15T11:57:33.801Z"
   },
   {
    "duration": 9,
    "start_time": "2022-01-15T11:57:33.840Z"
   },
   {
    "duration": 9,
    "start_time": "2022-01-15T11:57:33.850Z"
   },
   {
    "duration": 2,
    "start_time": "2022-01-15T11:57:33.861Z"
   },
   {
    "duration": 18,
    "start_time": "2022-01-15T11:57:33.865Z"
   },
   {
    "duration": 35,
    "start_time": "2022-01-15T11:57:33.885Z"
   },
   {
    "duration": 126,
    "start_time": "2022-01-15T11:57:33.922Z"
   },
   {
    "duration": 7,
    "start_time": "2022-01-15T11:57:59.219Z"
   },
   {
    "duration": 85,
    "start_time": "2022-01-15T12:00:32.280Z"
   },
   {
    "duration": 8,
    "start_time": "2022-01-15T12:02:07.643Z"
   },
   {
    "duration": 17,
    "start_time": "2022-01-15T12:03:52.449Z"
   },
   {
    "duration": 14,
    "start_time": "2022-01-15T12:05:38.553Z"
   },
   {
    "duration": 290,
    "start_time": "2022-01-15T12:07:05.304Z"
   },
   {
    "duration": 4555,
    "start_time": "2022-01-15T12:09:22.236Z"
   },
   {
    "duration": 9,
    "start_time": "2022-01-15T12:10:08.527Z"
   },
   {
    "duration": 6,
    "start_time": "2022-01-15T12:10:18.032Z"
   },
   {
    "duration": 9,
    "start_time": "2022-01-15T12:10:29.881Z"
   },
   {
    "duration": 9,
    "start_time": "2022-01-15T12:11:42.805Z"
   },
   {
    "duration": 12,
    "start_time": "2022-01-15T12:12:08.141Z"
   },
   {
    "duration": 6,
    "start_time": "2022-01-15T12:12:35.061Z"
   },
   {
    "duration": 11,
    "start_time": "2022-01-15T12:19:25.349Z"
   },
   {
    "duration": 8,
    "start_time": "2022-01-15T13:10:13.765Z"
   },
   {
    "duration": 15,
    "start_time": "2022-01-15T13:10:43.850Z"
   },
   {
    "duration": 57,
    "start_time": "2022-01-15T13:11:20.628Z"
   },
   {
    "duration": 9,
    "start_time": "2022-01-15T13:12:01.007Z"
   },
   {
    "duration": 836,
    "start_time": "2022-01-15T13:16:56.352Z"
   },
   {
    "duration": 189,
    "start_time": "2022-01-15T13:17:29.717Z"
   },
   {
    "duration": 16,
    "start_time": "2022-01-15T13:19:12.406Z"
   },
   {
    "duration": 208,
    "start_time": "2022-01-15T13:22:31.543Z"
   },
   {
    "duration": 226,
    "start_time": "2022-01-15T13:26:01.297Z"
   },
   {
    "duration": 224,
    "start_time": "2022-01-15T13:26:43.940Z"
   },
   {
    "duration": 14,
    "start_time": "2022-01-15T13:27:34.395Z"
   },
   {
    "duration": 11,
    "start_time": "2022-01-15T13:29:03.171Z"
   },
   {
    "duration": 235,
    "start_time": "2022-01-15T13:29:51.397Z"
   },
   {
    "duration": 211,
    "start_time": "2022-01-15T13:30:32.572Z"
   },
   {
    "duration": 249,
    "start_time": "2022-01-15T13:31:07.155Z"
   },
   {
    "duration": 224,
    "start_time": "2022-01-15T13:31:32.269Z"
   },
   {
    "duration": 12,
    "start_time": "2022-01-15T13:32:39.976Z"
   },
   {
    "duration": 9,
    "start_time": "2022-01-15T13:34:05.324Z"
   },
   {
    "duration": 223,
    "start_time": "2022-01-15T13:35:01.572Z"
   },
   {
    "duration": 227,
    "start_time": "2022-01-15T13:36:05.583Z"
   },
   {
    "duration": 231,
    "start_time": "2022-01-15T13:36:13.070Z"
   },
   {
    "duration": 8,
    "start_time": "2022-01-15T13:36:18.442Z"
   },
   {
    "duration": 7,
    "start_time": "2022-01-15T13:36:21.552Z"
   },
   {
    "duration": 8,
    "start_time": "2022-01-15T13:37:19.374Z"
   },
   {
    "duration": 7,
    "start_time": "2022-01-15T13:39:13.201Z"
   },
   {
    "duration": 9,
    "start_time": "2022-01-15T13:40:21.174Z"
   },
   {
    "duration": 4,
    "start_time": "2022-01-15T13:41:46.593Z"
   },
   {
    "duration": 7,
    "start_time": "2022-01-15T13:42:28.628Z"
   },
   {
    "duration": 8,
    "start_time": "2022-01-15T13:43:16.690Z"
   },
   {
    "duration": 8,
    "start_time": "2022-01-15T13:43:31.954Z"
   },
   {
    "duration": 9,
    "start_time": "2022-01-15T13:43:41.270Z"
   },
   {
    "duration": 8,
    "start_time": "2022-01-15T13:43:50.305Z"
   },
   {
    "duration": 7,
    "start_time": "2022-01-15T13:48:32.965Z"
   },
   {
    "duration": 7,
    "start_time": "2022-01-15T13:49:05.622Z"
   },
   {
    "duration": 314,
    "start_time": "2022-01-15T13:49:31.224Z"
   },
   {
    "duration": 11,
    "start_time": "2022-01-15T13:50:33.370Z"
   },
   {
    "duration": 7,
    "start_time": "2022-01-15T13:50:57.897Z"
   },
   {
    "duration": 8,
    "start_time": "2022-01-15T13:51:24.627Z"
   },
   {
    "duration": 7,
    "start_time": "2022-01-15T13:57:15.711Z"
   },
   {
    "duration": 11,
    "start_time": "2022-01-15T13:58:04.967Z"
   },
   {
    "duration": 5,
    "start_time": "2022-01-15T13:58:58.233Z"
   },
   {
    "duration": 13,
    "start_time": "2022-01-15T13:59:23.969Z"
   },
   {
    "duration": 13,
    "start_time": "2022-01-15T13:59:45.749Z"
   },
   {
    "duration": 224,
    "start_time": "2022-01-15T14:00:18.303Z"
   },
   {
    "duration": 240,
    "start_time": "2022-01-15T14:00:29.972Z"
   },
   {
    "duration": 7,
    "start_time": "2022-01-15T14:01:09.704Z"
   },
   {
    "duration": 7,
    "start_time": "2022-01-15T14:01:21.856Z"
   },
   {
    "duration": 6,
    "start_time": "2022-01-15T14:01:24.582Z"
   },
   {
    "duration": 1053,
    "start_time": "2022-01-15T14:01:32.689Z"
   },
   {
    "duration": 2,
    "start_time": "2022-01-15T14:01:33.744Z"
   },
   {
    "duration": 42,
    "start_time": "2022-01-15T14:01:33.748Z"
   },
   {
    "duration": 3,
    "start_time": "2022-01-15T14:01:33.791Z"
   },
   {
    "duration": 35,
    "start_time": "2022-01-15T14:01:33.795Z"
   },
   {
    "duration": 10,
    "start_time": "2022-01-15T14:01:33.831Z"
   },
   {
    "duration": 278,
    "start_time": "2022-01-15T14:01:33.842Z"
   },
   {
    "duration": 137,
    "start_time": "2022-01-15T14:01:34.121Z"
   },
   {
    "duration": 382,
    "start_time": "2022-01-15T14:01:34.261Z"
   },
   {
    "duration": 19,
    "start_time": "2022-01-15T14:01:34.645Z"
   },
   {
    "duration": 363,
    "start_time": "2022-01-15T14:01:34.665Z"
   },
   {
    "duration": 2,
    "start_time": "2022-01-15T14:01:35.030Z"
   },
   {
    "duration": 22,
    "start_time": "2022-01-15T14:01:35.034Z"
   },
   {
    "duration": 20,
    "start_time": "2022-01-15T14:01:35.057Z"
   },
   {
    "duration": 36,
    "start_time": "2022-01-15T14:01:35.079Z"
   },
   {
    "duration": 2,
    "start_time": "2022-01-15T14:01:35.117Z"
   },
   {
    "duration": 11,
    "start_time": "2022-01-15T14:01:35.121Z"
   },
   {
    "duration": 8,
    "start_time": "2022-01-15T14:01:35.134Z"
   },
   {
    "duration": 8,
    "start_time": "2022-01-15T14:01:35.144Z"
   },
   {
    "duration": 10,
    "start_time": "2022-01-15T14:01:35.153Z"
   },
   {
    "duration": 3,
    "start_time": "2022-01-15T14:01:35.165Z"
   },
   {
    "duration": 43,
    "start_time": "2022-01-15T14:01:35.170Z"
   },
   {
    "duration": 305,
    "start_time": "2022-01-15T14:01:35.214Z"
   },
   {
    "duration": 509,
    "start_time": "2022-01-15T14:01:35.520Z"
   },
   {
    "duration": 1384,
    "start_time": "2022-01-15T14:01:36.030Z"
   },
   {
    "duration": 9,
    "start_time": "2022-01-15T14:01:37.416Z"
   },
   {
    "duration": 362,
    "start_time": "2022-01-15T14:01:37.428Z"
   },
   {
    "duration": 3,
    "start_time": "2022-01-15T14:01:37.791Z"
   },
   {
    "duration": 38,
    "start_time": "2022-01-15T14:01:37.795Z"
   },
   {
    "duration": 8,
    "start_time": "2022-01-15T14:01:37.835Z"
   },
   {
    "duration": 9,
    "start_time": "2022-01-15T14:01:37.845Z"
   },
   {
    "duration": 2,
    "start_time": "2022-01-15T14:01:37.856Z"
   },
   {
    "duration": 20,
    "start_time": "2022-01-15T14:01:37.859Z"
   },
   {
    "duration": 39,
    "start_time": "2022-01-15T14:01:37.881Z"
   },
   {
    "duration": 124,
    "start_time": "2022-01-15T14:01:37.921Z"
   },
   {
    "duration": 7,
    "start_time": "2022-01-15T14:01:38.047Z"
   },
   {
    "duration": 238,
    "start_time": "2022-01-15T14:01:38.056Z"
   },
   {
    "duration": 6,
    "start_time": "2022-01-15T14:01:38.296Z"
   },
   {
    "duration": 292,
    "start_time": "2022-01-15T14:01:38.303Z"
   },
   {
    "duration": 235,
    "start_time": "2022-01-15T14:03:01.606Z"
   },
   {
    "duration": 7,
    "start_time": "2022-01-15T14:03:21.187Z"
   },
   {
    "duration": 7,
    "start_time": "2022-01-15T14:03:46.925Z"
   },
   {
    "duration": 7,
    "start_time": "2022-01-15T14:03:50.059Z"
   },
   {
    "duration": 5,
    "start_time": "2022-01-15T14:04:16.139Z"
   },
   {
    "duration": 255,
    "start_time": "2022-01-15T14:04:39.598Z"
   },
   {
    "duration": 12,
    "start_time": "2022-01-15T14:04:54.402Z"
   },
   {
    "duration": 10,
    "start_time": "2022-01-15T14:05:52.926Z"
   },
   {
    "duration": 11,
    "start_time": "2022-01-15T14:06:13.024Z"
   },
   {
    "duration": 12,
    "start_time": "2022-01-15T14:07:18.307Z"
   },
   {
    "duration": 14,
    "start_time": "2022-01-15T14:07:48.306Z"
   },
   {
    "duration": 13,
    "start_time": "2022-01-15T14:09:32.580Z"
   },
   {
    "duration": 7,
    "start_time": "2022-01-15T14:11:26.466Z"
   },
   {
    "duration": 8,
    "start_time": "2022-01-15T14:11:45.188Z"
   },
   {
    "duration": 8,
    "start_time": "2022-01-15T14:11:48.343Z"
   },
   {
    "duration": 8,
    "start_time": "2022-01-15T14:12:05.252Z"
   },
   {
    "duration": 6,
    "start_time": "2022-01-15T14:12:38.780Z"
   },
   {
    "duration": 8,
    "start_time": "2022-01-15T14:12:41.074Z"
   },
   {
    "duration": 3,
    "start_time": "2022-01-15T14:15:23.796Z"
   },
   {
    "duration": 3,
    "start_time": "2022-01-15T14:15:31.144Z"
   },
   {
    "duration": 1043,
    "start_time": "2022-01-15T14:15:32.721Z"
   },
   {
    "duration": 1074,
    "start_time": "2022-01-15T14:15:42.181Z"
   },
   {
    "duration": 2,
    "start_time": "2022-01-15T14:15:43.257Z"
   },
   {
    "duration": 43,
    "start_time": "2022-01-15T14:15:43.261Z"
   },
   {
    "duration": 3,
    "start_time": "2022-01-15T14:15:43.305Z"
   },
   {
    "duration": 38,
    "start_time": "2022-01-15T14:15:43.309Z"
   },
   {
    "duration": 11,
    "start_time": "2022-01-15T14:15:43.349Z"
   },
   {
    "duration": 289,
    "start_time": "2022-01-15T14:15:43.361Z"
   },
   {
    "duration": 146,
    "start_time": "2022-01-15T14:15:43.652Z"
   },
   {
    "duration": 391,
    "start_time": "2022-01-15T14:15:43.800Z"
   },
   {
    "duration": 27,
    "start_time": "2022-01-15T14:15:44.193Z"
   },
   {
    "duration": 367,
    "start_time": "2022-01-15T14:15:44.222Z"
   },
   {
    "duration": 3,
    "start_time": "2022-01-15T14:15:44.591Z"
   },
   {
    "duration": 35,
    "start_time": "2022-01-15T14:15:44.596Z"
   },
   {
    "duration": 21,
    "start_time": "2022-01-15T14:15:44.633Z"
   },
   {
    "duration": 26,
    "start_time": "2022-01-15T14:15:44.655Z"
   },
   {
    "duration": 3,
    "start_time": "2022-01-15T14:15:44.683Z"
   },
   {
    "duration": 32,
    "start_time": "2022-01-15T14:15:44.687Z"
   },
   {
    "duration": 8,
    "start_time": "2022-01-15T14:15:44.721Z"
   },
   {
    "duration": 9,
    "start_time": "2022-01-15T14:15:44.731Z"
   },
   {
    "duration": 10,
    "start_time": "2022-01-15T14:15:44.742Z"
   },
   {
    "duration": 4,
    "start_time": "2022-01-15T14:15:44.753Z"
   },
   {
    "duration": 13,
    "start_time": "2022-01-15T14:15:44.758Z"
   },
   {
    "duration": 343,
    "start_time": "2022-01-15T14:15:44.773Z"
   },
   {
    "duration": 535,
    "start_time": "2022-01-15T14:15:45.118Z"
   },
   {
    "duration": 1417,
    "start_time": "2022-01-15T14:15:45.655Z"
   },
   {
    "duration": 10,
    "start_time": "2022-01-15T14:15:47.073Z"
   },
   {
    "duration": 376,
    "start_time": "2022-01-15T14:15:47.085Z"
   },
   {
    "duration": 3,
    "start_time": "2022-01-15T14:15:47.463Z"
   },
   {
    "duration": 46,
    "start_time": "2022-01-15T14:15:47.467Z"
   },
   {
    "duration": 11,
    "start_time": "2022-01-15T14:15:47.515Z"
   },
   {
    "duration": 11,
    "start_time": "2022-01-15T14:15:47.527Z"
   },
   {
    "duration": 3,
    "start_time": "2022-01-15T14:15:47.539Z"
   },
   {
    "duration": 21,
    "start_time": "2022-01-15T14:15:47.543Z"
   },
   {
    "duration": 15,
    "start_time": "2022-01-15T14:15:47.565Z"
   },
   {
    "duration": 177,
    "start_time": "2022-01-15T14:15:47.581Z"
   },
   {
    "duration": 9,
    "start_time": "2022-01-15T14:15:47.760Z"
   },
   {
    "duration": 241,
    "start_time": "2022-01-15T14:15:47.771Z"
   },
   {
    "duration": 7,
    "start_time": "2022-01-15T14:15:48.014Z"
   },
   {
    "duration": 17,
    "start_time": "2022-01-15T14:15:48.022Z"
   },
   {
    "duration": 7,
    "start_time": "2022-01-15T14:15:48.040Z"
   },
   {
    "duration": 367,
    "start_time": "2022-01-15T14:56:11.814Z"
   },
   {
    "duration": 71,
    "start_time": "2022-01-15T14:59:45.874Z"
   },
   {
    "duration": 6,
    "start_time": "2022-01-15T15:00:30.334Z"
   },
   {
    "duration": 5,
    "start_time": "2022-01-15T15:00:34.619Z"
   },
   {
    "duration": 57,
    "start_time": "2022-01-15T15:00:56.953Z"
   },
   {
    "duration": 61,
    "start_time": "2022-01-15T15:03:51.989Z"
   },
   {
    "duration": 72,
    "start_time": "2022-01-15T15:05:17.387Z"
   },
   {
    "duration": 72,
    "start_time": "2022-01-15T15:09:46.446Z"
   },
   {
    "duration": 10,
    "start_time": "2022-01-15T15:09:49.868Z"
   },
   {
    "duration": 15,
    "start_time": "2022-01-15T15:09:57.952Z"
   },
   {
    "duration": 13,
    "start_time": "2022-01-15T15:10:37.397Z"
   },
   {
    "duration": 16,
    "start_time": "2022-01-15T15:10:43.731Z"
   },
   {
    "duration": 17,
    "start_time": "2022-01-15T15:10:59.403Z"
   },
   {
    "duration": 8,
    "start_time": "2022-01-15T15:12:39.809Z"
   },
   {
    "duration": 19,
    "start_time": "2022-01-15T15:12:45.615Z"
   },
   {
    "duration": 17,
    "start_time": "2022-01-15T15:14:36.506Z"
   },
   {
    "duration": 17,
    "start_time": "2022-01-15T15:14:38.146Z"
   },
   {
    "duration": 16,
    "start_time": "2022-01-15T15:15:21.777Z"
   },
   {
    "duration": 19,
    "start_time": "2022-01-15T15:15:23.561Z"
   },
   {
    "duration": 18,
    "start_time": "2022-01-15T15:15:32.313Z"
   },
   {
    "duration": 19,
    "start_time": "2022-01-15T15:15:34.822Z"
   },
   {
    "duration": 1068,
    "start_time": "2022-01-15T15:15:42.184Z"
   },
   {
    "duration": 2,
    "start_time": "2022-01-15T15:15:43.254Z"
   },
   {
    "duration": 44,
    "start_time": "2022-01-15T15:15:43.258Z"
   },
   {
    "duration": 3,
    "start_time": "2022-01-15T15:15:43.303Z"
   },
   {
    "duration": 39,
    "start_time": "2022-01-15T15:15:43.307Z"
   },
   {
    "duration": 10,
    "start_time": "2022-01-15T15:15:43.348Z"
   },
   {
    "duration": 269,
    "start_time": "2022-01-15T15:15:43.359Z"
   },
   {
    "duration": 135,
    "start_time": "2022-01-15T15:15:43.630Z"
   },
   {
    "duration": 377,
    "start_time": "2022-01-15T15:15:43.767Z"
   },
   {
    "duration": 18,
    "start_time": "2022-01-15T15:15:44.146Z"
   },
   {
    "duration": 359,
    "start_time": "2022-01-15T15:15:44.166Z"
   },
   {
    "duration": 2,
    "start_time": "2022-01-15T15:15:44.527Z"
   },
   {
    "duration": 20,
    "start_time": "2022-01-15T15:15:44.530Z"
   },
   {
    "duration": 22,
    "start_time": "2022-01-15T15:15:44.551Z"
   },
   {
    "duration": 45,
    "start_time": "2022-01-15T15:15:44.574Z"
   },
   {
    "duration": 3,
    "start_time": "2022-01-15T15:15:44.621Z"
   },
   {
    "duration": 11,
    "start_time": "2022-01-15T15:15:44.626Z"
   },
   {
    "duration": 8,
    "start_time": "2022-01-15T15:15:44.639Z"
   },
   {
    "duration": 9,
    "start_time": "2022-01-15T15:15:44.649Z"
   },
   {
    "duration": 10,
    "start_time": "2022-01-15T15:15:44.659Z"
   },
   {
    "duration": 41,
    "start_time": "2022-01-15T15:15:44.671Z"
   },
   {
    "duration": 12,
    "start_time": "2022-01-15T15:15:44.713Z"
   },
   {
    "duration": 307,
    "start_time": "2022-01-15T15:15:44.728Z"
   },
   {
    "duration": 536,
    "start_time": "2022-01-15T15:15:45.037Z"
   },
   {
    "duration": 1321,
    "start_time": "2022-01-15T15:15:45.575Z"
   },
   {
    "duration": 15,
    "start_time": "2022-01-15T15:15:46.898Z"
   },
   {
    "duration": 344,
    "start_time": "2022-01-15T15:15:46.915Z"
   },
   {
    "duration": 3,
    "start_time": "2022-01-15T15:15:47.261Z"
   },
   {
    "duration": 28,
    "start_time": "2022-01-15T15:15:47.266Z"
   },
   {
    "duration": 24,
    "start_time": "2022-01-15T15:15:47.296Z"
   },
   {
    "duration": 9,
    "start_time": "2022-01-15T15:15:47.322Z"
   },
   {
    "duration": 2,
    "start_time": "2022-01-15T15:15:47.332Z"
   },
   {
    "duration": 19,
    "start_time": "2022-01-15T15:15:47.335Z"
   },
   {
    "duration": 14,
    "start_time": "2022-01-15T15:15:47.355Z"
   },
   {
    "duration": 383,
    "start_time": "2022-01-15T15:15:47.370Z"
   },
   {
    "duration": 127,
    "start_time": "2022-01-15T15:15:47.755Z"
   },
   {
    "duration": 8,
    "start_time": "2022-01-15T15:15:47.884Z"
   },
   {
    "duration": 6,
    "start_time": "2022-01-15T15:15:47.893Z"
   },
   {
    "duration": 230,
    "start_time": "2022-01-15T15:15:47.900Z"
   },
   {
    "duration": 13,
    "start_time": "2022-01-15T15:15:48.132Z"
   },
   {
    "duration": 72,
    "start_time": "2022-01-15T15:15:48.146Z"
   },
   {
    "duration": -13,
    "start_time": "2022-01-15T15:15:48.233Z"
   },
   {
    "duration": -14,
    "start_time": "2022-01-15T15:15:48.235Z"
   },
   {
    "duration": 21,
    "start_time": "2022-01-15T15:15:52.729Z"
   },
   {
    "duration": 16,
    "start_time": "2022-01-15T15:15:56.632Z"
   },
   {
    "duration": 16,
    "start_time": "2022-01-15T15:16:18.191Z"
   },
   {
    "duration": 14,
    "start_time": "2022-01-15T15:16:20.506Z"
   },
   {
    "duration": 4,
    "start_time": "2022-01-15T15:17:13.927Z"
   },
   {
    "duration": 1036,
    "start_time": "2022-01-15T15:17:21.111Z"
   },
   {
    "duration": 2,
    "start_time": "2022-01-15T15:17:22.149Z"
   },
   {
    "duration": 45,
    "start_time": "2022-01-15T15:17:22.153Z"
   },
   {
    "duration": 3,
    "start_time": "2022-01-15T15:17:22.199Z"
   },
   {
    "duration": 36,
    "start_time": "2022-01-15T15:17:22.203Z"
   },
   {
    "duration": 9,
    "start_time": "2022-01-15T15:17:22.241Z"
   },
   {
    "duration": 271,
    "start_time": "2022-01-15T15:17:22.252Z"
   },
   {
    "duration": 141,
    "start_time": "2022-01-15T15:17:22.525Z"
   },
   {
    "duration": 392,
    "start_time": "2022-01-15T15:17:22.668Z"
   },
   {
    "duration": 18,
    "start_time": "2022-01-15T15:17:23.063Z"
   },
   {
    "duration": 354,
    "start_time": "2022-01-15T15:17:23.082Z"
   },
   {
    "duration": 3,
    "start_time": "2022-01-15T15:17:23.437Z"
   },
   {
    "duration": 21,
    "start_time": "2022-01-15T15:17:23.441Z"
   },
   {
    "duration": 30,
    "start_time": "2022-01-15T15:17:23.463Z"
   },
   {
    "duration": 39,
    "start_time": "2022-01-15T15:17:23.512Z"
   },
   {
    "duration": 3,
    "start_time": "2022-01-15T15:17:23.552Z"
   },
   {
    "duration": 12,
    "start_time": "2022-01-15T15:17:23.557Z"
   },
   {
    "duration": 9,
    "start_time": "2022-01-15T15:17:23.571Z"
   },
   {
    "duration": 34,
    "start_time": "2022-01-15T15:17:23.582Z"
   },
   {
    "duration": 10,
    "start_time": "2022-01-15T15:17:23.617Z"
   },
   {
    "duration": 4,
    "start_time": "2022-01-15T15:17:23.628Z"
   },
   {
    "duration": 10,
    "start_time": "2022-01-15T15:17:23.634Z"
   },
   {
    "duration": 315,
    "start_time": "2022-01-15T15:17:23.646Z"
   },
   {
    "duration": 522,
    "start_time": "2022-01-15T15:17:23.962Z"
   },
   {
    "duration": 1339,
    "start_time": "2022-01-15T15:17:24.486Z"
   },
   {
    "duration": 9,
    "start_time": "2022-01-15T15:17:25.827Z"
   },
   {
    "duration": 353,
    "start_time": "2022-01-15T15:17:25.840Z"
   },
   {
    "duration": 3,
    "start_time": "2022-01-15T15:17:26.194Z"
   },
   {
    "duration": 34,
    "start_time": "2022-01-15T15:17:26.198Z"
   },
   {
    "duration": 8,
    "start_time": "2022-01-15T15:17:26.234Z"
   },
   {
    "duration": 9,
    "start_time": "2022-01-15T15:17:26.244Z"
   },
   {
    "duration": 3,
    "start_time": "2022-01-15T15:17:26.254Z"
   },
   {
    "duration": 20,
    "start_time": "2022-01-15T15:17:26.258Z"
   },
   {
    "duration": 39,
    "start_time": "2022-01-15T15:17:26.280Z"
   },
   {
    "duration": 363,
    "start_time": "2022-01-15T15:17:26.320Z"
   },
   {
    "duration": 139,
    "start_time": "2022-01-15T15:17:26.685Z"
   },
   {
    "duration": 7,
    "start_time": "2022-01-15T15:17:26.825Z"
   },
   {
    "duration": 7,
    "start_time": "2022-01-15T15:17:26.833Z"
   },
   {
    "duration": 241,
    "start_time": "2022-01-15T15:17:26.841Z"
   },
   {
    "duration": 16,
    "start_time": "2022-01-15T15:17:27.083Z"
   },
   {
    "duration": 65,
    "start_time": "2022-01-15T15:17:27.113Z"
   },
   {
    "duration": -1228,
    "start_time": "2022-01-15T15:17:28.407Z"
   },
   {
    "duration": -1229,
    "start_time": "2022-01-15T15:17:28.409Z"
   },
   {
    "duration": -1231,
    "start_time": "2022-01-15T15:17:28.412Z"
   },
   {
    "duration": 16,
    "start_time": "2022-01-15T15:18:17.416Z"
   },
   {
    "duration": 15,
    "start_time": "2022-01-15T15:18:19.583Z"
   },
   {
    "duration": 4,
    "start_time": "2022-01-15T15:18:26.960Z"
   },
   {
    "duration": 61,
    "start_time": "2022-01-15T15:19:14.812Z"
   },
   {
    "duration": 5904,
    "start_time": "2022-01-15T15:19:51.550Z"
   },
   {
    "duration": 881,
    "start_time": "2022-01-15T15:20:11.485Z"
   },
   {
    "duration": 1850,
    "start_time": "2022-01-15T15:22:06.174Z"
   },
   {
    "duration": 3,
    "start_time": "2022-01-15T15:23:36.328Z"
   },
   {
    "duration": 11,
    "start_time": "2022-01-15T15:23:41.374Z"
   },
   {
    "duration": 14,
    "start_time": "2022-01-15T15:23:49.511Z"
   },
   {
    "duration": 13,
    "start_time": "2022-01-15T15:24:26.921Z"
   },
   {
    "duration": 8,
    "start_time": "2022-01-15T15:24:39.531Z"
   },
   {
    "duration": 13,
    "start_time": "2022-01-15T15:25:12.787Z"
   },
   {
    "duration": 9,
    "start_time": "2022-01-15T15:25:57.427Z"
   },
   {
    "duration": 8,
    "start_time": "2022-01-15T15:26:16.598Z"
   },
   {
    "duration": 10,
    "start_time": "2022-01-15T15:26:33.022Z"
   },
   {
    "duration": 8,
    "start_time": "2022-01-15T15:26:43.354Z"
   },
   {
    "duration": 9,
    "start_time": "2022-01-15T15:26:55.094Z"
   },
   {
    "duration": 253,
    "start_time": "2022-01-15T15:27:40.096Z"
   },
   {
    "duration": 8,
    "start_time": "2022-01-15T15:28:14.802Z"
   },
   {
    "duration": 471,
    "start_time": "2022-01-15T15:28:36.510Z"
   },
   {
    "duration": 198,
    "start_time": "2022-01-15T15:29:12.992Z"
   },
   {
    "duration": 213,
    "start_time": "2022-01-15T15:29:18.884Z"
   },
   {
    "duration": 19,
    "start_time": "2022-01-15T15:29:46.934Z"
   },
   {
    "duration": 5034,
    "start_time": "2022-01-15T15:29:58.464Z"
   },
   {
    "duration": 4656,
    "start_time": "2022-01-15T15:30:09.790Z"
   },
   {
    "duration": 1136,
    "start_time": "2022-01-16T12:04:28.015Z"
   },
   {
    "duration": 3,
    "start_time": "2022-01-16T12:04:29.153Z"
   },
   {
    "duration": 44,
    "start_time": "2022-01-16T12:04:29.158Z"
   },
   {
    "duration": 2,
    "start_time": "2022-01-16T12:04:29.204Z"
   },
   {
    "duration": 35,
    "start_time": "2022-01-16T12:04:29.211Z"
   },
   {
    "duration": 10,
    "start_time": "2022-01-16T12:04:29.248Z"
   },
   {
    "duration": 280,
    "start_time": "2022-01-16T12:04:29.260Z"
   },
   {
    "duration": 137,
    "start_time": "2022-01-16T12:04:29.542Z"
   },
   {
    "duration": 386,
    "start_time": "2022-01-16T12:04:29.681Z"
   },
   {
    "duration": 19,
    "start_time": "2022-01-16T12:04:30.070Z"
   },
   {
    "duration": 370,
    "start_time": "2022-01-16T12:04:30.090Z"
   },
   {
    "duration": 3,
    "start_time": "2022-01-16T12:04:30.462Z"
   },
   {
    "duration": 29,
    "start_time": "2022-01-16T12:04:30.466Z"
   },
   {
    "duration": 25,
    "start_time": "2022-01-16T12:04:30.497Z"
   },
   {
    "duration": 28,
    "start_time": "2022-01-16T12:04:30.523Z"
   },
   {
    "duration": 2,
    "start_time": "2022-01-16T12:04:30.553Z"
   },
   {
    "duration": 18,
    "start_time": "2022-01-16T12:04:30.557Z"
   },
   {
    "duration": 10,
    "start_time": "2022-01-16T12:04:30.577Z"
   },
   {
    "duration": 9,
    "start_time": "2022-01-16T12:04:30.589Z"
   },
   {
    "duration": 10,
    "start_time": "2022-01-16T12:04:30.612Z"
   },
   {
    "duration": 3,
    "start_time": "2022-01-16T12:04:30.624Z"
   },
   {
    "duration": 13,
    "start_time": "2022-01-16T12:04:30.629Z"
   },
   {
    "duration": 313,
    "start_time": "2022-01-16T12:04:30.644Z"
   },
   {
    "duration": 525,
    "start_time": "2022-01-16T12:04:30.959Z"
   },
   {
    "duration": 1333,
    "start_time": "2022-01-16T12:04:31.485Z"
   },
   {
    "duration": 9,
    "start_time": "2022-01-16T12:04:32.820Z"
   },
   {
    "duration": 355,
    "start_time": "2022-01-16T12:04:32.832Z"
   },
   {
    "duration": 3,
    "start_time": "2022-01-16T12:04:33.189Z"
   },
   {
    "duration": 39,
    "start_time": "2022-01-16T12:04:33.193Z"
   },
   {
    "duration": 8,
    "start_time": "2022-01-16T12:04:33.234Z"
   },
   {
    "duration": 9,
    "start_time": "2022-01-16T12:04:33.244Z"
   },
   {
    "duration": 3,
    "start_time": "2022-01-16T12:04:33.254Z"
   },
   {
    "duration": 19,
    "start_time": "2022-01-16T12:04:33.259Z"
   },
   {
    "duration": 37,
    "start_time": "2022-01-16T12:04:33.279Z"
   },
   {
    "duration": 365,
    "start_time": "2022-01-16T12:04:33.317Z"
   },
   {
    "duration": 111,
    "start_time": "2022-01-16T12:04:33.683Z"
   },
   {
    "duration": 7,
    "start_time": "2022-01-16T12:04:33.795Z"
   },
   {
    "duration": 6,
    "start_time": "2022-01-16T12:04:33.803Z"
   },
   {
    "duration": 233,
    "start_time": "2022-01-16T12:04:33.810Z"
   },
   {
    "duration": 14,
    "start_time": "2022-01-16T12:04:34.044Z"
   },
   {
    "duration": 15,
    "start_time": "2022-01-16T12:04:34.059Z"
   },
   {
    "duration": 14,
    "start_time": "2022-01-16T12:04:34.075Z"
   },
   {
    "duration": 8,
    "start_time": "2022-01-16T12:04:34.112Z"
   },
   {
    "duration": 61,
    "start_time": "2022-01-16T12:05:23.872Z"
   },
   {
    "duration": 15,
    "start_time": "2022-01-16T12:06:52.019Z"
   },
   {
    "duration": 13,
    "start_time": "2022-01-16T12:07:36.782Z"
   },
   {
    "duration": 10,
    "start_time": "2022-01-16T12:08:15.913Z"
   },
   {
    "duration": 9,
    "start_time": "2022-01-16T12:11:05.287Z"
   },
   {
    "duration": 8,
    "start_time": "2022-01-16T12:11:14.674Z"
   },
   {
    "duration": 10,
    "start_time": "2022-01-16T12:17:40.340Z"
   },
   {
    "duration": 9,
    "start_time": "2022-01-16T12:17:49.635Z"
   },
   {
    "duration": 8,
    "start_time": "2022-01-16T12:18:22.735Z"
   },
   {
    "duration": 61,
    "start_time": "2022-01-16T12:19:51.096Z"
   },
   {
    "duration": 62,
    "start_time": "2022-01-16T12:19:58.720Z"
   },
   {
    "duration": 6,
    "start_time": "2022-01-16T12:20:25.528Z"
   },
   {
    "duration": 257,
    "start_time": "2022-01-16T12:20:33.136Z"
   },
   {
    "duration": 4,
    "start_time": "2022-01-16T12:20:54.093Z"
   },
   {
    "duration": 4,
    "start_time": "2022-01-16T12:21:00.050Z"
   },
   {
    "duration": 69,
    "start_time": "2022-01-16T12:21:11.376Z"
   },
   {
    "duration": 17,
    "start_time": "2022-01-16T12:21:15.566Z"
   },
   {
    "duration": 59,
    "start_time": "2022-01-16T12:24:31.221Z"
   },
   {
    "duration": 18,
    "start_time": "2022-01-16T12:24:39.113Z"
   },
   {
    "duration": 13,
    "start_time": "2022-01-16T14:04:57.571Z"
   },
   {
    "duration": 11,
    "start_time": "2022-01-16T14:05:28.797Z"
   },
   {
    "duration": 12,
    "start_time": "2022-01-16T14:05:35.234Z"
   },
   {
    "duration": 57,
    "start_time": "2022-01-16T14:07:13.660Z"
   },
   {
    "duration": 13,
    "start_time": "2022-01-16T14:08:06.368Z"
   },
   {
    "duration": 9,
    "start_time": "2022-01-16T14:10:43.030Z"
   },
   {
    "duration": 13,
    "start_time": "2022-01-16T14:10:52.370Z"
   },
   {
    "duration": 67,
    "start_time": "2022-01-16T14:11:08.740Z"
   },
   {
    "duration": 195,
    "start_time": "2022-01-16T14:12:32.808Z"
   },
   {
    "duration": 376,
    "start_time": "2022-01-16T14:12:52.357Z"
   },
   {
    "duration": 74,
    "start_time": "2022-01-16T14:28:36.063Z"
   },
   {
    "duration": 362,
    "start_time": "2022-01-16T14:28:54.559Z"
   },
   {
    "duration": 584,
    "start_time": "2022-01-16T14:29:35.067Z"
   },
   {
    "duration": 15,
    "start_time": "2022-01-16T14:30:03.231Z"
   },
   {
    "duration": 7,
    "start_time": "2022-01-16T14:40:28.157Z"
   },
   {
    "duration": 7,
    "start_time": "2022-01-16T14:41:21.291Z"
   },
   {
    "duration": 5,
    "start_time": "2022-01-16T14:41:32.952Z"
   },
   {
    "duration": 19,
    "start_time": "2022-01-16T14:42:21.489Z"
   },
   {
    "duration": 20,
    "start_time": "2022-01-16T14:42:24.021Z"
   },
   {
    "duration": 195,
    "start_time": "2022-01-16T14:44:54.298Z"
   },
   {
    "duration": 66,
    "start_time": "2022-01-16T14:45:07.608Z"
   },
   {
    "duration": 67,
    "start_time": "2022-01-16T14:45:30.249Z"
   },
   {
    "duration": 58,
    "start_time": "2022-01-16T14:45:49.480Z"
   },
   {
    "duration": 194,
    "start_time": "2022-01-16T14:45:53.065Z"
   },
   {
    "duration": 63,
    "start_time": "2022-01-16T14:46:03.357Z"
   },
   {
    "duration": 10,
    "start_time": "2022-01-16T14:46:13.259Z"
   },
   {
    "duration": 8,
    "start_time": "2022-01-16T14:46:22.120Z"
   },
   {
    "duration": 64,
    "start_time": "2022-01-16T14:46:47.644Z"
   },
   {
    "duration": 19,
    "start_time": "2022-01-16T14:46:57.363Z"
   },
   {
    "duration": 14,
    "start_time": "2022-01-16T14:47:22.731Z"
   },
   {
    "duration": 68,
    "start_time": "2022-01-16T14:48:49.896Z"
   },
   {
    "duration": 178,
    "start_time": "2022-01-16T14:57:11.676Z"
   },
   {
    "duration": 4,
    "start_time": "2022-01-16T14:57:53.686Z"
   },
   {
    "duration": 3,
    "start_time": "2022-01-16T14:58:11.836Z"
   },
   {
    "duration": 57,
    "start_time": "2022-01-16T14:58:23.335Z"
   },
   {
    "duration": 55,
    "start_time": "2022-01-16T14:58:27.405Z"
   },
   {
    "duration": 16,
    "start_time": "2022-01-16T14:58:30.723Z"
   },
   {
    "duration": 347,
    "start_time": "2022-01-16T15:00:47.268Z"
   },
   {
    "duration": 15,
    "start_time": "2022-01-16T15:00:56.702Z"
   },
   {
    "duration": 16,
    "start_time": "2022-01-16T15:02:01.971Z"
   },
   {
    "duration": 18,
    "start_time": "2022-01-16T15:02:10.433Z"
   },
   {
    "duration": 17,
    "start_time": "2022-01-16T15:02:17.794Z"
   },
   {
    "duration": 223,
    "start_time": "2022-01-16T15:03:25.471Z"
   },
   {
    "duration": 280,
    "start_time": "2022-01-16T15:03:44.883Z"
   },
   {
    "duration": 23,
    "start_time": "2022-01-16T15:03:51.255Z"
   },
   {
    "duration": 61,
    "start_time": "2022-01-16T15:04:26.105Z"
   },
   {
    "duration": 590,
    "start_time": "2022-01-16T15:04:29.903Z"
   },
   {
    "duration": 25,
    "start_time": "2022-01-16T15:05:24.545Z"
   },
   {
    "duration": 502,
    "start_time": "2022-01-16T15:05:31.561Z"
   },
   {
    "duration": 502,
    "start_time": "2022-01-16T15:08:55.217Z"
   },
   {
    "duration": 5,
    "start_time": "2022-01-16T15:28:01.973Z"
   },
   {
    "duration": 353,
    "start_time": "2022-01-16T18:33:42.278Z"
   },
   {
    "duration": 1626,
    "start_time": "2022-01-16T18:33:47.879Z"
   },
   {
    "duration": 5,
    "start_time": "2022-01-16T18:33:49.508Z"
   },
   {
    "duration": 326,
    "start_time": "2022-01-16T18:33:49.517Z"
   },
   {
    "duration": 4,
    "start_time": "2022-01-16T18:33:49.846Z"
   },
   {
    "duration": 58,
    "start_time": "2022-01-16T18:33:49.854Z"
   },
   {
    "duration": 17,
    "start_time": "2022-01-16T18:33:49.915Z"
   },
   {
    "duration": 529,
    "start_time": "2022-01-16T18:33:49.935Z"
   },
   {
    "duration": 255,
    "start_time": "2022-01-16T18:33:50.466Z"
   },
   {
    "duration": 798,
    "start_time": "2022-01-16T18:33:50.726Z"
   },
   {
    "duration": 52,
    "start_time": "2022-01-16T18:33:51.527Z"
   },
   {
    "duration": 706,
    "start_time": "2022-01-16T18:33:51.582Z"
   },
   {
    "duration": 4,
    "start_time": "2022-01-16T18:33:52.291Z"
   },
   {
    "duration": 32,
    "start_time": "2022-01-16T18:33:52.297Z"
   },
   {
    "duration": 57,
    "start_time": "2022-01-16T18:33:52.331Z"
   },
   {
    "duration": 16,
    "start_time": "2022-01-16T18:33:52.390Z"
   },
   {
    "duration": 681,
    "start_time": "2022-01-16T18:33:52.409Z"
   },
   {
    "duration": -163,
    "start_time": "2022-01-16T18:33:53.257Z"
   },
   {
    "duration": -164,
    "start_time": "2022-01-16T18:33:53.259Z"
   },
   {
    "duration": -164,
    "start_time": "2022-01-16T18:33:53.261Z"
   },
   {
    "duration": -165,
    "start_time": "2022-01-16T18:33:53.263Z"
   },
   {
    "duration": -166,
    "start_time": "2022-01-16T18:33:53.265Z"
   },
   {
    "duration": -171,
    "start_time": "2022-01-16T18:33:53.272Z"
   },
   {
    "duration": -171,
    "start_time": "2022-01-16T18:33:53.274Z"
   },
   {
    "duration": -176,
    "start_time": "2022-01-16T18:33:53.280Z"
   },
   {
    "duration": -177,
    "start_time": "2022-01-16T18:33:53.282Z"
   },
   {
    "duration": -178,
    "start_time": "2022-01-16T18:33:53.284Z"
   },
   {
    "duration": -182,
    "start_time": "2022-01-16T18:33:53.290Z"
   },
   {
    "duration": -184,
    "start_time": "2022-01-16T18:33:53.293Z"
   },
   {
    "duration": -184,
    "start_time": "2022-01-16T18:33:53.295Z"
   },
   {
    "duration": -203,
    "start_time": "2022-01-16T18:33:53.315Z"
   },
   {
    "duration": -204,
    "start_time": "2022-01-16T18:33:53.318Z"
   },
   {
    "duration": -205,
    "start_time": "2022-01-16T18:33:53.320Z"
   },
   {
    "duration": -206,
    "start_time": "2022-01-16T18:33:53.322Z"
   },
   {
    "duration": -206,
    "start_time": "2022-01-16T18:33:53.324Z"
   },
   {
    "duration": -212,
    "start_time": "2022-01-16T18:33:53.331Z"
   },
   {
    "duration": -212,
    "start_time": "2022-01-16T18:33:53.333Z"
   },
   {
    "duration": -211,
    "start_time": "2022-01-16T18:33:53.335Z"
   },
   {
    "duration": -211,
    "start_time": "2022-01-16T18:33:53.337Z"
   },
   {
    "duration": -211,
    "start_time": "2022-01-16T18:33:53.338Z"
   },
   {
    "duration": -212,
    "start_time": "2022-01-16T18:33:53.340Z"
   },
   {
    "duration": -180,
    "start_time": "2022-01-16T18:33:53.342Z"
   },
   {
    "duration": -185,
    "start_time": "2022-01-16T18:33:53.348Z"
   },
   {
    "duration": -186,
    "start_time": "2022-01-16T18:33:53.351Z"
   },
   {
    "duration": -186,
    "start_time": "2022-01-16T18:33:53.353Z"
   },
   {
    "duration": -186,
    "start_time": "2022-01-16T18:33:53.355Z"
   },
   {
    "duration": -190,
    "start_time": "2022-01-16T18:33:53.360Z"
   },
   {
    "duration": -190,
    "start_time": "2022-01-16T18:33:53.362Z"
   },
   {
    "duration": -191,
    "start_time": "2022-01-16T18:33:53.364Z"
   },
   {
    "duration": -192,
    "start_time": "2022-01-16T18:33:53.366Z"
   },
   {
    "duration": -193,
    "start_time": "2022-01-16T18:33:53.369Z"
   },
   {
    "duration": -194,
    "start_time": "2022-01-16T18:33:53.371Z"
   },
   {
    "duration": -198,
    "start_time": "2022-01-16T18:33:53.377Z"
   },
   {
    "duration": 1973,
    "start_time": "2022-01-16T19:01:49.539Z"
   },
   {
    "duration": 4,
    "start_time": "2022-01-16T19:01:51.516Z"
   },
   {
    "duration": 80,
    "start_time": "2022-01-16T19:01:51.527Z"
   },
   {
    "duration": 7,
    "start_time": "2022-01-16T19:01:51.610Z"
   },
   {
    "duration": 108,
    "start_time": "2022-01-16T19:01:51.620Z"
   },
   {
    "duration": 46,
    "start_time": "2022-01-16T19:01:51.731Z"
   },
   {
    "duration": 635,
    "start_time": "2022-01-16T19:01:51.783Z"
   },
   {
    "duration": 288,
    "start_time": "2022-01-16T19:01:52.423Z"
   },
   {
    "duration": 949,
    "start_time": "2022-01-16T19:01:52.714Z"
   },
   {
    "duration": 40,
    "start_time": "2022-01-16T19:01:53.666Z"
   },
   {
    "duration": 723,
    "start_time": "2022-01-16T19:01:53.709Z"
   },
   {
    "duration": 5,
    "start_time": "2022-01-16T19:01:54.434Z"
   },
   {
    "duration": 54,
    "start_time": "2022-01-16T19:01:54.442Z"
   },
   {
    "duration": 80,
    "start_time": "2022-01-16T19:01:54.500Z"
   },
   {
    "duration": 8,
    "start_time": "2022-01-16T19:01:54.584Z"
   },
   {
    "duration": 158,
    "start_time": "2022-01-16T19:01:54.595Z"
   },
   {
    "duration": 7,
    "start_time": "2022-01-16T19:01:54.764Z"
   },
   {
    "duration": 31,
    "start_time": "2022-01-16T19:01:54.775Z"
   },
   {
    "duration": 35,
    "start_time": "2022-01-16T19:01:54.809Z"
   },
   {
    "duration": 33,
    "start_time": "2022-01-16T19:01:54.847Z"
   },
   {
    "duration": 31,
    "start_time": "2022-01-16T19:01:54.883Z"
   },
   {
    "duration": 7,
    "start_time": "2022-01-16T19:01:54.917Z"
   },
   {
    "duration": 52,
    "start_time": "2022-01-16T19:01:54.927Z"
   },
   {
    "duration": 584,
    "start_time": "2022-01-16T19:01:54.982Z"
   },
   {
    "duration": -154,
    "start_time": "2022-01-16T19:01:55.724Z"
   },
   {
    "duration": -155,
    "start_time": "2022-01-16T19:01:55.726Z"
   },
   {
    "duration": -158,
    "start_time": "2022-01-16T19:01:55.731Z"
   },
   {
    "duration": -165,
    "start_time": "2022-01-16T19:01:55.739Z"
   },
   {
    "duration": -168,
    "start_time": "2022-01-16T19:01:55.744Z"
   },
   {
    "duration": -169,
    "start_time": "2022-01-16T19:01:55.747Z"
   },
   {
    "duration": -167,
    "start_time": "2022-01-16T19:01:55.749Z"
   },
   {
    "duration": -167,
    "start_time": "2022-01-16T19:01:55.751Z"
   },
   {
    "duration": -167,
    "start_time": "2022-01-16T19:01:55.753Z"
   },
   {
    "duration": -168,
    "start_time": "2022-01-16T19:01:55.755Z"
   },
   {
    "duration": -172,
    "start_time": "2022-01-16T19:01:55.761Z"
   },
   {
    "duration": -170,
    "start_time": "2022-01-16T19:01:55.763Z"
   },
   {
    "duration": -171,
    "start_time": "2022-01-16T19:01:55.766Z"
   },
   {
    "duration": -171,
    "start_time": "2022-01-16T19:01:55.768Z"
   },
   {
    "duration": -211,
    "start_time": "2022-01-16T19:01:55.810Z"
   },
   {
    "duration": -214,
    "start_time": "2022-01-16T19:01:55.815Z"
   },
   {
    "duration": -218,
    "start_time": "2022-01-16T19:01:55.821Z"
   },
   {
    "duration": -220,
    "start_time": "2022-01-16T19:01:55.825Z"
   },
   {
    "duration": -220,
    "start_time": "2022-01-16T19:01:55.827Z"
   },
   {
    "duration": -220,
    "start_time": "2022-01-16T19:01:55.829Z"
   },
   {
    "duration": -231,
    "start_time": "2022-01-16T19:01:55.842Z"
   },
   {
    "duration": -237,
    "start_time": "2022-01-16T19:01:55.849Z"
   },
   {
    "duration": -241,
    "start_time": "2022-01-16T19:01:55.854Z"
   },
   {
    "duration": -194,
    "start_time": "2022-01-16T19:01:55.857Z"
   },
   {
    "duration": -190,
    "start_time": "2022-01-16T19:01:55.858Z"
   },
   {
    "duration": -188,
    "start_time": "2022-01-16T19:01:55.860Z"
   },
   {
    "duration": -186,
    "start_time": "2022-01-16T19:01:55.862Z"
   },
   {
    "duration": -185,
    "start_time": "2022-01-16T19:01:55.864Z"
   },
   {
    "duration": 1915,
    "start_time": "2022-01-16T19:02:18.347Z"
   },
   {
    "duration": 5082,
    "start_time": "2022-01-16T19:02:20.265Z"
   },
   {
    "duration": 64,
    "start_time": "2022-01-16T19:02:25.350Z"
   },
   {
    "duration": 6,
    "start_time": "2022-01-16T19:02:25.417Z"
   },
   {
    "duration": 98,
    "start_time": "2022-01-16T19:02:25.426Z"
   },
   {
    "duration": 43,
    "start_time": "2022-01-16T19:02:25.527Z"
   },
   {
    "duration": 671,
    "start_time": "2022-01-16T19:02:25.575Z"
   },
   {
    "duration": 355,
    "start_time": "2022-01-16T19:02:26.250Z"
   },
   {
    "duration": 974,
    "start_time": "2022-01-16T19:02:26.608Z"
   },
   {
    "duration": 38,
    "start_time": "2022-01-16T19:02:27.585Z"
   },
   {
    "duration": 776,
    "start_time": "2022-01-16T19:02:27.626Z"
   },
   {
    "duration": 6,
    "start_time": "2022-01-16T19:02:28.405Z"
   },
   {
    "duration": 71,
    "start_time": "2022-01-16T19:02:28.414Z"
   },
   {
    "duration": 43,
    "start_time": "2022-01-16T19:02:28.488Z"
   },
   {
    "duration": 31,
    "start_time": "2022-01-16T19:02:28.534Z"
   },
   {
    "duration": 159,
    "start_time": "2022-01-16T19:02:28.575Z"
   },
   {
    "duration": 5,
    "start_time": "2022-01-16T19:02:28.738Z"
   },
   {
    "duration": 38,
    "start_time": "2022-01-16T19:02:28.746Z"
   },
   {
    "duration": 15,
    "start_time": "2022-01-16T19:02:28.788Z"
   },
   {
    "duration": 23,
    "start_time": "2022-01-16T19:02:28.806Z"
   },
   {
    "duration": 24,
    "start_time": "2022-01-16T19:02:28.864Z"
   },
   {
    "duration": 7,
    "start_time": "2022-01-16T19:02:28.891Z"
   },
   {
    "duration": 23,
    "start_time": "2022-01-16T19:02:28.901Z"
   },
   {
    "duration": 564,
    "start_time": "2022-01-16T19:02:28.927Z"
   },
   {
    "duration": -148,
    "start_time": "2022-01-16T19:02:29.644Z"
   },
   {
    "duration": -149,
    "start_time": "2022-01-16T19:02:29.647Z"
   },
   {
    "duration": -151,
    "start_time": "2022-01-16T19:02:29.651Z"
   },
   {
    "duration": -155,
    "start_time": "2022-01-16T19:02:29.657Z"
   },
   {
    "duration": -190,
    "start_time": "2022-01-16T19:02:29.694Z"
   },
   {
    "duration": -191,
    "start_time": "2022-01-16T19:02:29.697Z"
   },
   {
    "duration": -195,
    "start_time": "2022-01-16T19:02:29.703Z"
   },
   {
    "duration": -201,
    "start_time": "2022-01-16T19:02:29.711Z"
   },
   {
    "duration": -209,
    "start_time": "2022-01-16T19:02:29.720Z"
   },
   {
    "duration": -215,
    "start_time": "2022-01-16T19:02:29.728Z"
   },
   {
    "duration": -216,
    "start_time": "2022-01-16T19:02:29.731Z"
   },
   {
    "duration": -221,
    "start_time": "2022-01-16T19:02:29.738Z"
   },
   {
    "duration": -228,
    "start_time": "2022-01-16T19:02:29.747Z"
   },
   {
    "duration": -234,
    "start_time": "2022-01-16T19:02:29.755Z"
   },
   {
    "duration": -247,
    "start_time": "2022-01-16T19:02:29.770Z"
   },
   {
    "duration": -248,
    "start_time": "2022-01-16T19:02:29.773Z"
   },
   {
    "duration": -299,
    "start_time": "2022-01-16T19:02:29.827Z"
   },
   {
    "duration": -302,
    "start_time": "2022-01-16T19:02:29.831Z"
   },
   {
    "duration": -308,
    "start_time": "2022-01-16T19:02:29.839Z"
   },
   {
    "duration": -314,
    "start_time": "2022-01-16T19:02:29.847Z"
   },
   {
    "duration": -323,
    "start_time": "2022-01-16T19:02:29.858Z"
   },
   {
    "duration": -334,
    "start_time": "2022-01-16T19:02:29.870Z"
   },
   {
    "duration": -312,
    "start_time": "2022-01-16T19:02:29.874Z"
   },
   {
    "duration": -312,
    "start_time": "2022-01-16T19:02:29.876Z"
   },
   {
    "duration": -314,
    "start_time": "2022-01-16T19:02:29.879Z"
   },
   {
    "duration": -317,
    "start_time": "2022-01-16T19:02:29.883Z"
   },
   {
    "duration": -318,
    "start_time": "2022-01-16T19:02:29.886Z"
   },
   {
    "duration": -319,
    "start_time": "2022-01-16T19:02:29.889Z"
   },
   {
    "duration": 1790,
    "start_time": "2022-01-16T19:02:42.580Z"
   },
   {
    "duration": 3883,
    "start_time": "2022-01-16T19:02:44.373Z"
   },
   {
    "duration": 68,
    "start_time": "2022-01-16T19:02:48.259Z"
   },
   {
    "duration": 7,
    "start_time": "2022-01-16T19:02:48.330Z"
   },
   {
    "duration": 78,
    "start_time": "2022-01-16T19:02:48.339Z"
   },
   {
    "duration": 46,
    "start_time": "2022-01-16T19:02:48.420Z"
   },
   {
    "duration": 554,
    "start_time": "2022-01-16T19:02:48.469Z"
   },
   {
    "duration": 278,
    "start_time": "2022-01-16T19:02:49.026Z"
   },
   {
    "duration": 784,
    "start_time": "2022-01-16T19:02:49.308Z"
   },
   {
    "duration": 36,
    "start_time": "2022-01-16T19:02:50.096Z"
   },
   {
    "duration": 711,
    "start_time": "2022-01-16T19:02:50.135Z"
   },
   {
    "duration": 16,
    "start_time": "2022-01-16T19:02:50.849Z"
   },
   {
    "duration": 39,
    "start_time": "2022-01-16T19:02:50.868Z"
   },
   {
    "duration": 59,
    "start_time": "2022-01-16T19:02:50.910Z"
   },
   {
    "duration": 10,
    "start_time": "2022-01-16T19:02:50.972Z"
   },
   {
    "duration": 48,
    "start_time": "2022-01-16T19:02:50.985Z"
   },
   {
    "duration": 4,
    "start_time": "2022-01-16T19:02:51.063Z"
   },
   {
    "duration": 23,
    "start_time": "2022-01-16T19:02:51.070Z"
   },
   {
    "duration": 14,
    "start_time": "2022-01-16T19:02:51.095Z"
   },
   {
    "duration": 56,
    "start_time": "2022-01-16T19:02:51.111Z"
   },
   {
    "duration": 23,
    "start_time": "2022-01-16T19:02:51.169Z"
   },
   {
    "duration": 8,
    "start_time": "2022-01-16T19:02:51.195Z"
   },
   {
    "duration": 61,
    "start_time": "2022-01-16T19:02:51.206Z"
   },
   {
    "duration": 639,
    "start_time": "2022-01-16T19:02:51.270Z"
   },
   {
    "duration": 1173,
    "start_time": "2022-01-16T19:02:51.912Z"
   },
   {
    "duration": 2829,
    "start_time": "2022-01-16T19:02:53.088Z"
   },
   {
    "duration": 17,
    "start_time": "2022-01-16T19:02:55.923Z"
   },
   {
    "duration": 700,
    "start_time": "2022-01-16T19:02:55.944Z"
   },
   {
    "duration": 4,
    "start_time": "2022-01-16T19:02:56.647Z"
   },
   {
    "duration": 57,
    "start_time": "2022-01-16T19:02:56.664Z"
   },
   {
    "duration": 43,
    "start_time": "2022-01-16T19:02:56.725Z"
   },
   {
    "duration": 21,
    "start_time": "2022-01-16T19:02:56.771Z"
   },
   {
    "duration": 5,
    "start_time": "2022-01-16T19:02:56.794Z"
   },
   {
    "duration": 80,
    "start_time": "2022-01-16T19:02:56.802Z"
   },
   {
    "duration": 32,
    "start_time": "2022-01-16T19:02:56.885Z"
   },
   {
    "duration": 784,
    "start_time": "2022-01-16T19:02:56.921Z"
   },
   {
    "duration": 143,
    "start_time": "2022-01-16T19:02:57.708Z"
   },
   {
    "duration": 14,
    "start_time": "2022-01-16T19:02:57.854Z"
   },
   {
    "duration": 9,
    "start_time": "2022-01-16T19:02:57.871Z"
   },
   {
    "duration": 636,
    "start_time": "2022-01-16T19:02:57.883Z"
   },
   {
    "duration": 41,
    "start_time": "2022-01-16T19:02:58.522Z"
   },
   {
    "duration": 35,
    "start_time": "2022-01-16T19:02:58.566Z"
   },
   {
    "duration": 61,
    "start_time": "2022-01-16T19:02:58.604Z"
   },
   {
    "duration": 13,
    "start_time": "2022-01-16T19:02:58.667Z"
   },
   {
    "duration": 15,
    "start_time": "2022-01-16T19:02:58.683Z"
   },
   {
    "duration": 7,
    "start_time": "2022-01-16T19:02:58.701Z"
   },
   {
    "duration": 68,
    "start_time": "2022-01-16T19:02:58.711Z"
   },
   {
    "duration": 946,
    "start_time": "2022-01-16T19:02:58.782Z"
   },
   {
    "duration": 40,
    "start_time": "2022-01-16T19:02:59.731Z"
   },
   {
    "duration": 5,
    "start_time": "2022-01-16T19:02:59.774Z"
   },
   {
    "duration": 34,
    "start_time": "2022-01-16T19:02:59.782Z"
   },
   {
    "duration": 1136,
    "start_time": "2022-01-16T19:02:59.820Z"
   },
   {
    "duration": 22,
    "start_time": "2022-01-16T19:05:40.918Z"
   },
   {
    "duration": 98,
    "start_time": "2022-01-16T19:10:23.729Z"
   },
   {
    "duration": 708,
    "start_time": "2022-01-16T19:26:18.101Z"
   },
   {
    "duration": 611,
    "start_time": "2022-01-16T19:26:53.446Z"
   },
   {
    "duration": 18,
    "start_time": "2022-01-16T19:27:03.742Z"
   },
   {
    "duration": 12,
    "start_time": "2022-01-16T19:27:06.837Z"
   },
   {
    "duration": 15,
    "start_time": "2022-01-16T19:27:44.326Z"
   },
   {
    "duration": 181,
    "start_time": "2022-01-16T19:29:30.634Z"
   },
   {
    "duration": 860,
    "start_time": "2022-01-16T19:30:59.981Z"
   },
   {
    "duration": 471,
    "start_time": "2022-01-16T19:54:53.997Z"
   },
   {
    "duration": 481,
    "start_time": "2022-01-16T20:46:22.205Z"
   },
   {
    "duration": 279,
    "start_time": "2022-01-16T20:46:50.137Z"
   },
   {
    "duration": 306,
    "start_time": "2022-01-17T16:24:06.187Z"
   },
   {
    "duration": 1590,
    "start_time": "2022-01-17T16:24:10.331Z"
   },
   {
    "duration": 4137,
    "start_time": "2022-01-17T16:24:11.924Z"
   },
   {
    "duration": 78,
    "start_time": "2022-01-17T16:24:16.070Z"
   },
   {
    "duration": 6,
    "start_time": "2022-01-17T16:24:16.151Z"
   },
   {
    "duration": 90,
    "start_time": "2022-01-17T16:24:16.161Z"
   },
   {
    "duration": 16,
    "start_time": "2022-01-17T16:24:16.254Z"
   },
   {
    "duration": 500,
    "start_time": "2022-01-17T16:24:16.274Z"
   },
   {
    "duration": 285,
    "start_time": "2022-01-17T16:24:16.777Z"
   },
   {
    "duration": 654,
    "start_time": "2022-01-17T16:24:17.064Z"
   },
   {
    "duration": 34,
    "start_time": "2022-01-17T16:24:17.733Z"
   },
   {
    "duration": 652,
    "start_time": "2022-01-17T16:24:17.770Z"
   },
   {
    "duration": 3,
    "start_time": "2022-01-17T16:24:18.433Z"
   },
   {
    "duration": 46,
    "start_time": "2022-01-17T16:24:18.439Z"
   },
   {
    "duration": 56,
    "start_time": "2022-01-17T16:24:18.488Z"
   },
   {
    "duration": 6,
    "start_time": "2022-01-17T16:24:18.548Z"
   },
   {
    "duration": 124,
    "start_time": "2022-01-17T16:24:18.556Z"
   },
   {
    "duration": 4,
    "start_time": "2022-01-17T16:24:18.683Z"
   },
   {
    "duration": 23,
    "start_time": "2022-01-17T16:24:18.689Z"
   },
   {
    "duration": 25,
    "start_time": "2022-01-17T16:24:18.714Z"
   },
   {
    "duration": 799,
    "start_time": "2022-01-17T16:24:18.741Z"
   },
   {
    "duration": 15,
    "start_time": "2022-01-17T16:24:19.542Z"
   },
   {
    "duration": 614,
    "start_time": "2022-01-17T16:24:19.562Z"
   },
   {
    "duration": 4,
    "start_time": "2022-01-17T16:24:20.179Z"
   },
   {
    "duration": 70,
    "start_time": "2022-01-17T16:24:20.186Z"
   },
   {
    "duration": 17,
    "start_time": "2022-01-17T16:24:20.259Z"
   },
   {
    "duration": 15,
    "start_time": "2022-01-17T16:24:20.278Z"
   },
   {
    "duration": 4,
    "start_time": "2022-01-17T16:24:20.295Z"
   },
   {
    "duration": 31,
    "start_time": "2022-01-17T16:24:20.333Z"
   },
   {
    "duration": 26,
    "start_time": "2022-01-17T16:24:20.366Z"
   },
   {
    "duration": 675,
    "start_time": "2022-01-17T16:24:20.395Z"
   },
   {
    "duration": 165,
    "start_time": "2022-01-17T16:24:21.073Z"
   },
   {
    "duration": 13,
    "start_time": "2022-01-17T16:24:21.241Z"
   },
   {
    "duration": 14,
    "start_time": "2022-01-17T16:24:21.256Z"
   },
   {
    "duration": 562,
    "start_time": "2022-01-17T16:24:21.273Z"
   },
   {
    "duration": 26,
    "start_time": "2022-01-17T16:24:21.837Z"
   },
   {
    "duration": 26,
    "start_time": "2022-01-17T16:24:21.865Z"
   },
   {
    "duration": 67,
    "start_time": "2022-01-17T16:24:21.894Z"
   },
   {
    "duration": 12,
    "start_time": "2022-01-17T16:24:21.963Z"
   },
   {
    "duration": 21,
    "start_time": "2022-01-17T16:24:21.977Z"
   },
   {
    "duration": 33,
    "start_time": "2022-01-17T16:24:22.001Z"
   },
   {
    "duration": 25,
    "start_time": "2022-01-17T16:24:22.037Z"
   },
   {
    "duration": 712,
    "start_time": "2022-01-17T16:24:22.064Z"
   },
   {
    "duration": 23,
    "start_time": "2022-01-17T16:24:22.778Z"
   },
   {
    "duration": 4,
    "start_time": "2022-01-17T16:24:22.803Z"
   },
   {
    "duration": 30,
    "start_time": "2022-01-17T16:24:22.833Z"
   },
   {
    "duration": 1054,
    "start_time": "2022-01-17T16:24:22.866Z"
   },
   {
    "duration": 27,
    "start_time": "2022-01-17T16:26:54.592Z"
   },
   {
    "duration": 859,
    "start_time": "2022-01-17T16:26:58.356Z"
   },
   {
    "duration": 28,
    "start_time": "2022-01-17T16:27:41.349Z"
   },
   {
    "duration": 866,
    "start_time": "2022-01-17T16:27:45.907Z"
   },
   {
    "duration": 535,
    "start_time": "2022-01-17T16:51:20.591Z"
   },
   {
    "duration": 460,
    "start_time": "2022-01-17T16:51:26.276Z"
   },
   {
    "duration": 455,
    "start_time": "2022-01-17T17:00:07.455Z"
   },
   {
    "duration": 332,
    "start_time": "2022-01-17T17:11:07.241Z"
   },
   {
    "duration": 8,
    "start_time": "2022-01-17T17:12:18.120Z"
   },
   {
    "duration": 244,
    "start_time": "2022-01-17T17:12:19.277Z"
   },
   {
    "duration": 7,
    "start_time": "2022-01-17T17:12:36.664Z"
   },
   {
    "duration": 267,
    "start_time": "2022-01-17T17:12:38.943Z"
   },
   {
    "duration": 229,
    "start_time": "2022-01-17T17:12:42.675Z"
   },
   {
    "duration": 747,
    "start_time": "2022-01-17T17:17:18.046Z"
   },
   {
    "duration": 873,
    "start_time": "2022-01-17T17:47:18.720Z"
   },
   {
    "duration": 792,
    "start_time": "2022-01-17T17:47:38.571Z"
   },
   {
    "duration": 1123,
    "start_time": "2022-01-17T17:47:46.800Z"
   },
   {
    "duration": 6629,
    "start_time": "2022-01-17T18:16:29.974Z"
   },
   {
    "duration": 20,
    "start_time": "2022-01-17T18:16:49.987Z"
   },
   {
    "duration": 915,
    "start_time": "2022-01-17T18:31:56.387Z"
   },
   {
    "duration": 1764,
    "start_time": "2022-01-17T19:18:21.383Z"
   },
   {
    "duration": 3362,
    "start_time": "2022-01-17T19:18:23.150Z"
   },
   {
    "duration": 57,
    "start_time": "2022-01-17T19:18:26.516Z"
   },
   {
    "duration": 5,
    "start_time": "2022-01-17T19:18:26.576Z"
   },
   {
    "duration": 84,
    "start_time": "2022-01-17T19:18:26.583Z"
   },
   {
    "duration": 15,
    "start_time": "2022-01-17T19:18:26.670Z"
   },
   {
    "duration": 514,
    "start_time": "2022-01-17T19:18:26.689Z"
   },
   {
    "duration": 285,
    "start_time": "2022-01-17T19:18:27.205Z"
   },
   {
    "duration": 698,
    "start_time": "2022-01-17T19:18:27.494Z"
   },
   {
    "duration": 45,
    "start_time": "2022-01-17T19:18:28.195Z"
   },
   {
    "duration": 664,
    "start_time": "2022-01-17T19:18:28.243Z"
   },
   {
    "duration": 4,
    "start_time": "2022-01-17T19:18:28.910Z"
   },
   {
    "duration": 64,
    "start_time": "2022-01-17T19:18:28.917Z"
   },
   {
    "duration": 72,
    "start_time": "2022-01-17T19:18:28.984Z"
   },
   {
    "duration": 10,
    "start_time": "2022-01-17T19:18:29.058Z"
   },
   {
    "duration": 26,
    "start_time": "2022-01-17T19:18:29.070Z"
   },
   {
    "duration": 10,
    "start_time": "2022-01-17T19:18:29.099Z"
   },
   {
    "duration": 49,
    "start_time": "2022-01-17T19:18:29.112Z"
   },
   {
    "duration": 19,
    "start_time": "2022-01-17T19:18:29.164Z"
   },
   {
    "duration": 978,
    "start_time": "2022-01-17T19:18:29.186Z"
   },
   {
    "duration": 17,
    "start_time": "2022-01-17T19:18:30.168Z"
   },
   {
    "duration": 1059,
    "start_time": "2022-01-17T19:18:30.188Z"
   },
   {
    "duration": 5,
    "start_time": "2022-01-17T19:18:31.251Z"
   },
   {
    "duration": 75,
    "start_time": "2022-01-17T19:18:31.259Z"
   },
   {
    "duration": 16,
    "start_time": "2022-01-17T19:18:31.336Z"
   },
   {
    "duration": 17,
    "start_time": "2022-01-17T19:18:31.355Z"
   },
   {
    "duration": 4,
    "start_time": "2022-01-17T19:18:31.377Z"
   },
   {
    "duration": 79,
    "start_time": "2022-01-17T19:18:31.384Z"
   },
   {
    "duration": 27,
    "start_time": "2022-01-17T19:18:31.466Z"
   },
   {
    "duration": 689,
    "start_time": "2022-01-17T19:18:31.495Z"
   },
   {
    "duration": 178,
    "start_time": "2022-01-17T19:18:32.186Z"
   },
   {
    "duration": 12,
    "start_time": "2022-01-17T19:18:32.367Z"
   },
   {
    "duration": 10,
    "start_time": "2022-01-17T19:18:32.381Z"
   },
   {
    "duration": 517,
    "start_time": "2022-01-17T19:18:32.393Z"
   },
   {
    "duration": 28,
    "start_time": "2022-01-17T19:18:32.913Z"
   },
   {
    "duration": 23,
    "start_time": "2022-01-17T19:18:32.944Z"
   },
   {
    "duration": 25,
    "start_time": "2022-01-17T19:18:32.970Z"
   },
   {
    "duration": 49,
    "start_time": "2022-01-17T19:18:32.997Z"
   },
   {
    "duration": 18,
    "start_time": "2022-01-17T19:18:33.049Z"
   },
   {
    "duration": 5,
    "start_time": "2022-01-17T19:18:33.070Z"
   },
   {
    "duration": 21,
    "start_time": "2022-01-17T19:18:33.078Z"
   },
   {
    "duration": 687,
    "start_time": "2022-01-17T19:18:33.101Z"
   },
   {
    "duration": 42,
    "start_time": "2022-01-17T19:18:33.791Z"
   },
   {
    "duration": 5,
    "start_time": "2022-01-17T19:18:33.836Z"
   },
   {
    "duration": 33,
    "start_time": "2022-01-17T19:18:33.844Z"
   },
   {
    "duration": 886,
    "start_time": "2022-01-17T19:18:33.880Z"
   },
   {
    "duration": 1556,
    "start_time": "2022-01-17T20:21:25.703Z"
   },
   {
    "duration": 76112,
    "start_time": "2022-01-17T20:21:27.262Z"
   },
   {
    "duration": 82,
    "start_time": "2022-01-17T20:22:43.378Z"
   },
   {
    "duration": 6,
    "start_time": "2022-01-17T20:22:43.463Z"
   },
   {
    "duration": 187,
    "start_time": "2022-01-17T20:22:43.472Z"
   },
   {
    "duration": 20,
    "start_time": "2022-01-17T20:22:43.663Z"
   },
   {
    "duration": 576,
    "start_time": "2022-01-17T20:22:43.685Z"
   },
   {
    "duration": 392,
    "start_time": "2022-01-17T20:22:44.267Z"
   },
   {
    "duration": 808,
    "start_time": "2022-01-17T20:22:44.663Z"
   },
   {
    "duration": 36,
    "start_time": "2022-01-17T20:22:45.474Z"
   },
   {
    "duration": 687,
    "start_time": "2022-01-17T20:22:45.512Z"
   },
   {
    "duration": 3,
    "start_time": "2022-01-17T20:22:46.202Z"
   },
   {
    "duration": 53,
    "start_time": "2022-01-17T20:22:46.208Z"
   },
   {
    "duration": 37,
    "start_time": "2022-01-17T20:22:46.264Z"
   },
   {
    "duration": 9,
    "start_time": "2022-01-17T20:22:46.304Z"
   },
   {
    "duration": 151,
    "start_time": "2022-01-17T20:22:46.316Z"
   },
   {
    "duration": 6,
    "start_time": "2022-01-17T20:22:46.470Z"
   },
   {
    "duration": 24,
    "start_time": "2022-01-17T20:22:46.480Z"
   },
   {
    "duration": 18,
    "start_time": "2022-01-17T20:22:46.507Z"
   },
   {
    "duration": 883,
    "start_time": "2022-01-17T20:22:46.559Z"
   },
   {
    "duration": 19,
    "start_time": "2022-01-17T20:22:47.445Z"
   },
   {
    "duration": 644,
    "start_time": "2022-01-17T20:22:47.466Z"
   },
   {
    "duration": 5,
    "start_time": "2022-01-17T20:22:48.117Z"
   },
   {
    "duration": 69,
    "start_time": "2022-01-17T20:22:48.125Z"
   },
   {
    "duration": 17,
    "start_time": "2022-01-17T20:22:48.197Z"
   },
   {
    "duration": 52,
    "start_time": "2022-01-17T20:22:48.217Z"
   },
   {
    "duration": 5,
    "start_time": "2022-01-17T20:22:48.273Z"
   },
   {
    "duration": 34,
    "start_time": "2022-01-17T20:22:48.281Z"
   },
   {
    "duration": 54,
    "start_time": "2022-01-17T20:22:48.318Z"
   },
   {
    "duration": 792,
    "start_time": "2022-01-17T20:22:48.375Z"
   },
   {
    "duration": 2268,
    "start_time": "2022-01-17T20:22:49.169Z"
   },
   {
    "duration": 21,
    "start_time": "2022-01-17T20:22:51.418Z"
   },
   {
    "duration": 18,
    "start_time": "2022-01-17T20:22:51.422Z"
   },
   {
    "duration": 17,
    "start_time": "2022-01-17T20:22:51.425Z"
   },
   {
    "duration": 16,
    "start_time": "2022-01-17T20:22:51.428Z"
   },
   {
    "duration": 15,
    "start_time": "2022-01-17T20:22:51.430Z"
   },
   {
    "duration": 13,
    "start_time": "2022-01-17T20:22:51.433Z"
   },
   {
    "duration": 12,
    "start_time": "2022-01-17T20:22:51.436Z"
   },
   {
    "duration": 10,
    "start_time": "2022-01-17T20:22:51.439Z"
   },
   {
    "duration": 0,
    "start_time": "2022-01-17T20:22:51.450Z"
   },
   {
    "duration": -1,
    "start_time": "2022-01-17T20:22:51.453Z"
   },
   {
    "duration": -3,
    "start_time": "2022-01-17T20:22:51.456Z"
   },
   {
    "duration": -3,
    "start_time": "2022-01-17T20:22:51.458Z"
   },
   {
    "duration": -5,
    "start_time": "2022-01-17T20:22:51.461Z"
   },
   {
    "duration": -7,
    "start_time": "2022-01-17T20:22:51.464Z"
   },
   {
    "duration": -7,
    "start_time": "2022-01-17T20:22:51.466Z"
   },
   {
    "duration": 231,
    "start_time": "2022-01-17T21:07:33.693Z"
   },
   {
    "duration": 85,
    "start_time": "2022-01-17T21:08:32.225Z"
   },
   {
    "duration": 89,
    "start_time": "2022-01-17T21:09:08.142Z"
   },
   {
    "duration": 83,
    "start_time": "2022-01-17T21:11:46.881Z"
   },
   {
    "duration": 97,
    "start_time": "2022-01-17T21:12:16.267Z"
   },
   {
    "duration": 116,
    "start_time": "2022-01-17T21:12:25.218Z"
   },
   {
    "duration": 91,
    "start_time": "2022-01-17T21:12:31.905Z"
   },
   {
    "duration": 92,
    "start_time": "2022-01-17T21:12:37.095Z"
   },
   {
    "duration": 785,
    "start_time": "2022-01-17T21:14:43.397Z"
   },
   {
    "duration": 790,
    "start_time": "2022-01-17T21:15:20.022Z"
   },
   {
    "duration": 1462,
    "start_time": "2022-01-17T21:15:35.161Z"
   },
   {
    "duration": 3378,
    "start_time": "2022-01-17T21:15:36.626Z"
   },
   {
    "duration": 59,
    "start_time": "2022-01-17T21:15:40.010Z"
   },
   {
    "duration": 5,
    "start_time": "2022-01-17T21:15:40.071Z"
   },
   {
    "duration": 79,
    "start_time": "2022-01-17T21:15:40.078Z"
   },
   {
    "duration": 17,
    "start_time": "2022-01-17T21:15:40.160Z"
   },
   {
    "duration": 496,
    "start_time": "2022-01-17T21:15:40.183Z"
   },
   {
    "duration": 282,
    "start_time": "2022-01-17T21:15:40.683Z"
   },
   {
    "duration": 675,
    "start_time": "2022-01-17T21:15:40.968Z"
   },
   {
    "duration": 33,
    "start_time": "2022-01-17T21:15:41.645Z"
   },
   {
    "duration": 642,
    "start_time": "2022-01-17T21:15:41.681Z"
   },
   {
    "duration": 3,
    "start_time": "2022-01-17T21:15:42.332Z"
   },
   {
    "duration": 35,
    "start_time": "2022-01-17T21:15:42.338Z"
   },
   {
    "duration": 86,
    "start_time": "2022-01-17T21:15:42.377Z"
   },
   {
    "duration": 9,
    "start_time": "2022-01-17T21:15:42.466Z"
   },
   {
    "duration": 24,
    "start_time": "2022-01-17T21:15:42.477Z"
   },
   {
    "duration": 29,
    "start_time": "2022-01-17T21:15:42.504Z"
   },
   {
    "duration": 19,
    "start_time": "2022-01-17T21:15:42.536Z"
   },
   {
    "duration": 15,
    "start_time": "2022-01-17T21:15:42.557Z"
   },
   {
    "duration": 871,
    "start_time": "2022-01-17T21:15:42.574Z"
   },
   {
    "duration": 15,
    "start_time": "2022-01-17T21:15:43.448Z"
   },
   {
    "duration": 719,
    "start_time": "2022-01-17T21:15:43.466Z"
   },
   {
    "duration": 4,
    "start_time": "2022-01-17T21:15:44.188Z"
   },
   {
    "duration": 64,
    "start_time": "2022-01-17T21:15:44.194Z"
   },
   {
    "duration": 15,
    "start_time": "2022-01-17T21:15:44.263Z"
   },
   {
    "duration": 24,
    "start_time": "2022-01-17T21:15:44.281Z"
   },
   {
    "duration": 25,
    "start_time": "2022-01-17T21:15:44.308Z"
   },
   {
    "duration": 37,
    "start_time": "2022-01-17T21:15:44.336Z"
   },
   {
    "duration": 22,
    "start_time": "2022-01-17T21:15:44.375Z"
   },
   {
    "duration": 667,
    "start_time": "2022-01-17T21:15:44.400Z"
   },
   {
    "duration": 852,
    "start_time": "2022-01-17T21:15:45.069Z"
   },
   {
    "duration": 12,
    "start_time": "2022-01-17T21:15:45.924Z"
   },
   {
    "duration": 18,
    "start_time": "2022-01-17T21:15:45.938Z"
   },
   {
    "duration": 890,
    "start_time": "2022-01-17T21:15:45.958Z"
   },
   {
    "duration": 31,
    "start_time": "2022-01-17T21:15:46.852Z"
   },
   {
    "duration": 57,
    "start_time": "2022-01-17T21:15:46.886Z"
   },
   {
    "duration": 25,
    "start_time": "2022-01-17T21:15:46.945Z"
   },
   {
    "duration": 11,
    "start_time": "2022-01-17T21:15:46.972Z"
   },
   {
    "duration": 15,
    "start_time": "2022-01-17T21:15:46.985Z"
   },
   {
    "duration": 6,
    "start_time": "2022-01-17T21:15:47.033Z"
   },
   {
    "duration": 22,
    "start_time": "2022-01-17T21:15:47.042Z"
   },
   {
    "duration": 770,
    "start_time": "2022-01-17T21:15:47.067Z"
   },
   {
    "duration": 21,
    "start_time": "2022-01-17T21:15:47.839Z"
   },
   {
    "duration": 4,
    "start_time": "2022-01-17T21:15:47.863Z"
   },
   {
    "duration": 62,
    "start_time": "2022-01-17T21:15:47.870Z"
   },
   {
    "duration": 880,
    "start_time": "2022-01-17T21:15:47.935Z"
   },
   {
    "duration": 87,
    "start_time": "2022-01-17T21:21:06.620Z"
   },
   {
    "duration": 93,
    "start_time": "2022-01-17T22:22:59.567Z"
   },
   {
    "duration": 1426,
    "start_time": "2022-01-17T22:37:16.261Z"
   },
   {
    "duration": 3127,
    "start_time": "2022-01-17T22:37:17.690Z"
   },
   {
    "duration": 57,
    "start_time": "2022-01-17T22:37:20.821Z"
   },
   {
    "duration": 5,
    "start_time": "2022-01-17T22:37:20.880Z"
   },
   {
    "duration": 77,
    "start_time": "2022-01-17T22:37:20.887Z"
   },
   {
    "duration": 14,
    "start_time": "2022-01-17T22:37:20.966Z"
   },
   {
    "duration": 494,
    "start_time": "2022-01-17T22:37:20.982Z"
   },
   {
    "duration": 317,
    "start_time": "2022-01-17T22:37:21.481Z"
   },
   {
    "duration": 686,
    "start_time": "2022-01-17T22:37:21.801Z"
   },
   {
    "duration": 32,
    "start_time": "2022-01-17T22:37:22.489Z"
   },
   {
    "duration": 849,
    "start_time": "2022-01-17T22:37:22.523Z"
   },
   {
    "duration": 3,
    "start_time": "2022-01-17T22:37:23.374Z"
   },
   {
    "duration": 35,
    "start_time": "2022-01-17T22:37:23.379Z"
   },
   {
    "duration": 46,
    "start_time": "2022-01-17T22:37:23.416Z"
   },
   {
    "duration": 11,
    "start_time": "2022-01-17T22:37:23.465Z"
   },
   {
    "duration": 22,
    "start_time": "2022-01-17T22:37:23.479Z"
   },
   {
    "duration": 4,
    "start_time": "2022-01-17T22:37:23.503Z"
   },
   {
    "duration": 17,
    "start_time": "2022-01-17T22:37:23.533Z"
   },
   {
    "duration": 13,
    "start_time": "2022-01-17T22:37:23.553Z"
   },
   {
    "duration": 828,
    "start_time": "2022-01-17T22:37:23.569Z"
   },
   {
    "duration": 14,
    "start_time": "2022-01-17T22:37:24.399Z"
   },
   {
    "duration": 688,
    "start_time": "2022-01-17T22:37:24.416Z"
   },
   {
    "duration": 4,
    "start_time": "2022-01-17T22:37:25.107Z"
   },
   {
    "duration": 60,
    "start_time": "2022-01-17T22:37:25.114Z"
   },
   {
    "duration": 13,
    "start_time": "2022-01-17T22:37:25.177Z"
   },
   {
    "duration": 43,
    "start_time": "2022-01-17T22:37:25.196Z"
   },
   {
    "duration": 4,
    "start_time": "2022-01-17T22:37:25.242Z"
   },
   {
    "duration": 40,
    "start_time": "2022-01-17T22:37:25.249Z"
   },
   {
    "duration": 47,
    "start_time": "2022-01-17T22:37:25.292Z"
   },
   {
    "duration": 646,
    "start_time": "2022-01-17T22:37:25.342Z"
   },
   {
    "duration": 1105,
    "start_time": "2022-01-17T22:37:25.990Z"
   },
   {
    "duration": 12,
    "start_time": "2022-01-17T22:37:27.097Z"
   },
   {
    "duration": 10,
    "start_time": "2022-01-17T22:37:27.112Z"
   },
   {
    "duration": 485,
    "start_time": "2022-01-17T22:37:27.124Z"
   },
   {
    "duration": 28,
    "start_time": "2022-01-17T22:37:27.611Z"
   },
   {
    "duration": 25,
    "start_time": "2022-01-17T22:37:27.641Z"
   },
   {
    "duration": 25,
    "start_time": "2022-01-17T22:37:27.668Z"
   },
   {
    "duration": 39,
    "start_time": "2022-01-17T22:37:27.695Z"
   },
   {
    "duration": 16,
    "start_time": "2022-01-17T22:37:27.736Z"
   },
   {
    "duration": 5,
    "start_time": "2022-01-17T22:37:27.754Z"
   },
   {
    "duration": 21,
    "start_time": "2022-01-17T22:37:27.762Z"
   },
   {
    "duration": 659,
    "start_time": "2022-01-17T22:37:27.785Z"
   },
   {
    "duration": 23,
    "start_time": "2022-01-17T22:37:28.446Z"
   },
   {
    "duration": 5,
    "start_time": "2022-01-17T22:37:28.472Z"
   },
   {
    "duration": 64,
    "start_time": "2022-01-17T22:37:28.480Z"
   },
   {
    "duration": 837,
    "start_time": "2022-01-17T22:37:28.546Z"
   },
   {
    "duration": 1176,
    "start_time": "2022-01-18T17:01:41.244Z"
   },
   {
    "duration": 66362,
    "start_time": "2022-01-18T17:01:42.422Z"
   },
   {
    "duration": 52,
    "start_time": "2022-01-18T17:02:48.787Z"
   },
   {
    "duration": 3,
    "start_time": "2022-01-18T17:02:48.842Z"
   },
   {
    "duration": 40,
    "start_time": "2022-01-18T17:02:48.847Z"
   },
   {
    "duration": 11,
    "start_time": "2022-01-18T17:02:48.889Z"
   },
   {
    "duration": 313,
    "start_time": "2022-01-18T17:02:48.901Z"
   },
   {
    "duration": 184,
    "start_time": "2022-01-18T17:02:49.216Z"
   },
   {
    "duration": 429,
    "start_time": "2022-01-18T17:02:49.404Z"
   },
   {
    "duration": 23,
    "start_time": "2022-01-18T17:02:49.835Z"
   },
   {
    "duration": 383,
    "start_time": "2022-01-18T17:02:49.859Z"
   },
   {
    "duration": 3,
    "start_time": "2022-01-18T17:02:50.244Z"
   },
   {
    "duration": 22,
    "start_time": "2022-01-18T17:02:50.248Z"
   },
   {
    "duration": 23,
    "start_time": "2022-01-18T17:02:50.272Z"
   },
   {
    "duration": 4,
    "start_time": "2022-01-18T17:02:50.297Z"
   },
   {
    "duration": 106,
    "start_time": "2022-01-18T17:02:50.302Z"
   },
   {
    "duration": 3,
    "start_time": "2022-01-18T17:02:50.410Z"
   },
   {
    "duration": 23,
    "start_time": "2022-01-18T17:02:50.415Z"
   },
   {
    "duration": 11,
    "start_time": "2022-01-18T17:02:50.439Z"
   },
   {
    "duration": 540,
    "start_time": "2022-01-18T17:02:50.451Z"
   },
   {
    "duration": 10,
    "start_time": "2022-01-18T17:02:50.993Z"
   },
   {
    "duration": 365,
    "start_time": "2022-01-18T17:02:51.004Z"
   },
   {
    "duration": 2,
    "start_time": "2022-01-18T17:02:51.371Z"
   },
   {
    "duration": 29,
    "start_time": "2022-01-18T17:02:51.374Z"
   },
   {
    "duration": 24,
    "start_time": "2022-01-18T17:02:51.404Z"
   },
   {
    "duration": 18,
    "start_time": "2022-01-18T17:02:51.430Z"
   },
   {
    "duration": 4,
    "start_time": "2022-01-18T17:02:51.452Z"
   },
   {
    "duration": 23,
    "start_time": "2022-01-18T17:02:51.458Z"
   },
   {
    "duration": 16,
    "start_time": "2022-01-18T17:02:51.483Z"
   },
   {
    "duration": 404,
    "start_time": "2022-01-18T17:02:51.500Z"
   },
   {
    "duration": 1220,
    "start_time": "2022-01-18T17:02:51.905Z"
   },
   {
    "duration": 13,
    "start_time": "2022-01-18T17:02:53.127Z"
   },
   {
    "duration": 10,
    "start_time": "2022-01-18T17:02:53.142Z"
   },
   {
    "duration": 267,
    "start_time": "2022-01-18T17:02:53.153Z"
   },
   {
    "duration": 19,
    "start_time": "2022-01-18T17:02:53.421Z"
   },
   {
    "duration": 20,
    "start_time": "2022-01-18T17:02:53.442Z"
   },
   {
    "duration": 14,
    "start_time": "2022-01-18T17:02:53.464Z"
   },
   {
    "duration": 7,
    "start_time": "2022-01-18T17:02:53.479Z"
   },
   {
    "duration": 10,
    "start_time": "2022-01-18T17:02:53.487Z"
   },
   {
    "duration": 5,
    "start_time": "2022-01-18T17:02:53.527Z"
   },
   {
    "duration": 27,
    "start_time": "2022-01-18T17:02:53.533Z"
   },
   {
    "duration": 369,
    "start_time": "2022-01-18T17:02:53.561Z"
   },
   {
    "duration": 18,
    "start_time": "2022-01-18T17:02:53.932Z"
   },
   {
    "duration": 2,
    "start_time": "2022-01-18T17:02:53.951Z"
   },
   {
    "duration": 17,
    "start_time": "2022-01-18T17:02:53.955Z"
   },
   {
    "duration": 523,
    "start_time": "2022-01-18T17:02:53.973Z"
   }
  ],
  "kernelspec": {
   "display_name": "Python 3 (ipykernel)",
   "language": "python",
   "name": "python3"
  },
  "language_info": {
   "codemirror_mode": {
    "name": "ipython",
    "version": 3
   },
   "file_extension": ".py",
   "mimetype": "text/x-python",
   "name": "python",
   "nbconvert_exporter": "python",
   "pygments_lexer": "ipython3",
   "version": "3.9.7"
  },
  "toc": {
   "base_numbering": 1,
   "nav_menu": {},
   "number_sections": true,
   "sideBar": true,
   "skip_h1_title": true,
   "title_cell": "Table of Contents",
   "title_sidebar": "Contents",
   "toc_cell": false,
   "toc_position": {},
   "toc_section_display": true,
   "toc_window_display": false
  }
 },
 "nbformat": 4,
 "nbformat_minor": 2
}
